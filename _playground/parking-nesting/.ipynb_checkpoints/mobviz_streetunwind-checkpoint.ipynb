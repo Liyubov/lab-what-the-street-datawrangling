{
 "cells": [
  {
   "cell_type": "code",
   "execution_count": 1,
   "metadata": {
    "collapsed": true
   },
   "outputs": [],
   "source": [
    "%matplotlib inline"
   ]
  },
  {
   "cell_type": "markdown",
   "metadata": {},
   "source": [
    "# Determine street unwind order\n",
    "\n",
    "Created on:  2016-11-15  \n",
    "Last update: 2016-11-16  \n",
    "Contact: michael.szell@moovel.com, michael.szell@gmail.com (Michael Szell)"
   ]
  },
  {
   "cell_type": "code",
   "execution_count": 10,
   "metadata": {
    "collapsed": true
   },
   "outputs": [],
   "source": [
    "# preliminaries\n",
    "from __future__ import unicode_literals\n",
    "import sys\n",
    "import csv\n",
    "import os\n",
    "import math\n",
    "import pprint\n",
    "import requests\n",
    "import gzip\n",
    "from collections import defaultdict\n",
    "import time\n",
    "import datetime\n",
    "import numpy as np\n",
    "from scipy import stats\n",
    "import pyprind\n",
    "import itertools\n",
    "import logging\n",
    "from ast import literal_eval as make_tuple\n",
    "from collections import OrderedDict\n",
    "from retrying import retry\n",
    "\n",
    "import osmnx as ox\n",
    "import networkx as nx\n",
    "import json\n",
    "from shapely.geometry import mapping, shape, LineString, LinearRing, Polygon, MultiPolygon\n",
    "import shapely\n",
    "import shapely.ops as ops\n",
    "from functools import partial\n",
    "import pyproj\n",
    "from scipy import spatial\n",
    "from haversine import haversine\n",
    "\n",
    "import pymongo\n",
    "from pymongo import MongoClient\n",
    "\n",
    "# plotting stuff\n",
    "import matplotlib.pyplot as plt\n",
    "\n",
    "pathdatain = '/Users/szellmi/Google Drive/MOOVELLAB/00_Projects/mobviz/data/geo/'\n",
    "pathdataout = '/Users/szellmi/Google Drive/MOOVELLAB/00_Projects/mobviz/data/geo/derived/'\n",
    "pp = pprint.PrettyPrinter(indent=4)\n",
    "\n",
    "# City parameters (generalize later)\n",
    "cityname = \"berlin\"\n",
    "bbox = \"52.33812, 13.0884, 52.675499, 13.76134\" \n",
    "# berlin: 52.33812, 13.0884, 52.675499, 13.76134\n",
    "# newyork: 40.496044, -74.255735, 40.915256, -73.700272\n",
    "# stuttgart: 48.46, 8.79, 48.93, 9.50\n",
    "# amsterdam: 52.3216, 4.7685, 52.4251, 5.0173\n"
   ]
  },
  {
   "cell_type": "code",
   "execution_count": 112,
   "metadata": {
    "collapsed": true
   },
   "outputs": [],
   "source": [
    "client = MongoClient()\n",
    "db = client[cityname+'_raw']\n",
    "ways = db['ways']\n",
    "nodes = db['nodes']\n",
    "db_derived = client[cityname+'_derived']\n",
    "streets = db_derived['streets']"
   ]
  },
  {
   "cell_type": "code",
   "execution_count": 153,
   "metadata": {
    "collapsed": false
   },
   "outputs": [],
   "source": [
    "def assembleStreet(ways, streetname = \"Achillesstraße\", drawit = False):\n",
    "    oxelements = []\n",
    "    elemnodesint = set()\n",
    "    elemways = []\n",
    "    elemnodes = []\n",
    "    nodesdict = {}\n",
    "    for i,way in enumerate(ways.find({\"tags.name\":streetname})):\n",
    "        for n in way[\"loc\"][\"nodes\"]:\n",
    "            elemnodesint.add(int(n))\n",
    "        elemways.append({\"id\": int(way[\"_id\"]), \"nodes\":[int(way[\"loc\"][\"nodes\"][k]) for k in range(len(way[\"loc\"][\"nodes\"]))], \"tags\": way[\"tags\"], \"type\": \"way\"})\n",
    "\n",
    "    for n in elemnodesint:\n",
    "        for nd in nodes.find({\"_id\": n}):\n",
    "            elemnodes.append({\"id\": int(nd[\"_id\"]), \"lat\": nd[\"loc\"][\"coordinates\"][1], \"lon\": nd[\"loc\"][\"coordinates\"][0], \"type\": \"node\"})\n",
    "            nodesdict[str(int(nd[\"_id\"]))] = {\"lat\": nd[\"loc\"][\"coordinates\"][1], \"lon\": nd[\"loc\"][\"coordinates\"][0]}\n",
    "\n",
    "    oxelements = [{\"elements\": elemnodes + elemways}]\n",
    "    \n",
    "    G = ox.create_graph(oxelements, retain_all=True)\n",
    "    if drawit:\n",
    "        fig, ax = ox.plot_graph(G)\n",
    "    G = nx.Graph(G)\n",
    "    G = G.to_undirected()\n",
    "    ccs = list(nx.connected_component_subgraphs(G))\n",
    "\n",
    "    components = []\n",
    "    for c in range(len(ccs)):\n",
    "        deglist = np.array(list((ccs[c].degree_iter())))\n",
    "        endptindices = np.where(deglist[:, 1] == 1)\n",
    "        # Look which of the endpoints lies most western, take that as the source for DFS traversal\n",
    "        west = float('inf')\n",
    "        source = deglist[0, 0]\n",
    "        for i in list(endptindices[0]):\n",
    "            westthis = nodesdict[str(deglist[i, 0])][\"lon\"]\n",
    "            if westthis < west:\n",
    "                source = deglist[i, 0]\n",
    "                west = westthis\n",
    "\n",
    "        component = []\n",
    "        dfsedges = list(nx.dfs_edges(ccs[c], source))\n",
    "        nend = dfsedges[0][0]\n",
    "        path = [str(nend)]\n",
    "        for e in dfsedges:\n",
    "            if e[0] == nend: # path grows\n",
    "                path.append(str(e[1]))\n",
    "            else: # new path\n",
    "                component.append(path)\n",
    "                path = [str(e[0]), str(e[1])]\n",
    "            nend = e[1]    \n",
    "        component.append(path) # last path\n",
    "        components.append(component)\n",
    "        \n",
    "    output = {\"tags\":{\"name\":streetname}, \"components\":components, \"nodes\":nodesdict}\n",
    "    return output"
   ]
  },
  {
   "cell_type": "code",
   "execution_count": null,
   "metadata": {
    "collapsed": true
   },
   "outputs": [],
   "source": [
    "# test case\n",
    "oxelements = [{\"elements\": [{   'id': 1,\n",
    "                            'lat': 0,\n",
    "                            'lon': -1,\n",
    "                            'type': 'node'},\n",
    "                            {   'id': 2,\n",
    "                            'lat': 0,\n",
    "                            'lon': 1,\n",
    "                            'type': 'node'},\n",
    "                            {   'id': 3,\n",
    "                            'lat': -1,\n",
    "                            'lon': 1,\n",
    "                            'type': 'node'},\n",
    "                            {   'id': 4,\n",
    "                            'lat': -2,\n",
    "                            'lon': 1,\n",
    "                            'type': 'node'},\n",
    "                            {   'id': 5,\n",
    "                            'lat': 0,\n",
    "                            'lon': 2,\n",
    "                            'type': 'node'},\n",
    "                            {   'id': 6,\n",
    "                            'lat': -1,\n",
    "                            'lon': 0,\n",
    "                            'type': 'node'},\n",
    "                            {   'id': 7,\n",
    "                            'lat': 0,\n",
    "                            'lon': 3,\n",
    "                            'type': 'node'},\n",
    "                            {   'id': 8,\n",
    "                            'lat': -1,\n",
    "                            'lon': 4,\n",
    "                            'type': 'node'},\n",
    "                            {   'id': 91,\n",
    "                            'nodes': [1, 2, 3],\n",
    "                            'type': 'way'},\n",
    "                            {   'id': 92,\n",
    "                            'nodes': [2, 5],\n",
    "                            'type': 'way'},\n",
    "                            {   'id': 93,\n",
    "                            'nodes': [3, 4],\n",
    "                            'type': 'way'},\n",
    "                            {   'id': 94,\n",
    "                            'nodes': [6, 3],\n",
    "                            'type': 'way'},\n",
    "                            {   'id': 95,\n",
    "                            'nodes': [7, 8],\n",
    "                            'type': 'way'}\n",
    "                           ]}]    \n",
    "nodesdict = {\"1\":{'lat': 0, 'lon': -1}, \n",
    "            \"2\":{'lat': 0, 'lon': 1}, \n",
    "            \"3\":{'lat': -1, 'lon': 1}, \n",
    "            \"4\":{'lat': -2, 'lon': 1}, \n",
    "            \"5\":{'lat': 0, 'lon': 2}, \n",
    "            \"6\":{'lat': -1, 'lon': 0}, \n",
    "            \"7\":{'lat': 0, 'lon': 3}, \n",
    "            \"8\":{'lat': -1, 'lon': 4}\n",
    "            }"
   ]
  },
  {
   "cell_type": "code",
   "execution_count": 155,
   "metadata": {
    "collapsed": false
   },
   "outputs": [
    {
     "data": {
      "image/png": "[encoded data removed]",
      "text/plain": [
       "<matplotlib.figure.Figure at 0x10bee9d68>"
      ]
     },
     "metadata": {},
     "output_type": "display_data"
    },
    {
     "ename": "TypeError",
     "evalue": "document must be an instance of dict, bson.son.SON, bson.raw_bson.RawBSONDocument, or a type that inherits from collections.MutableMapping",
     "output_type": "error",
     "traceback": [
      "\u001b[0;31m---------------------------------------------------------------------------\u001b[0m",
      "\u001b[0;31mTypeError\u001b[0m                                 Traceback (most recent call last)",
      "\u001b[0;32m<ipython-input-155-f47b9d302184>\u001b[0m in \u001b[0;36m<module>\u001b[0;34m()\u001b[0m\n\u001b[1;32m      1\u001b[0m \u001b[0mbla\u001b[0m \u001b[0;34m=\u001b[0m \u001b[0massembleStreet\u001b[0m\u001b[0;34m(\u001b[0m\u001b[0mways\u001b[0m\u001b[0;34m,\u001b[0m \u001b[0;34m\"Achillesstraße\"\u001b[0m\u001b[0;34m,\u001b[0m \u001b[0;32mTrue\u001b[0m\u001b[0;34m)\u001b[0m\u001b[0;34m\u001b[0m\u001b[0m\n\u001b[1;32m      2\u001b[0m \u001b[0mblu\u001b[0m \u001b[0;34m=\u001b[0m \u001b[0mjson\u001b[0m\u001b[0;34m.\u001b[0m\u001b[0mdumps\u001b[0m\u001b[0;34m(\u001b[0m\u001b[0mbla\u001b[0m\u001b[0;34m,\u001b[0m \u001b[0mensure_ascii\u001b[0m\u001b[0;34m=\u001b[0m\u001b[0;32mFalse\u001b[0m\u001b[0;34m)\u001b[0m\u001b[0;34m\u001b[0m\u001b[0m\n\u001b[0;32m----> 3\u001b[0;31m \u001b[0mstreets\u001b[0m\u001b[0;34m.\u001b[0m\u001b[0minsert_one\u001b[0m\u001b[0;34m(\u001b[0m\u001b[0mblu\u001b[0m\u001b[0;34m)\u001b[0m\u001b[0;34m\u001b[0m\u001b[0m\n\u001b[0m",
      "\u001b[0;32m/Users/szellmi/anaconda3/lib/python3.5/site-packages/pymongo/collection.py\u001b[0m in \u001b[0;36minsert_one\u001b[0;34m(self, document, bypass_document_validation)\u001b[0m\n\u001b[1;32m    622\u001b[0m         \u001b[0;34m.\u001b[0m\u001b[0;34m.\u001b[0m \u001b[0mversionadded\u001b[0m\u001b[0;34m:\u001b[0m\u001b[0;34m:\u001b[0m \u001b[0;36m3.0\u001b[0m\u001b[0;34m\u001b[0m\u001b[0m\n\u001b[1;32m    623\u001b[0m         \"\"\"\n\u001b[0;32m--> 624\u001b[0;31m         \u001b[0mcommon\u001b[0m\u001b[0;34m.\u001b[0m\u001b[0mvalidate_is_document_type\u001b[0m\u001b[0;34m(\u001b[0m\u001b[0;34m\"document\"\u001b[0m\u001b[0;34m,\u001b[0m \u001b[0mdocument\u001b[0m\u001b[0;34m)\u001b[0m\u001b[0;34m\u001b[0m\u001b[0m\n\u001b[0m\u001b[1;32m    625\u001b[0m         \u001b[0;32mif\u001b[0m \u001b[0;32mnot\u001b[0m \u001b[0;34m(\u001b[0m\u001b[0misinstance\u001b[0m\u001b[0;34m(\u001b[0m\u001b[0mdocument\u001b[0m\u001b[0;34m,\u001b[0m \u001b[0mRawBSONDocument\u001b[0m\u001b[0;34m)\u001b[0m \u001b[0;32mor\u001b[0m \u001b[0;34m\"_id\"\u001b[0m \u001b[0;32min\u001b[0m \u001b[0mdocument\u001b[0m\u001b[0;34m)\u001b[0m\u001b[0;34m:\u001b[0m\u001b[0;34m\u001b[0m\u001b[0m\n\u001b[1;32m    626\u001b[0m             \u001b[0mdocument\u001b[0m\u001b[0;34m[\u001b[0m\u001b[0;34m\"_id\"\u001b[0m\u001b[0;34m]\u001b[0m \u001b[0;34m=\u001b[0m \u001b[0mObjectId\u001b[0m\u001b[0;34m(\u001b[0m\u001b[0;34m)\u001b[0m\u001b[0;34m\u001b[0m\u001b[0m\n",
      "\u001b[0;32m/Users/szellmi/anaconda3/lib/python3.5/site-packages/pymongo/common.py\u001b[0m in \u001b[0;36mvalidate_is_document_type\u001b[0;34m(option, value)\u001b[0m\n\u001b[1;32m    396\u001b[0m                         \u001b[0;34m\"bson.raw_bson.RawBSONDocument, or \"\u001b[0m\u001b[0;34m\u001b[0m\u001b[0m\n\u001b[1;32m    397\u001b[0m                         \u001b[0;34m\"a type that inherits from \"\u001b[0m\u001b[0;34m\u001b[0m\u001b[0m\n\u001b[0;32m--> 398\u001b[0;31m                         \"collections.MutableMapping\" % (option,))\n\u001b[0m\u001b[1;32m    399\u001b[0m \u001b[0;34m\u001b[0m\u001b[0m\n\u001b[1;32m    400\u001b[0m \u001b[0;34m\u001b[0m\u001b[0m\n",
      "\u001b[0;31mTypeError\u001b[0m: document must be an instance of dict, bson.son.SON, bson.raw_bson.RawBSONDocument, or a type that inherits from collections.MutableMapping"
     ]
    }
   ],
   "source": [
    "bla = assembleStreet(ways, \"Achillesstraße\", True)\n",
    "blu = json.dumps(bla, ensure_ascii=False)\n",
    "streets.insert_one(bla)\n"
   ]
  },
  {
   "cell_type": "code",
   "execution_count": null,
   "metadata": {
    "collapsed": false
   },
   "outputs": [],
   "source": [
    "# Tests\n",
    "bla = ox.osm_net_download(north=48.80393, south=48.80201, east=9.22657, west=9.22126)\n",
    "pp.pprint(bla)"
   ]
  }
 ],
 "metadata": {
  "anaconda-cloud": {},
  "kernelspec": {
   "display_name": "Python [Root]",
   "language": "python",
   "name": "Python [Root]"
  },
  "language_info": {
   "codemirror_mode": {
    "name": "ipython",
    "version": 3
   },
   "file_extension": ".py",
   "mimetype": "text/x-python",
   "name": "python",
   "nbconvert_exporter": "python",
   "pygments_lexer": "ipython3",
   "version": "3.5.2"
  }
 },
 "nbformat": 4,
 "nbformat_minor": 0
}
