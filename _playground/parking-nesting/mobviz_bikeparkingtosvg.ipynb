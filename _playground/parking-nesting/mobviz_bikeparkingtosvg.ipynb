{
 "cells": [
  {
   "cell_type": "code",
   "execution_count": null,
   "metadata": {
    "collapsed": true
   },
   "outputs": [],
   "source": [
    "%matplotlib inline"
   ]
  },
  {
   "cell_type": "markdown",
   "metadata": {},
   "source": [
    "# Extract bike parking spaces from mongoDB, export as SVG for nesting, stitch nested SVGs 🚲 🚲 🚲"
   ]
  },
  {
   "cell_type": "markdown",
   "metadata": {},
   "source": [
    "This notebook extracts geometries (areas, like polygons of parking spaces) from a mongoDB, then exports all areas in an svg file for nesting with SVGNest. One bin is used.\n",
    "\n",
    "Created on:  2016-12-06  \n",
    "Last update: 2016-12-06  \n",
    "Contact: michael.szell@moovel.com, michael.szell@gmail.com (Michael Szell)"
   ]
  },
  {
   "cell_type": "markdown",
   "metadata": {},
   "source": [
    "### Preliminaries"
   ]
  },
  {
   "cell_type": "markdown",
   "metadata": {},
   "source": [
    "#### Parameters"
   ]
  },
  {
   "cell_type": "code",
   "execution_count": null,
   "metadata": {
    "collapsed": true
   },
   "outputs": [],
   "source": [
    "cityname = \"amsterdam\" # \"amsterdam\" \"berlin\"\n",
    "mode = \"bike\" # do bike here. car is another file"
   ]
  },
  {
   "cell_type": "markdown",
   "metadata": {},
   "source": [
    "#### Imports"
   ]
  },
  {
   "cell_type": "code",
   "execution_count": null,
   "metadata": {
    "collapsed": false
   },
   "outputs": [],
   "source": [
    "from __future__ import unicode_literals\n",
    "import sys\n",
    "import csv\n",
    "import os\n",
    "import math\n",
    "from random import shuffle, choice, uniform\n",
    "import random\n",
    "import pprint\n",
    "import requests\n",
    "import gzip\n",
    "from collections import defaultdict\n",
    "import time\n",
    "import datetime\n",
    "import numpy as np\n",
    "from numpy import *\n",
    "from scipy import stats\n",
    "import pyprind\n",
    "import itertools\n",
    "import logging\n",
    "from ast import literal_eval as make_tuple\n",
    "from collections import OrderedDict\n",
    "from retrying import retry\n",
    "from copy import deepcopy\n",
    "\n",
    "import json\n",
    "from xml.dom import minidom\n",
    "from shapely.geometry import mapping, shape, LineString, LinearRing, Polygon, MultiPolygon\n",
    "import shapely\n",
    "import shapely.ops as ops\n",
    "from shapely import affinity\n",
    "from functools import partial\n",
    "import pyproj\n",
    "Projection = pyproj.Proj(\"+proj=merc +lon_0=0 +x_0=0 +y_0=0 +ellps=WGS84 +units=m +no_defs\")\n",
    "from scipy import spatial\n",
    "from haversine import haversine\n",
    "import overpass\n",
    "apiop = overpass.API(timeout=600)\n",
    "from scipy.ndimage.interpolation import rotate\n",
    "from scipy.spatial import ConvexHull\n",
    "\n",
    "import pymongo\n",
    "from pymongo import MongoClient\n",
    "\n",
    "# plotting stuff\n",
    "import matplotlib.pyplot as plt\n",
    "\n",
    "curtime = time.strftime(\"%Y%m%d_%H%M%S\")\n",
    "pp = pprint.PrettyPrinter(indent=4)"
   ]
  },
  {
   "cell_type": "markdown",
   "metadata": {},
   "source": [
    "### Functions"
   ]
  },
  {
   "cell_type": "code",
   "execution_count": null,
   "metadata": {
    "collapsed": false
   },
   "outputs": [],
   "source": [
    "def coordinatesToSVGString(coo, xoffset = 0, yoffset = 0, idname = \"\", classname = \"\", rot = 0, centroidlatlon = [0,0]):\n",
    "    svgstring = \"\\n  <polygon\"\n",
    "    if idname:\n",
    "        svgstring += \" id=\\\"\"+idname+\"\\\"\"\n",
    "    if classname:\n",
    "        svgstring += \" class=\\\"\"+classname+\"\\\"\"\n",
    "    svgstring += \" points=\\\"\"\n",
    "    strxylist = [str(coo[i][0]+xoffset)+\",\"+str(coo[i][1]+yoffset) for i in range(coo.shape[0])]\n",
    "    for s in strxylist:\n",
    "        svgstring += s+\" \"\n",
    "    svgstring += \"\\\"\"\n",
    "    svgstring += \" moovel_rot=\\\"\"+str(rot)+\"\\\"\" # pseudo-namespace, because svgnest strips namespace info. http://stackoverflow.com/questions/15532371/do-svg-docs-support-custom-data-attributes\n",
    "    centroid = [Polygon(coo).centroid.x, Polygon(coo).centroid.y]\n",
    "    svgstring += \" moovel_centroid=\\\"\"+str(centroid[0]+xoffset)+\",\"+str(centroid[1]+yoffset)+\"\\\"\"\n",
    "    svgstring += \" moovel_centroidlatlon=\\\"\"+str(centroidlatlon[0])+\",\"+str(centroidlatlon[1])+\"\\\"\"\n",
    "    svgstring += \"/>\"\n",
    "    return svgstring\n",
    "\n",
    "def drawPolygon(poly, title=\"\"): # poly is a shapely Polygon\n",
    "    x, y = poly.exterior.xy\n",
    "    fig = plt.figure(figsize=(4,4), dpi=90)\n",
    "    ax = fig.add_subplot(111)\n",
    "    ax.set_title(title)\n",
    "    ax.plot(x, y)\n",
    "    \n",
    "def getLargestSubPolygon(multipoly): # multipoly is a shapely polygon or multipolygon\n",
    "    # if its a polygon, do nothing, else give largest subpolygon\n",
    "    if not (isinstance(multipoly, shapely.geometry.multipolygon.MultiPolygon)):\n",
    "        return multipoly\n",
    "    else:\n",
    "        a = 0\n",
    "        j = 0\n",
    "        for i in range(len(multipoly)):\n",
    "            if multipoly[i].area > a:\n",
    "                j = i\n",
    "                a = multipoly[i].area\n",
    "        return multipoly[j]\n",
    "    \n",
    "def getSmallestSubPolygon(multipoly): # multipoly is a shapely polygon or multipolygon\n",
    "    # if its a polygon, do nothing, else give largest subpolygon\n",
    "    if not (isinstance(multipoly, shapely.geometry.multipolygon.MultiPolygon)):\n",
    "        return multipoly\n",
    "    else:\n",
    "        a = float(\"inf\")\n",
    "        j = 0\n",
    "        for i in range(len(multipoly)):\n",
    "            if multipoly[i].area < a:\n",
    "                j = i\n",
    "                a = multipoly[i].area\n",
    "        return multipoly[j]\n",
    "\n",
    "def getTwoLargestSubPolygons(multipoly): # multipoly is a shapely polygon or multipolygon\n",
    "    # if its a polygon, do nothing, else give two largest subpolygon\n",
    "    if not (isinstance(multipoly, shapely.geometry.multipolygon.MultiPolygon)):\n",
    "        return multipoly\n",
    "    else:\n",
    "        a = [multipoly[i].area for i in range(len(multipoly))]\n",
    "        sortorder = sorted(range(len(a)), key=lambda k: a[k], reverse=True) # http://stackoverflow.com/questions/7851077/how-to-return-index-of-a-sorted-list\n",
    "        return MultiPolygon([ multipoly[i] for i in sortorder[0:2] ])\n",
    "    \n",
    "def rotationToSmallestWidth(poly, rotdelta = 5): # poly is a shapely polygon\n",
    "    # unit: degrees\n",
    "    # decrease rotdelta to make it more precise (but also slower)\n",
    "    rot = 0\n",
    "    w = float(\"inf\")\n",
    "    \n",
    "    for theta in range(0, 180, rotdelta):\n",
    "        temp = affinity.rotate(poly, theta, origin='centroid')\n",
    "        x, y = temp.exterior.coords.xy\n",
    "        temp = np.array([[x[i],y[i]] for i in range(len(x))])\n",
    "        objectwidth = max(temp[:, 0])-min(temp[:, 0])\n",
    "        if objectwidth < w:\n",
    "            w = objectwidth\n",
    "            rot = theta\n",
    "    return rot\n",
    "\n",
    "def rotationToSmallestWidthRecursive(poly, maxdepth = 3, w = float(\"inf\"), rot = 0, rotdelta = 10, depth = 1): # poly is a shapely polygon\n",
    "    # unit: degrees\n",
    "    # returns the angle the polygon needs to be rotated to be at minimum width\n",
    "    # Note: Is not guaranteed to converge to the global minimum\n",
    "    # Requires import numpy as np, from shapely import affinity\n",
    "    if depth <= maxdepth:\n",
    "        for theta in np.arange(rot-rotdelta*9, rot+rotdelta*9, rotdelta):\n",
    "            temp = affinity.rotate(poly, theta, origin='centroid')\n",
    "            x, y = temp.exterior.coords.xy\n",
    "            temp = np.array([[x[i],y[i]] for i in range(len(x))])\n",
    "            objectwidth = max(temp[:, 0])-min(temp[:, 0])\n",
    "            if objectwidth < w:\n",
    "                w = objectwidth\n",
    "                rot = theta\n",
    "        return rotationToSmallestWidthRecursive(poly, maxdepth, w, rot, rotdelta/10, depth+1)\n",
    "    else:\n",
    "        return rot\n",
    "    \n",
    "def getCoordinatesFromSVG(filepath, reversexdir = False, b = 1): # The SVG needs to have polygons with ids, embedded in gs\n",
    "    doc = minidom.parse(filepath)  # parseString also exists\n",
    "    path_strings = [path.getAttribute('points') for path\n",
    "                    in doc.getElementsByTagName('polygon')]\n",
    "    id_strings = [path.getAttribute('id') for path\n",
    "                    in doc.getElementsByTagName('polygon')]\n",
    "    class_strings = [path.getAttribute('class') for path\n",
    "                    in doc.getElementsByTagName('polygon')]\n",
    "    g_strings = [path.getAttribute('transform') for path\n",
    "                in doc.getElementsByTagName('g')]\n",
    "    rot_strings = [path.getAttribute('moovel_rot') for path\n",
    "                    in doc.getElementsByTagName('polygon')]\n",
    "    centroidlatlon_strings = [path.getAttribute('moovel_centroidlatlon') for path\n",
    "                    in doc.getElementsByTagName('polygon')]\n",
    "    doc.unlink()\n",
    "    data = dict()\n",
    "    numbins = 0\n",
    "    for i,path in enumerate(path_strings):\n",
    "        if class_strings[i] == \"bin\":\n",
    "            numbins += 1\n",
    "        if numbins == b:\n",
    "            path = path.split()\n",
    "            coo = []\n",
    "            for temp in path:\n",
    "                p = temp.split(\",\")\n",
    "                try:\n",
    "                    trans = g_strings[i] # looks like this: \"translate(484.1119359029915 -1573.8819930603422) rotate(0)\"\n",
    "                    trans = trans.split()\n",
    "                    trans = [float(trans[0][10:]), float(trans[1][0:-1])] # gives [484.1119359029915,-1573.8819930603422]\n",
    "                except:\n",
    "                    trans = [0,0]\n",
    "                if reversexdir:\n",
    "                    coo.append([-(float(p[0])+trans[0]), float(p[1])+trans[1]])\n",
    "                else:\n",
    "                    coo.append([float(p[0])+trans[0], float(p[1])+trans[1]])\n",
    "            data[id_strings[i]] = dict()\n",
    "            data[id_strings[i]][\"coordinates\"] = coo\n",
    "            data[id_strings[i]][\"rot\"] = rot_strings[i]\n",
    "            data[id_strings[i]][\"class\"] = class_strings[i]\n",
    "            data[id_strings[i]][\"centroidlatlon\"] = centroidlatlon_strings[i].split(\",\")\n",
    "            \n",
    "        elif numbins > b:\n",
    "            break\n",
    "    return data"
   ]
  },
  {
   "cell_type": "code",
   "execution_count": null,
   "metadata": {
    "collapsed": false
   },
   "outputs": [],
   "source": [
    "# mongo connection\n",
    "client = MongoClient()\n",
    "db = client[cityname+'_derived']\n",
    "ways = db['ways']\n",
    "cursor = ways.find({\"$and\": [{\"properties.amenity\": \"bicycle_parking\"}, {\"geometry.type\": \"Polygon\"}, {\"properties_derived.area\": { \"$gte\": 1 }}]}).sort(\"properties_derived.area\",-1)\n",
    "numparkingareas = cursor.count()\n",
    "print(\"There are \" + str(numparkingareas) + \" \" + mode + \" parking spaces in \" + cityname)"
   ]
  },
  {
   "cell_type": "markdown",
   "metadata": {},
   "source": [
    "## Get parking spaces for multiple SVG bins"
   ]
  },
  {
   "cell_type": "markdown",
   "metadata": {},
   "source": [
    "### Features\n",
    "1. add buffer around big tiles ✔️\n",
    "2. give more bin space for small tiles on top of bins ✔️\n",
    "3. pre-select tiles from DB and exhaust them fully (and uniquely!) ✔️\n",
    "4. do not order big tiles by size, but more randomly ✔️\n",
    "5. add id as id ✔️\n",
    "6. prevent shadows"
   ]
  },
  {
   "cell_type": "code",
   "execution_count": null,
   "metadata": {
    "collapsed": false
   },
   "outputs": [],
   "source": [
    "pathdatain = '/Users/szellmi/Documents/lab-mobviz/_playground/parking-nesting/output/'+cityname+mode+'in/'\n",
    "pathdataout = '/Users/szellmi/Documents/lab-mobviz/_playground/parking-nesting/output/'+cityname+mode+'out/'\n",
    "# to find out maxbins, make 10 bins or so. If all have same file size, increase until file size gets small. Select maxbins to cover all big parts.\n",
    "# to find out maxbigparts, set to around maxbins*4. Possibly decrease by looking at bigparts.svg "
   ]
  },
  {
   "cell_type": "code",
   "execution_count": null,
   "metadata": {
    "collapsed": false,
    "scrolled": false
   },
   "outputs": [],
   "source": [
    "# get parking spaces (ALL in a city)\n",
    "cursor = ways.find({\"$and\": [{\"properties.amenity\": \"bicycle_parking\"}, {\"geometry.type\": \"Polygon\"}, {\"properties_derived.area\": { \"$gte\": 1 }}]}).sort(\"properties_derived.area\",-1)\n",
    "random.seed(1)\n",
    "scale = 0.6\n",
    "erectparts = True\n",
    "randomrotateparts = False\n",
    "smallvsmedium = 11\n",
    "buffereps = 5 # should be the same number as the distances between parts in SVGNest\n",
    "height = 1200\n",
    "width = 600\n",
    "draw = False # for debugging purposes (drawing all big parts and bins) set this to True\n",
    "eps = 0.000001\n",
    "\n",
    "# pre-select all parts\n",
    "idsused = set()\n",
    "idsnotused = set()\n",
    "indicesused = set()\n",
    "alltiles = []\n",
    "alltileskeys = []\n",
    "alltilesarea = 0\n",
    "for i,way in enumerate(cursor):\n",
    "    npway = np.asarray(way[\"geometry\"][\"coordinates\"])\n",
    "    centroidlatlon = [Polygon(npway).centroid.x, Polygon(npway).centroid.y]\n",
    "    npwayxy = [Projection(npway[i][0], npway[i][1]) for i in range(npway.shape[0])]\n",
    "    npwayxy = np.asarray([[npwayxy[i][0],-npwayxy[i][1]] for i in range(npway.shape[0])])\n",
    "    if erectparts:\n",
    "        rot = 90+rotationToSmallestWidthRecursive(Polygon(npwayxy))\n",
    "    elif randomrotateparts:\n",
    "        rot = uniform(10, 350)\n",
    "    else:\n",
    "        rot = 0\n",
    "    if rot:\n",
    "        temp = affinity.rotate(Polygon(npwayxy), rot, origin='centroid', use_radians=False)\n",
    "        x, y = temp.exterior.coords.xy\n",
    "        npwayxy = np.array([[x[i],y[i]] for i in range(len(x))])\n",
    "    objectwidth = max(npwayxy[:, 0])-min(npwayxy[:, 0])\n",
    "    npwayxy[:, 0] -= min(npwayxy[:, 0])\n",
    "    npwayxy[:, 1] -= min(npwayxy[:, 1])\n",
    "    npwayxy *= scale\n",
    "    objectwidth *= scale\n",
    "    if objectwidth < width:\n",
    "        objectheight = max(npwayxy[:, 1])\n",
    "        idsnotused.add(way[\"_id\"])\n",
    "        coo = [[npwayxy[k][0], npwayxy[k][1]] for k in range(npwayxy.shape[0])]\n",
    "        area = Polygon(coo).buffer(buffereps/2).area\n",
    "        alltiles.append( { \"_id\": way[\"_id\"], \"width\": objectwidth, \"height\": objectheight, \"area\": area, \"coordinates\": coo , \"rot\": rot, \"centroidlatlon\": centroidlatlon})\n",
    "        alltileskeys.append(way[\"_id\"])\n",
    "        alltilesarea += area\n",
    "    else:\n",
    "        print(\"Object \"+str(way[\"_id\"])+\" was too wide (\" +str(objectwidth)+ \" pixel) and was ignored.\")\n",
    "\n",
    "\n",
    "bigbin = Polygon([[0,0], [width,0], [width, height], [0, height]])\n",
    "bigbinarea = bigbin.area\n",
    "# change the big bin area according to the leftover tiles area\n",
    "height = 1.25 * height * alltilesarea/bigbinarea\n",
    "bigbin = Polygon([[0,0], [width,0], [width, height], [0, height]])\n",
    "        \n",
    "# Fill with parts\n",
    "binarea = bigbin.area\n",
    "binbound = np.array(bigbin.exterior.coords)\n",
    "xpos = 0\n",
    "ypos = height+1 # start placing the elements below the bin\n",
    "yextent = 0\n",
    "svg = \"<svg xmlns=\\\"http://www.w3.org/2000/svg\\\" version=\\\"1.1\\\" width=\\\"\"+str(width)+\"px\\\" height=\\\"\"+str(height)+\"px\\\">\"\n",
    "svg += coordinatesToSVGString(binbound, 0, 0, str(0), \"bin\")\n",
    "totalarea = 0\n",
    "\n",
    "for j in range(len(idsnotused)):\n",
    "    if len(idsnotused) == 0:\n",
    "            break\n",
    "    tile = alltiles[j]\n",
    "    if tile[\"width\"] <= width:\n",
    "        if xpos + tile[\"width\"] + 1 <= width: # there is space in this row\n",
    "            xdelta = (xpos+1)\n",
    "            ydelta = ypos\n",
    "        else: # new row\n",
    "            xdelta = 0\n",
    "            ypos += yextent\n",
    "            yextent = 0\n",
    "            ydelta = ypos\n",
    "            xpos = 0\n",
    "        svg += coordinatesToSVGString(np.array([[tile[\"coordinates\"][k][0], tile[\"coordinates\"][k][1]] for k in range(np.array(tile[\"coordinates\"]).shape[0])]), xdelta, ydelta, str(tile[\"_id\"]), \"tile\", tile[\"rot\"], tile[\"centroidlatlon\"])\n",
    "        yextent = max([yextent, tile[\"height\"]])\n",
    "        xpos += tile[\"width\"]+1\n",
    "        idsused.add(tile[\"_id\"])\n",
    "        idsnotused.remove(tile[\"_id\"])\n",
    "        totalarea += tile[\"area\"]\n",
    "    else:\n",
    "        print(\"Object \"+str(way[\"_id\"])+\" was too wide (\" +str(max(npwayxy[:, 0]))+ \" pixel) and could not be placed.\")\n",
    "svg += \"\\n</svg>\"\n",
    "\n",
    "with open(pathdatain + cityname + mode + \"parking\"+ str(0).zfill(3)  +\"in.svg\", \"w\") as f:\n",
    "    f.write(svg)\n",
    "                \n",
    "print(\"First export done. \" + str(len(idsnotused))+\" tiles were not used.\")"
   ]
  },
  {
   "cell_type": "markdown",
   "metadata": {},
   "source": [
    "The result is all.svg in {{pathdataout}}."
   ]
  },
  {
   "cell_type": "markdown",
   "metadata": {},
   "source": [
    "## After SVGNest was executed, turn it into a nice SVG"
   ]
  },
  {
   "cell_type": "code",
   "execution_count": null,
   "metadata": {
    "collapsed": false
   },
   "outputs": [],
   "source": [
    "# read SVG\n",
    "alltilesfinal = []\n",
    "tiles = getCoordinatesFromSVG(pathdataout + str(0).zfill(3) + \".svg\")\n",
    "for key in tiles:\n",
    "    if tiles[key][\"class\"] == \"tile\":\n",
    "        npwayxy = np.array(tiles[key][\"coordinates\"])\n",
    "        npwayxy = [[npwayxy[k,0], npwayxy[k,1]] for k in range(npwayxy.shape[0])]\n",
    "        alltilesfinal.append({key: {\"coordinates\": npwayxy, \"rot\": tiles[key][\"rot\"], \"centroidlatlon\": tiles[key][\"centroidlatlon\"]}})\n",
    "\n",
    "# Export\n",
    "svg = \"<svg xmlns=\\\"http://www.w3.org/2000/svg\\\" version=\\\"1.1\\\" width=\\\"\"+str(width)+\"px\\\" height=\\\"\"+str(height)+\"px\\\">\"\n",
    "for j, tile in enumerate(alltilesfinal):\n",
    "    for i in tile:\n",
    "        svg += coordinatesToSVGString(np.array([[tile[i][\"coordinates\"][k][0], tile[i][\"coordinates\"][k][1]] for k in range(np.array(tile[i][\"coordinates\"]).shape[0])]), 0, 0, i, \"\", tile[i][\"rot\"], tile[i][\"centroidlatlon\"])\n",
    "svg += \"\\n</svg>\"\n",
    "with open(pathdataout + \"all.svg\", \"w\") as f:\n",
    "    f.write(svg)"
   ]
  }
 ],
 "metadata": {
  "anaconda-cloud": {},
  "kernelspec": {
   "display_name": "Python [Root]",
   "language": "python",
   "name": "Python [Root]"
  },
  "language_info": {
   "codemirror_mode": {
    "name": "ipython",
    "version": 3
   },
   "file_extension": ".py",
   "mimetype": "text/x-python",
   "name": "python",
   "nbconvert_exporter": "python",
   "pygments_lexer": "ipython3",
   "version": "3.5.2"
  }
 },
 "nbformat": 4,
 "nbformat_minor": 0
}
