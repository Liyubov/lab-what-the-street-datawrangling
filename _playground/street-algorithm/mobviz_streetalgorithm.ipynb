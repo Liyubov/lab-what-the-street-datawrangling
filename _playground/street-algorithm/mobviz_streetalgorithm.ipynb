{
 "cells": [
  {
   "cell_type": "code",
   "execution_count": 1,
   "metadata": {
    "collapsed": true
   },
   "outputs": [],
   "source": [
    "%matplotlib inline"
   ]
  },
  {
   "cell_type": "markdown",
   "metadata": {},
   "source": [
    "# Street algorithm for mobviz"
   ]
  },
  {
   "cell_type": "markdown",
   "metadata": {},
   "source": [
    "Add notebook description here. For now, experiments to reshape geojson streets. \n",
    "\n",
    "Created on:  2016-10-04  \n",
    "Last update: 2016-10-24  \n",
    "Contact: michael.szell@moovel.com, michael.szell@gmail.com (Michael Szell)"
   ]
  },
  {
   "cell_type": "code",
   "execution_count": 346,
   "metadata": {
    "collapsed": false
   },
   "outputs": [],
   "source": [
    "# preliminaries\n",
    "from __future__ import unicode_literals\n",
    "import sys\n",
    "import csv\n",
    "import os\n",
    "import math\n",
    "import pprint\n",
    "import requests\n",
    "import gzip\n",
    "from collections import defaultdict\n",
    "import time\n",
    "import datetime\n",
    "import numpy as np\n",
    "from scipy import stats\n",
    "import pyprind\n",
    "import itertools\n",
    "import logging\n",
    "from ast import literal_eval as make_tuple\n",
    "from collections import OrderedDict\n",
    "from retrying import retry\n",
    "\n",
    "import json\n",
    "from shapely.geometry import mapping, shape\n",
    "import shapely\n",
    "from scipy import spatial\n",
    "from haversine import haversine\n",
    "import overpass\n",
    "apiop = overpass.API(timeout=600)\n",
    "\n",
    "# plotting stuff\n",
    "import matplotlib.pyplot as plt\n",
    "# import mpld3\n",
    "# mpld3.enable_notebook() # unfortunately, this is too buggy: https://github.com/mpld3/mpld3/issues/193\n",
    "# mpld3.disable_notebook()\n",
    "\n",
    "loadfromfile = False # if True, loads from file, otherwise from overpass API\n",
    "pathdatain = '/Users/szellmi/Google Drive/MOOVELLAB/00_Projects/mobviz/data/geo/'\n",
    "pathdataout = '/Users/szellmi/Google Drive/MOOVELLAB/00_Projects/mobviz/data/geo/derived/'\n",
    "pathdataoutfinal = '/Users/szellmi/Google Drive/MOOVELLAB/00_Projects/mobviz/scripts/mobviz/d3unroll/'\n",
    "curtime = time.strftime(\"%Y%m%d_%H%M%S\")\n",
    "logging.basicConfig(filename=pathdataout+'mobviz_streetalgorithm'+curtime+'.log',level=logging.DEBUG)\n",
    "pp = pprint.PrettyPrinter(indent=4)\n",
    "\n",
    "# City parameters (generalize later)\n",
    "cityname = \"Berlin\"\n",
    "bbox = \"52.33812, 13.0884, 52.675499, 13.76134\"\n",
    "postalcodes = []\n",
    "with open(pathdatain+\"berlin/\"+\"berlin_postalcodes.txt\") as f:\n",
    "    for line in f:\n",
    "        postalcodes.append(int(line))"
   ]
  },
  {
   "cell_type": "markdown",
   "metadata": {},
   "source": [
    "### Functions"
   ]
  },
  {
   "cell_type": "code",
   "execution_count": 374,
   "metadata": {
    "collapsed": false
   },
   "outputs": [],
   "source": [
    "def getStreetFeatures(s = \"Hannoversche Straße\", bb = \"52.33812, 13.0884, 52.675499, 13.76134\"):\n",
    "    temp = apiop.Get('node[highway][\"name\"=\"'+s+'\"]('+bb+'); way[highway][\"name\"=\"'+s+'\"]('+bb+');')\n",
    "    # Now throw away all parts where postal code not in city\n",
    "    js = []\n",
    "    for f in temp['features']:\n",
    "        if 'postal_code' in f['properties']:\n",
    "            if int(f['properties']['postal_code']) in postalcodes:\n",
    "                js.append(f)\n",
    "        else:\n",
    "            js.append(f)\n",
    "    return {\"features\":js}\n",
    "\n",
    "def writeLineStringGEOJSON(filename, streetcoords, path = \"/Users/szellmi/Google Drive/MOOVELLAB/00_Projects/mobviz/data/geo/\", meta={}):\n",
    "    with open(path + filename + '.geojson', 'w') as f: #_LineString\n",
    "        f.write('{\"type\":\"FeatureCollection\",\"features\":[{\"type\":\"Feature\",\"properties\":'+json.dumps(meta, ensure_ascii=False)+',\"geometry\":{\"type\":\"LineString\",\"coordinates\":')\n",
    "        f.write(str(streetcoords))\n",
    "        f.write('}}]}')\n",
    "        \n",
    "def writeMultiLineStringGEOJSON(filename, multilinestring, path = \"/Users/szellmi/Google Drive/MOOVELLAB/00_Projects/mobviz/data/geo/\", meta={}):\n",
    "    with open(path + filename + '.geojson', 'w') as f:\n",
    "        f.write('{\"type\":\"MultiLineString\",\"properties\":'+json.dumps(meta, ensure_ascii=False)+',\"coordinates\":')\n",
    "        f.write(str(multilinestring))\n",
    "        f.write('}')\n",
    "        \n",
    "def getFeaturecollectionFromJS(js, asnparray = True):\n",
    "    featurecollection = []\n",
    "    for f in js['features']:    \n",
    "        s = np.asarray(shape(f['geometry']))\n",
    "        featurecollection.append(s)\n",
    "    if not asnparray:\n",
    "        featurecollection = [i.tolist() for i in featurecollection]\n",
    "    return featurecollection\n",
    "\n",
    "def writeFeatureCollectionGEOJSON(filename, featurecollection, path = \"/Users/szellmi/Google Drive/MOOVELLAB/00_Projects/mobviz/data/geo/\"):\n",
    "    with open(path + filename + '.geojson', 'w') as f:\n",
    "        f.write('{\"type\":\"FeatureCollection\",')\n",
    "        temp = json.dumps(featurecollection, ensure_ascii=False)\n",
    "        f.write(temp[1:])"
   ]
  },
  {
   "cell_type": "markdown",
   "metadata": {},
   "source": [
    "## Algorithm to stitch together features  from FeatureCollection\n",
    "\n"
   ]
  },
  {
   "cell_type": "markdown",
   "metadata": {},
   "source": [
    "The following algorithm assumes that there is an input of a FeatureCollection of different LineStrings, as downloaded via overpass. Each of these LineStrings has a start and an end point. The goal is to provide an output that stitches together these pieces depending on the positions of the start and end points. Occasionally there might be gaps, these have to be filled in.\n",
    "\n",
    "The input features are assumed to be in this general form: s3 O----O e3  s0 O----O e0  s1 O----O e1  e2 O----O s2  \n",
    "The algorithm starts to attach to the end point of element 0 the next element. First a=s0, and b=e0. b is updated with the last connection point. This is continued until the distance of the next point to b is larger than to a, in which case all further elements are attached going \"left\" from s0.  \n",
    "In this example, the algorithm would output output_connectionpattern = (3,0,1,2), output_forwardbackward = (0,1,1,0). The output output_forwardbackward indicates the direction (s to e, or e to s).\n",
    "\n",
    "The algorithm is limited to 1-dimensional streets without branches or loops. Complications may arise in these cases.\n"
   ]
  },
  {
   "cell_type": "code",
   "execution_count": 260,
   "metadata": {
    "collapsed": true
   },
   "outputs": [],
   "source": [
    "sid = 'hannoversche'\n",
    "sname = \"Hannoversche Straße\""
   ]
  },
  {
   "cell_type": "code",
   "execution_count": 339,
   "metadata": {
    "collapsed": false
   },
   "outputs": [],
   "source": [
    "def getFlattenedStreetFeatures(sname):\n",
    "    if loadfromfile:\n",
    "        with open(pathdatain + sname + '.geojson') as f:\n",
    "            js = json.load(f)\n",
    "    else:\n",
    "        js = getStreetFeatures(sname, bbox)\n",
    "    \n",
    "    featurecollection = getFeaturecollectionFromJS(js)\n",
    "\n",
    "    if len(featurecollection) == 1: # nothing to do\n",
    "        flattenedfeatures = featurecollection[0].tolist()\n",
    "    else:\n",
    "        C = list(range(len(featurecollection)))\n",
    "        output_connectionpattern = [] # outputs the ordered list of features\n",
    "        output_forwardbackward = [] # outputs for each feature whether LineString direction is forward (1) or backward (0)\n",
    "        output_gap = [] # outputs whether there is a gap or not, so that one node element can be removed\n",
    "        startpoints = np.array([featurecollection[i][0] for i in range(len(featurecollection))])\n",
    "        endpoints = np.array([featurecollection[i][-1] for i in range(len(featurecollection))])\n",
    "        i = 0 # start with first feature\n",
    "        output_connectionpattern.extend([i])\n",
    "        output_forwardbackward.extend([1])\n",
    "        epsilon = 0.000001 # needed for rounding reasons\n",
    "        a = startpoints[i]\n",
    "        stoe = True\n",
    "        dirinitial = True\n",
    "\n",
    "        for k in range(len(featurecollection)-1):\n",
    "\n",
    "            del C[i]\n",
    "            # Find closest point of s_i/e_i to all other s_j and e_j\n",
    "\n",
    "            if dirinitial:\n",
    "                if stoe:\n",
    "                    b = endpoints[i]\n",
    "                else:\n",
    "                    b = startpoints[i]\n",
    "            else:\n",
    "                if not stoe:\n",
    "                    b = endpoints[i]\n",
    "                else:\n",
    "                    b = startpoints[i]\n",
    "\n",
    "            startpoints = np.delete(startpoints, (i), axis=0)\n",
    "            endpoints = np.delete(endpoints, (i), axis=0)\n",
    "            SE = np.concatenate((startpoints, endpoints), axis=0)\n",
    "            # now check the shortest distance of pt to C\n",
    "            # solve with a k-d tree http://stackoverflow.com/a/32781737\n",
    "            distancea,indexa = spatial.KDTree(SE).query(a)\n",
    "            distanceb,indexb = spatial.KDTree(SE).query(b)\n",
    "\n",
    "            # initially we start going to the right. However, there might be one turn back to the start, which is checked now\n",
    "            if distancea < distanceb: \n",
    "                # a is closer to remaining s_j or e_j, so we now extend to the left \n",
    "                # (technically we reverse and still go right)\n",
    "                output_connectionpattern = output_connectionpattern[::-1]\n",
    "                output_forwardbackward = output_forwardbackward[::-1]\n",
    "                output_gap = output_gap[::-1]\n",
    "                b = a\n",
    "                dirinitial = False\n",
    "\n",
    "            # now check the shortest distance of pt to C\n",
    "            # solve with a k-d tree http://stackoverflow.com/a/32781737\n",
    "            distance,index = spatial.KDTree(SE).query(b) \n",
    "            j = index%(len(featurecollection)-k-1)\n",
    "            if distance < epsilon:\n",
    "                output_gap = output_gap + [0]\n",
    "            else:\n",
    "                output_gap = output_gap + [1]\n",
    "            output_connectionpattern = output_connectionpattern + [C[j]]\n",
    "\n",
    "            if dirinitial:\n",
    "                if index < (len(featurecollection)-k-1): # closest next point is an s\n",
    "                    output_forwardbackward = output_forwardbackward + [1]\n",
    "                    stoe = True\n",
    "                else:\n",
    "                    output_forwardbackward = output_forwardbackward + [0]\n",
    "                    stoe = False\n",
    "            else:\n",
    "                if index < (len(featurecollection)-k-1): # closest next point is an s\n",
    "                    output_forwardbackward = output_forwardbackward + [0]\n",
    "                    stoe = False\n",
    "                else:\n",
    "                    output_forwardbackward = output_forwardbackward + [1]\n",
    "                    stoe = True\n",
    "\n",
    "            i = j\n",
    "    #         print(C[i])\n",
    "\n",
    "\n",
    "        output_gap = output_gap + [0]\n",
    "    #     pp.pprint(output_connectionpattern)\n",
    "    #     pp.pprint(output_forwardbackward)\n",
    "    #     pp.pprint(output_gap)\n",
    "\n",
    "\n",
    "        flattenedfeatures = []\n",
    "        # Now we can reconstruct the line\n",
    "        for i in range(len(output_connectionpattern)):\n",
    "            if dirinitial:\n",
    "                if output_forwardbackward[i]:\n",
    "                    flattenedfeatures.extend(featurecollection[output_connectionpattern[i]][:].tolist())\n",
    "                else:\n",
    "                    flattenedfeatures.extend(reversed(featurecollection[output_connectionpattern[i]][:].tolist()))\n",
    "            else:\n",
    "                if not output_forwardbackward[i]:\n",
    "                    flattenedfeatures.extend(featurecollection[output_connectionpattern[i]][:].tolist())\n",
    "                else:\n",
    "                    flattenedfeatures.extend(reversed(featurecollection[output_connectionpattern[i]][:].tolist()))\n",
    "            if not output_gap[i]:\n",
    "                del flattenedfeatures[-1]\n",
    "\n",
    "        # pp.pprint(flattenedfeatures)\n",
    "\n",
    "        # Export\n",
    "    #     with open(pathdataout + sname + '.txt', 'w') as f:\n",
    "    #         f.write(str(flattenedfeatures))\n",
    "        \n",
    "    return flattenedfeatures"
   ]
  },
  {
   "cell_type": "markdown",
   "metadata": {},
   "source": [
    "## Algorithm to hack street into small (10m) parts"
   ]
  },
  {
   "cell_type": "code",
   "execution_count": 262,
   "metadata": {
    "collapsed": false
   },
   "outputs": [],
   "source": [
    "seglength = 5 / 1000 # length in km\n",
    "def hackStreet(flattenedfeatures, seglength = 5/1000):\n",
    "    hackedstreet = [flattenedfeatures[0]]\n",
    "    for i,f in enumerate(flattenedfeatures[0:-2]):\n",
    "        d = haversine((flattenedfeatures[i]), (flattenedfeatures[i+1]), miles=False)\n",
    "        if d < seglength:\n",
    "            hackedstreet.append(list(flattenedfeatures[i]))\n",
    "        else: # hack\n",
    "            interpoltimes = math.floor(d/seglength)\n",
    "            for j in range(interpoltimes):\n",
    "                ip = shapely.geometry.LineString([(flattenedfeatures[i]), (flattenedfeatures[i+1])]).interpolate((j+1)*(1/interpoltimes), normalized=True)\n",
    "                temp = ip.coords\n",
    "                hackedstreet.append([temp[0][0], temp[0][1]])\n",
    "    hackedstreet.append(flattenedfeatures[-1])\n",
    "    # Export\n",
    "    with open(pathdataout + streetname + '.txt', 'w') as f:\n",
    "        f.write(str(hackedstreet))\n",
    "        \n",
    "    return hackedstreet"
   ]
  },
  {
   "cell_type": "code",
   "execution_count": 219,
   "metadata": {
    "collapsed": false
   },
   "outputs": [],
   "source": [
    "# Write as correct geojson\n",
    "with open(pathdataoutfinal + 'md' + sid + '.geojson', 'w') as f:\n",
    "    f.write('{\"type\":\"FeatureCollection\",\"features\":[{\"type\":\"Feature\",\"properties\":{},\"geometry\":{\"type\":\"Polygon\",\"coordinates\":[')\n",
    "    f.write(str(hackedstreet))\n",
    "    f.write(']}}]}')\n",
    "with open(pathdataoutfinal + sid + '_LineString.geojson', 'w') as f:\n",
    "    f.write('{\"type\":\"FeatureCollection\",\"features\":[{\"type\":\"Feature\",\"properties\":{},\"geometry\":{\"type\":\"LineString\",\"coordinates\":')\n",
    "    f.write(str(hackedstreet))\n",
    "    f.write('}}]}')\n"
   ]
  },
  {
   "cell_type": "markdown",
   "metadata": {},
   "source": [
    "## Complete algorithm to get flattened, hacked street"
   ]
  },
  {
   "cell_type": "code",
   "execution_count": 266,
   "metadata": {
    "collapsed": true
   },
   "outputs": [],
   "source": [
    "def getHackedStreet(sname, seglength = 5/1000):\n",
    "    flattenedfeatures = getFlattenedStreetFeatures(sname)\n",
    "    return hackStreet(flattenedfeatures, seglength)"
   ]
  },
  {
   "cell_type": "markdown",
   "metadata": {},
   "source": [
    "## Algorithm to stitch together multiple streets"
   ]
  },
  {
   "cell_type": "code",
   "execution_count": 294,
   "metadata": {
    "collapsed": false
   },
   "outputs": [],
   "source": [
    "snames = ['Hannoversche Straße', 'Reichstagufer']\n",
    "sids = ['hannoversche', 'reichstagufer']\n",
    "delta = [0,0]\n",
    "lastpt = [0,0]\n",
    "streetsstitched = []\n",
    "for sname, sid in zip(snames, sids):\n",
    "    hackedstreet = getHackedStreet(sid, 5/1000)\n",
    "    firstpt = hackedstreet[0]\n",
    "    delta = [firstpt[0]-lastpt[0], firstpt[1]-lastpt[1]]\n",
    "    hackedstreet = [['{:.10f}'.format(i[0]-(delta[0])), '{:.10f}'.format(i[1]-(delta[1]))] for i in hackedstreet]\n",
    "    streetsstitched.extend(hackedstreet)\n",
    "    lastpt = hackedstreet[-1]\n",
    "    \n",
    "    \n",
    "# remove duplicate coordinates, http://stackoverflow.com/questions/2213923/python-removing-duplicates-from-a-list-of-lists\n",
    "streetsstitched = list(streetsstitched for streetsstitched,_ in itertools.groupby(streetsstitched))\n",
    "\n",
    "writeLineStringGEOJSON('multiple1', streetsstitched)"
   ]
  },
  {
   "cell_type": "markdown",
   "metadata": {},
   "source": [
    "## Download all street features, do not flatten or hack"
   ]
  },
  {
   "cell_type": "code",
   "execution_count": 381,
   "metadata": {
    "collapsed": false
   },
   "outputs": [
    {
     "name": "stderr",
     "output_type": "stream",
     "text": [
      "0%                          100%\n",
      "[                              ]"
     ]
    },
    {
     "ename": "KeyboardInterrupt",
     "evalue": "",
     "output_type": "error",
     "traceback": [
      "\u001b[0;31m---------------------------------------------------------------------------\u001b[0m",
      "\u001b[0;31mKeyboardInterrupt\u001b[0m                         Traceback (most recent call last)",
      "\u001b[0;32m<ipython-input-381-79cc694dfd5d>\u001b[0m in \u001b[0;36m<module>\u001b[0;34m()\u001b[0m\n\u001b[1;32m     17\u001b[0m \u001b[0;32mfor\u001b[0m \u001b[0mi\u001b[0m\u001b[0;34m,\u001b[0m \u001b[0msname\u001b[0m \u001b[0;32min\u001b[0m \u001b[0menumerate\u001b[0m\u001b[0;34m(\u001b[0m\u001b[0msnames\u001b[0m\u001b[0;34m[\u001b[0m\u001b[0;36m0\u001b[0m\u001b[0;34m+\u001b[0m\u001b[0mlagi\u001b[0m\u001b[0;34m:\u001b[0m\u001b[0;34m]\u001b[0m\u001b[0;34m)\u001b[0m\u001b[0;34m:\u001b[0m\u001b[0;34m\u001b[0m\u001b[0m\n\u001b[1;32m     18\u001b[0m     \u001b[0mbar\u001b[0m\u001b[0;34m.\u001b[0m\u001b[0mupdate\u001b[0m\u001b[0;34m(\u001b[0m\u001b[0mitem_id\u001b[0m \u001b[0;34m=\u001b[0m \u001b[0msname\u001b[0m\u001b[0;34m)\u001b[0m\u001b[0;34m\u001b[0m\u001b[0m\n\u001b[0;32m---> 19\u001b[0;31m     \u001b[0mdownloadStreets\u001b[0m\u001b[0;34m(\u001b[0m\u001b[0msname\u001b[0m\u001b[0;34m)\u001b[0m\u001b[0;34m\u001b[0m\u001b[0m\n\u001b[0m\u001b[1;32m     20\u001b[0m \u001b[0;34m\u001b[0m\u001b[0m\n",
      "\u001b[0;32m/Users/szellmi/anaconda3/lib/python3.5/site-packages/retrying.py\u001b[0m in \u001b[0;36mwrapped_f\u001b[0;34m(*args, **kw)\u001b[0m\n\u001b[1;32m     47\u001b[0m             \u001b[0;34m@\u001b[0m\u001b[0msix\u001b[0m\u001b[0;34m.\u001b[0m\u001b[0mwraps\u001b[0m\u001b[0;34m(\u001b[0m\u001b[0mf\u001b[0m\u001b[0;34m)\u001b[0m\u001b[0;34m\u001b[0m\u001b[0m\n\u001b[1;32m     48\u001b[0m             \u001b[0;32mdef\u001b[0m \u001b[0mwrapped_f\u001b[0m\u001b[0;34m(\u001b[0m\u001b[0;34m*\u001b[0m\u001b[0margs\u001b[0m\u001b[0;34m,\u001b[0m \u001b[0;34m**\u001b[0m\u001b[0mkw\u001b[0m\u001b[0;34m)\u001b[0m\u001b[0;34m:\u001b[0m\u001b[0;34m\u001b[0m\u001b[0m\n\u001b[0;32m---> 49\u001b[0;31m                 \u001b[0;32mreturn\u001b[0m \u001b[0mRetrying\u001b[0m\u001b[0;34m(\u001b[0m\u001b[0;34m*\u001b[0m\u001b[0mdargs\u001b[0m\u001b[0;34m,\u001b[0m \u001b[0;34m**\u001b[0m\u001b[0mdkw\u001b[0m\u001b[0;34m)\u001b[0m\u001b[0;34m.\u001b[0m\u001b[0mcall\u001b[0m\u001b[0;34m(\u001b[0m\u001b[0mf\u001b[0m\u001b[0;34m,\u001b[0m \u001b[0;34m*\u001b[0m\u001b[0margs\u001b[0m\u001b[0;34m,\u001b[0m \u001b[0;34m**\u001b[0m\u001b[0mkw\u001b[0m\u001b[0;34m)\u001b[0m\u001b[0;34m\u001b[0m\u001b[0m\n\u001b[0m\u001b[1;32m     50\u001b[0m \u001b[0;34m\u001b[0m\u001b[0m\n\u001b[1;32m     51\u001b[0m             \u001b[0;32mreturn\u001b[0m \u001b[0mwrapped_f\u001b[0m\u001b[0;34m\u001b[0m\u001b[0m\n",
      "\u001b[0;32m/Users/szellmi/anaconda3/lib/python3.5/site-packages/retrying.py\u001b[0m in \u001b[0;36mcall\u001b[0;34m(self, fn, *args, **kwargs)\u001b[0m\n\u001b[1;32m    218\u001b[0m                     \u001b[0mjitter\u001b[0m \u001b[0;34m=\u001b[0m \u001b[0mrandom\u001b[0m\u001b[0;34m.\u001b[0m\u001b[0mrandom\u001b[0m\u001b[0;34m(\u001b[0m\u001b[0;34m)\u001b[0m \u001b[0;34m*\u001b[0m \u001b[0mself\u001b[0m\u001b[0;34m.\u001b[0m\u001b[0m_wait_jitter_max\u001b[0m\u001b[0;34m\u001b[0m\u001b[0m\n\u001b[1;32m    219\u001b[0m                     \u001b[0msleep\u001b[0m \u001b[0;34m=\u001b[0m \u001b[0msleep\u001b[0m \u001b[0;34m+\u001b[0m \u001b[0mmax\u001b[0m\u001b[0;34m(\u001b[0m\u001b[0;36m0\u001b[0m\u001b[0;34m,\u001b[0m \u001b[0mjitter\u001b[0m\u001b[0;34m)\u001b[0m\u001b[0;34m\u001b[0m\u001b[0m\n\u001b[0;32m--> 220\u001b[0;31m                 \u001b[0mtime\u001b[0m\u001b[0;34m.\u001b[0m\u001b[0msleep\u001b[0m\u001b[0;34m(\u001b[0m\u001b[0msleep\u001b[0m \u001b[0;34m/\u001b[0m \u001b[0;36m1000.0\u001b[0m\u001b[0;34m)\u001b[0m\u001b[0;34m\u001b[0m\u001b[0m\n\u001b[0m\u001b[1;32m    221\u001b[0m \u001b[0;34m\u001b[0m\u001b[0m\n\u001b[1;32m    222\u001b[0m             \u001b[0mattempt_number\u001b[0m \u001b[0;34m+=\u001b[0m \u001b[0;36m1\u001b[0m\u001b[0;34m\u001b[0m\u001b[0m\n",
      "\u001b[0;31mKeyboardInterrupt\u001b[0m: "
     ]
    }
   ],
   "source": [
    "@retry(wait_exponential_multiplier=1000, wait_exponential_max=600000)\n",
    "def downloadStreets(sname):\n",
    "    h = getStreetFeatures(sname)\n",
    "    #pp.pprint(h)\n",
    "    #h = getFeaturecollectionFromJS(h, False)\n",
    "    #meta = {\"name\": sname}\n",
    "    #writeMultiLineStringGEOJSON(str(i+1).zfill(5), h, \"/Users/szellmi/Google Drive/MOOVELLAB/00_Projects/mobviz/data/geo/streetsraw/\", meta)\n",
    "    writeFeatureCollectionGEOJSON(str(i+1+lagi).zfill(5), h, \"/Users/szellmi/Google Drive/MOOVELLAB/00_Projects/mobviz/data/geo/streetsraw/\")\n",
    "\n",
    "with open(pathdatain + 'berlin_streetnames.txt') as f:\n",
    "    snames = []\n",
    "    for line in f:\n",
    "        snames.append(line.rstrip('\\n'))\n",
    "bar = pyprind.ProgBar(len(snames), bar_char='█', update_interval=1)\n",
    "\n",
    "lagi = 470\n",
    "for i, sname in enumerate(snames[0+lagi:]):\n",
    "    bar.update(item_id = sname)\n",
    "    downloadStreets(sname)\n",
    "    "
   ]
  },
  {
   "cell_type": "markdown",
   "metadata": {},
   "source": [
    "## Download all street features, flatten (and hack)"
   ]
  },
  {
   "cell_type": "code",
   "execution_count": 348,
   "metadata": {
    "collapsed": false
   },
   "outputs": [
    {
     "name": "stderr",
     "output_type": "stream",
     "text": [
      "0%                          100%\n",
      "[                              ] | ETA: 16:48:56 | Item ID: Albert-Einstein-Ring"
     ]
    },
    {
     "ename": "KeyboardInterrupt",
     "evalue": "",
     "output_type": "error",
     "traceback": [
      "\u001b[0;31m---------------------------------------------------------------------------\u001b[0m",
      "\u001b[0;31mKeyboardInterrupt\u001b[0m                         Traceback (most recent call last)",
      "\u001b[0;32m<ipython-input-348-f3ede9943996>\u001b[0m in \u001b[0;36m<module>\u001b[0;34m()\u001b[0m\n\u001b[1;32m     13\u001b[0m \u001b[0;32mfor\u001b[0m \u001b[0mi\u001b[0m\u001b[0;34m,\u001b[0m \u001b[0msname\u001b[0m \u001b[0;32min\u001b[0m \u001b[0menumerate\u001b[0m\u001b[0;34m(\u001b[0m\u001b[0msnames\u001b[0m\u001b[0;34m)\u001b[0m\u001b[0;34m:\u001b[0m\u001b[0;34m\u001b[0m\u001b[0m\n\u001b[1;32m     14\u001b[0m     \u001b[0mbar\u001b[0m\u001b[0;34m.\u001b[0m\u001b[0mupdate\u001b[0m\u001b[0;34m(\u001b[0m\u001b[0mitem_id\u001b[0m \u001b[0;34m=\u001b[0m \u001b[0msname\u001b[0m\u001b[0;34m)\u001b[0m\u001b[0;34m\u001b[0m\u001b[0m\n\u001b[0;32m---> 15\u001b[0;31m     \u001b[0mdothestuff\u001b[0m\u001b[0;34m(\u001b[0m\u001b[0msname\u001b[0m\u001b[0;34m)\u001b[0m\u001b[0;34m\u001b[0m\u001b[0m\n\u001b[0m\u001b[1;32m     16\u001b[0m \u001b[0;34m\u001b[0m\u001b[0m\n\u001b[1;32m     17\u001b[0m \u001b[0;34m\u001b[0m\u001b[0m\n",
      "\u001b[0;32m/Users/szellmi/anaconda3/lib/python3.5/site-packages/retrying.py\u001b[0m in \u001b[0;36mwrapped_f\u001b[0;34m(*args, **kw)\u001b[0m\n\u001b[1;32m     47\u001b[0m             \u001b[0;34m@\u001b[0m\u001b[0msix\u001b[0m\u001b[0;34m.\u001b[0m\u001b[0mwraps\u001b[0m\u001b[0;34m(\u001b[0m\u001b[0mf\u001b[0m\u001b[0;34m)\u001b[0m\u001b[0;34m\u001b[0m\u001b[0m\n\u001b[1;32m     48\u001b[0m             \u001b[0;32mdef\u001b[0m \u001b[0mwrapped_f\u001b[0m\u001b[0;34m(\u001b[0m\u001b[0;34m*\u001b[0m\u001b[0margs\u001b[0m\u001b[0;34m,\u001b[0m \u001b[0;34m**\u001b[0m\u001b[0mkw\u001b[0m\u001b[0;34m)\u001b[0m\u001b[0;34m:\u001b[0m\u001b[0;34m\u001b[0m\u001b[0m\n\u001b[0;32m---> 49\u001b[0;31m                 \u001b[0;32mreturn\u001b[0m \u001b[0mRetrying\u001b[0m\u001b[0;34m(\u001b[0m\u001b[0;34m*\u001b[0m\u001b[0mdargs\u001b[0m\u001b[0;34m,\u001b[0m \u001b[0;34m**\u001b[0m\u001b[0mdkw\u001b[0m\u001b[0;34m)\u001b[0m\u001b[0;34m.\u001b[0m\u001b[0mcall\u001b[0m\u001b[0;34m(\u001b[0m\u001b[0mf\u001b[0m\u001b[0;34m,\u001b[0m \u001b[0;34m*\u001b[0m\u001b[0margs\u001b[0m\u001b[0;34m,\u001b[0m \u001b[0;34m**\u001b[0m\u001b[0mkw\u001b[0m\u001b[0;34m)\u001b[0m\u001b[0;34m\u001b[0m\u001b[0m\n\u001b[0m\u001b[1;32m     50\u001b[0m \u001b[0;34m\u001b[0m\u001b[0m\n\u001b[1;32m     51\u001b[0m             \u001b[0;32mreturn\u001b[0m \u001b[0mwrapped_f\u001b[0m\u001b[0;34m\u001b[0m\u001b[0m\n",
      "\u001b[0;32m/Users/szellmi/anaconda3/lib/python3.5/site-packages/retrying.py\u001b[0m in \u001b[0;36mcall\u001b[0;34m(self, fn, *args, **kwargs)\u001b[0m\n\u001b[1;32m    218\u001b[0m                     \u001b[0mjitter\u001b[0m \u001b[0;34m=\u001b[0m \u001b[0mrandom\u001b[0m\u001b[0;34m.\u001b[0m\u001b[0mrandom\u001b[0m\u001b[0;34m(\u001b[0m\u001b[0;34m)\u001b[0m \u001b[0;34m*\u001b[0m \u001b[0mself\u001b[0m\u001b[0;34m.\u001b[0m\u001b[0m_wait_jitter_max\u001b[0m\u001b[0;34m\u001b[0m\u001b[0m\n\u001b[1;32m    219\u001b[0m                     \u001b[0msleep\u001b[0m \u001b[0;34m=\u001b[0m \u001b[0msleep\u001b[0m \u001b[0;34m+\u001b[0m \u001b[0mmax\u001b[0m\u001b[0;34m(\u001b[0m\u001b[0;36m0\u001b[0m\u001b[0;34m,\u001b[0m \u001b[0mjitter\u001b[0m\u001b[0;34m)\u001b[0m\u001b[0;34m\u001b[0m\u001b[0m\n\u001b[0;32m--> 220\u001b[0;31m                 \u001b[0mtime\u001b[0m\u001b[0;34m.\u001b[0m\u001b[0msleep\u001b[0m\u001b[0;34m(\u001b[0m\u001b[0msleep\u001b[0m \u001b[0;34m/\u001b[0m \u001b[0;36m1000.0\u001b[0m\u001b[0;34m)\u001b[0m\u001b[0;34m\u001b[0m\u001b[0m\n\u001b[0m\u001b[1;32m    221\u001b[0m \u001b[0;34m\u001b[0m\u001b[0m\n\u001b[1;32m    222\u001b[0m             \u001b[0mattempt_number\u001b[0m \u001b[0;34m+=\u001b[0m \u001b[0;36m1\u001b[0m\u001b[0;34m\u001b[0m\u001b[0m\n",
      "\u001b[0;31mKeyboardInterrupt\u001b[0m: "
     ]
    }
   ],
   "source": [
    "@retry(wait_exponential_multiplier=1000, wait_exponential_max=600000)\n",
    "def downloadStreetsFlatten(sname):\n",
    "    h = getFlattenedStreetFeatures(sname) # if hacked too, use: getHackedStreet\n",
    "    meta = {\"name\": sname}\n",
    "    writeLineStringGEOJSON(str(i+1).zfill(5), h, \"/Users/szellmi/Google Drive/MOOVELLAB/00_Projects/mobviz/data/geo/streetsflattened/\", meta)\n",
    "\n",
    "with open(pathdatain + 'berlin_streetnames.txt') as f:\n",
    "    snames = []\n",
    "    for line in f:\n",
    "        snames.append(line.rstrip('\\n'))\n",
    "bar = pyprind.ProgBar(len(snames), bar_char='█', update_interval=1)\n",
    "\n",
    "for i, sname in enumerate(snames):\n",
    "    bar.update(item_id = sname)\n",
    "    downloadStreetsFlatten(sname)\n",
    "    \n",
    "    "
   ]
  }
 ],
 "metadata": {
  "anaconda-cloud": {},
  "kernelspec": {
   "display_name": "Python [Root]",
   "language": "python",
   "name": "Python [Root]"
  }
 },
 "nbformat": 4,
 "nbformat_minor": 0
}
