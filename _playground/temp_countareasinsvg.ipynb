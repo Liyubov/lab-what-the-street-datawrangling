{
 "cells": [
  {
   "cell_type": "code",
   "execution_count": 1,
   "metadata": {
    "collapsed": true
   },
   "outputs": [],
   "source": [
    "cities = [\"amsterdam\",\"berlin\",\"boston\",\"singapore\"]\n",
    "\n",
    "path = \"/Users/mszell/Google Drive/mobviz/Data/3 - Data for Production/\""
   ]
  },
  {
   "cell_type": "code",
   "execution_count": 2,
   "metadata": {
    "collapsed": true
   },
   "outputs": [],
   "source": [
    "from __future__ import unicode_literals\n",
    "import re, sys\n",
    "from operator import itemgetter"
   ]
  },
  {
   "cell_type": "code",
   "execution_count": 13,
   "metadata": {},
   "outputs": [
    {
     "name": "stdout",
     "output_type": "stream",
     "text": [
      "amsterdam bike: 29590.45m2, 106px,     279m2/px\n",
      "amsterdam car: 1554865.68m2, 3715px,     419m2/px\n",
      "berlin bike: 46532.72m2, 243px,     192m2/px\n",
      "berlin car: 8156098.32m2, 20584px,     396m2/px\n",
      "boston bike: 649.6m2, 5px,     138m2/px\n",
      "boston car: 1016707.26m2, 1695px,     600m2/px\n",
      "singapore bike: 4514.18m2, 52px,     87m2/px\n",
      "singapore car: 4227710.0m2, 4174px,     1013m2/px\n"
     ]
    }
   ],
   "source": [
    "for city in cities:\n",
    "    for mode in [\"bike\", \"car\"]:\n",
    "        area = 0\n",
    "        yxvals = []\n",
    "        pids = []\n",
    "        with open(path + city + \"/\" + mode + \"-parking.svg\") as f:\n",
    "            content = f.readlines()\n",
    "        content = [x.strip() for x in content] \n",
    "        header = content[0]\n",
    "        del content[0]\n",
    "        for line in content[:-1]:\n",
    "            a = float(re.findall ( 'moovel_area=\"(.*?)\"', line, re.DOTALL)[0])\n",
    "            area += a\n",
    "\n",
    "        area = round(area*100)/100\n",
    "        \n",
    "        height = float(re.findall ( 'height=\"(.*?)px\"', header, re.DOTALL)[0])\n",
    "        density = area/height\n",
    "        print(city + \" \" + mode + \": \" + str(area) + \"m2, \" + str(round(height)) + \"px,     \" + str(round(density)) + \"m2/px\")"
   ]
  },
  {
   "cell_type": "code",
   "execution_count": null,
   "metadata": {
    "collapsed": true
   },
   "outputs": [],
   "source": []
  }
 ],
 "metadata": {
  "kernelspec": {
   "display_name": "Python 3",
   "language": "python",
   "name": "python3"
  },
  "language_info": {
   "codemirror_mode": {
    "name": "ipython",
    "version": 3
   },
   "file_extension": ".py",
   "mimetype": "text/x-python",
   "name": "python",
   "nbconvert_exporter": "python",
   "pygments_lexer": "ipython3",
   "version": "3.6.1"
  }
 },
 "nbformat": 4,
 "nbformat_minor": 2
}
