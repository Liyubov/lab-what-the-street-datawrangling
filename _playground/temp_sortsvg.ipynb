{
 "cells": [
  {
   "cell_type": "code",
   "execution_count": 45,
   "metadata": {
    "collapsed": true
   },
   "outputs": [],
   "source": [
    "cities = [\"amsterdam\",\"berlin\",\"boston\",\"losangeles\",\"newyork\",\"portland\",\"sanfrancisco\",\"stuttgart\",\"vienna\"]\n",
    "\n",
    "path = \"/mnt/cns_storage2/github_shared/data/\""
   ]
  },
  {
   "cell_type": "code",
   "execution_count": 46,
   "metadata": {
    "collapsed": true
   },
   "outputs": [],
   "source": [
    "from __future__ import unicode_literals\n",
    "import re\n",
    "from operator import itemgetter"
   ]
  },
  {
   "cell_type": "code",
   "execution_count": 52,
   "metadata": {
    "collapsed": true
   },
   "outputs": [],
   "source": [
    "for city in cities:\n",
    "    for mode in [\"bike\", \"car\"]:\n",
    "        polygonstring = {}\n",
    "        yxvals = []\n",
    "        pids = []\n",
    "        with open(path + city + mode + \".svg\") as f:\n",
    "            content = f.readlines()\n",
    "        content = [x.strip() for x in content] \n",
    "        header = content[0]\n",
    "        del content[0]\n",
    "        for line in content[:-1]:\n",
    "            pid = int(re.findall ( 'id=\"(.*?)\"', line, re.DOTALL)[0])\n",
    "            pids.append(pid)\n",
    "            polygonstring[pid] = line\n",
    "            points = re.findall ( 'points=\"(.*?)\" moovel_rot=', line, re.DOTALL)[0].strip().split(\" \")\n",
    "            points = [(x.split(\",\")) for x in points]\n",
    "            points = [(float(x[0]),float(x[1])) for x in points]\n",
    "            yxvals.append((min(points,key=itemgetter(1))[1], min(points,key=itemgetter(0))[0]))\n",
    "\n",
    "\n",
    "        # order lexicographically\n",
    "        sortorder = sorted(range(len(yxvals)),key=lambda x:yxvals[x])\n",
    "        svg = header+\"\\n\"\n",
    "        for s in sortorder:\n",
    "            svg += polygonstring[pids[s]]+\"\\n\"\n",
    "        svg += \"</svg>\"\n",
    "\n",
    "        # export\n",
    "        with open(path + city + mode + \"_sorted.svg\", \"w\") as f:\n",
    "            f.write(svg)"
   ]
  }
 ],
 "metadata": {
  "kernelspec": {
   "display_name": "Python 3",
   "language": "python",
   "name": "python3"
  },
  "language_info": {
   "codemirror_mode": {
    "name": "ipython",
    "version": 3
   },
   "file_extension": ".py",
   "mimetype": "text/x-python",
   "name": "python",
   "nbconvert_exporter": "python",
   "pygments_lexer": "ipython3",
   "version": "3.6.1"
  }
 },
 "nbformat": 4,
 "nbformat_minor": 2
}
