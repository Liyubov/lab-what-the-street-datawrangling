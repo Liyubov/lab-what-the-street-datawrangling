{
 "cells": [
  {
   "cell_type": "code",
   "execution_count": 1,
   "metadata": {
    "collapsed": true
   },
   "outputs": [],
   "source": [
    "%matplotlib inline"
   ]
  },
  {
   "cell_type": "markdown",
   "metadata": {
    "nbpresent": {
     "id": "5071d945-0c46-46fa-a6a7-58745a018537"
    }
   },
   "source": [
    "# car2go data analysis and exploration"
   ]
  },
  {
   "cell_type": "markdown",
   "metadata": {
    "nbpresent": {
     "id": "955f640e-53e6-445b-8dc4-d8bd558a0463"
    }
   },
   "source": [
    "This notebook investigates the consistency and key features of the available car2go data sets.\n",
    "\n",
    "Created on:  2016-09-20  \n",
    "Last update: 2016-09-26  \n",
    "Contact: michael.szell@moovel.com, michael.szell@gmail.com (Michael Szell)"
   ]
  },
  {
   "cell_type": "markdown",
   "metadata": {},
   "source": [
    "## General information about the car2go service"
   ]
  },
  {
   "cell_type": "markdown",
   "metadata": {},
   "source": [
    "*Reservations*  \n",
    "Cars can be reserved up to 30 minutes in advance. Reserved cars are removed from the map and are invisible to crawlers. Anecdotal knowledge: Reservations up to 20 minutes usually lead to a trip, longer reservations not. It is not clear how long the average reservation time is.\n",
    "\n",
    "*Trips*  \n",
    "Trips can last up to 48 hours, but potentially also longer: car2go behält sich das Recht vor, Einzelmietverträge jederzeit einseitig zu beenden, wenn diese die maximale Mietzeit von 48 Stunden überschreiten.\n",
    "\n",
    "*Parking*  \n",
    "During a trip, a car can be parked. This reduces the running cost from 0.29 EUR to 0.19 EUR / min. Parked cars are part of the rental time and therefore not visible to crawlers. "
   ]
  },
  {
   "cell_type": "markdown",
   "metadata": {
    "nbpresent": {
     "id": "5fa1f961-d989-4073-8e35-a744fa0f6bbe"
    }
   },
   "source": [
    "## Crawled car2go data (2015-2016)\n",
    "Data crawled by https://github.com/moovel/moovel-predict\n",
    "\n",
    "The crawl pings happened every 1 min until 2015-10-12,  \n",
    "from then every 10 min until 2016-05-23 13:04,  \n",
    "from then every 5 min"
   ]
  },
  {
   "cell_type": "code",
   "execution_count": 58,
   "metadata": {
    "collapsed": false,
    "nbpresent": {
     "id": "95381a22-85f1-4000-a571-1eb562a98434"
    }
   },
   "outputs": [],
   "source": [
    "# preliminaries\n",
    "import sys\n",
    "import csv\n",
    "import os\n",
    "import math\n",
    "import pprint\n",
    "import requests\n",
    "import gzip\n",
    "from collections import defaultdict\n",
    "import time\n",
    "import datetime\n",
    "import numpy as np\n",
    "from scipy import stats\n",
    "import pyprind\n",
    "import itertools\n",
    "import logging\n",
    "from ast import literal_eval as make_tuple\n",
    "\n",
    "# plotting stuff\n",
    "import matplotlib.pyplot as plt\n",
    "# import mpld3\n",
    "# mpld3.enable_notebook() # unfortunately, this is too buggy: https://github.com/mpld3/mpld3/issues/193\n",
    "# mpld3.disable_notebook()\n",
    "\n",
    "pathdatain = '/Users/szellmi/Google Drive/MOOVELLAB/00_Projects/mobviz/data/raw/'\n",
    "pathdataout = '/Users/szellmi/Google Drive/MOOVELLAB/00_Projects/mobviz/data/derived/'\n",
    "pathdatainlocal = '/Users/szellmi/mobviz/raphael/aa_root/'\n",
    "pathdataoutlocal = '/Users/szellmi/mobviz/data/derived/'\n",
    "curtime = time.strftime(\"%Y%m%d_%H%M%S\")\n",
    "logging.basicConfig(filename=pathdataout+'mobviz_dataanalysis'+curtime+'.log',level=logging.DEBUG)\n",
    "pp = pprint.PrettyPrinter(indent=4)\n",
    "\n",
    "flag_calculate = True # if this flag is set, data will be calculated, not loaded\n",
    "# Until importcartimelines is adapted to work with the crawled car2go data, always set this to True"
   ]
  },
  {
   "cell_type": "code",
   "execution_count": 3,
   "metadata": {
    "collapsed": false
   },
   "outputs": [],
   "source": [
    "# functions\n",
    "\n",
    "def writedictlists(filepath, dictlists, mode='w'):\n",
    "    with open(filepath, mode) as f:\n",
    "        keyssorted = sorted(list(dictlists.keys()))\n",
    "        for j, k in enumerate(keyssorted):\n",
    "            f.write(','.join([str(i) for i in dictlists[k]]))\n",
    "            if j != len(dictlists)-1: # no linebreak after last line\n",
    "                f.write(\"\\n\")\n",
    "                \n",
    "def writedictkeys(filepath, dictlists, mode='w'):\n",
    "    with open(filepath, mode) as f:\n",
    "        keyssorted = sorted(list(dictlists.keys()))\n",
    "        for j, k in enumerate(keyssorted):\n",
    "            f.write(str(k))\n",
    "            if j != len(dictlists)-1: # no linebreak after last line\n",
    "                f.write(\"\\n\")\n",
    "\n",
    "def importcartimelines(filepath): # Use this only for car2go direct data, not (yet) for the crawled one\n",
    "    tempfilepath = filepath[0:-4]+'id'+filepath[-4:]\n",
    "    keys = [line.rstrip('\\n') for line in open(tempfilepath)]\n",
    "    return {'cartimelinesopstatebefore': readdictlists(filepath[0:-4]+'opstatebefore'+filepath[-4:], keys),\n",
    "            'cartimelinesopstateafter': readdictlists(filepath[0:-4]+'opstateafter'+filepath[-4:], keys),\n",
    "            'cartimelines': readdictlists(filepath, keys),\n",
    "            'cartimelinesid': keys,\n",
    "            'cartimelinesdiff': readdictlists(filepath[0:-4]+'diff'+filepath[-4:], keys),\n",
    "            'cartimelinesparking': readdictlists(filepath[0:-4]+'parking'+filepath[-4:], keys),\n",
    "            'cartimelinesloc': readdictlistsloc(filepath[0:-4]+'loc'+filepath[-4:], keys),\n",
    "            'cardailymovedurations': readdictlists(filepath[0:-13]+'dailymovedurations'+filepath[-4:], keys)\n",
    "           }\n",
    "\n",
    "def readdictlists(filepath, keys):\n",
    "    output = {}\n",
    "    keys = sorted(list(keys))\n",
    "    with open(filepath, 'r') as f:\n",
    "        for i, line in enumerate(f):\n",
    "            try:\n",
    "                output[keys[i]] = [int(x) for x in line.rstrip('\\n').split(',')]\n",
    "            except: # if it is just one element\n",
    "                output[keys[i]] = [int(x) for x in line.rstrip('\\n')]\n",
    "    return output\n",
    "\n",
    "def readdictlistsloc(filepath, keys):\n",
    "    output = {}\n",
    "    keys = sorted(list(keys))\n",
    "    with open(filepath, 'r') as f:\n",
    "        for i, line in enumerate(f):\n",
    "            output[keys[i]] = [make_tuple(x.strip(\"()\")) for x in line.rstrip('\\n').split('),(')] # http://stackoverflow.com/questions/9763116/parse-a-tuple-from-a-string. make_tuple is maybe the most elegant way, but makes it really slow. if speed needed, change this.\n",
    "    return output\n",
    "                \n",
    "def createdailymovedurations(cartimelines, timefirst=1383346800, timelast=1414882800, cartimelinesopstate = {}):\n",
    "    # From car timelines (durations of single trips), generate sums of trips aggregated daily. This includes parking times.\n",
    "    bar = pyprind.ProgBar(len(cartimelines), bar_char='█', update_interval=1)\n",
    "    cardailymovedurations = defaultdict(list)\n",
    "    # go through days for all cars\n",
    "    flag_carinuse = True\n",
    "    for k in cartimelines:\n",
    "        thiscartimeline = np.array(cartimelines[k])\n",
    "        thiscartimelinediff = np.array(cartimelinesdiff[k])\n",
    "        if len(cartimelinesopstate) == len(cartimelines): # we have opstate info, so consider it\n",
    "            thiscartimelineopstate = np.array(cartimelinesopstate[k])\n",
    "        for d in list(range(timefirst, timelast, 86400)):\n",
    "            ind = np.where(np.logical_and(thiscartimeline >= d, thiscartimeline < d+86400))\n",
    "            thisdaymovedurations = np.sum(thiscartimelinediff[ind[0][:-1]])\n",
    "            if thisdaymovedurations == 0 and not(flag_carinuse):\n",
    "                thisdaymovedurations = -1\n",
    "            if thisdaymovedurations > 0: # There was movement, so car is in use again\n",
    "                flag_carinuse = True\n",
    "            cardailymovedurations[k].append(thisdaymovedurations)\n",
    "            if len(cartimelinesopstate) == len(cartimelines): # we have opstate info, so consider it\n",
    "                if 0 in thiscartimelineopstate[ind[0][:-1]]:\n",
    "                    flag_carinuse = False # if there is a zero opstate, set Flag to False so that following zero-days do not count\n",
    "        bar.update(item_id = i)\n",
    "        \n",
    "    # another loop to set all 0,0,0,|0,0,.. to 0,0,0,|-1,-1,.. because cars have to be removed after not used in 72 hours\n",
    "    for k in cardailymovedurations:\n",
    "        zerocounter = 0\n",
    "        thiscardailymovedurations = cardailymovedurations[k]\n",
    "        for j in range(len(thiscardailymovedurations)):\n",
    "            if thiscardailymovedurations[j] == 0:\n",
    "                zerocounter += 1\n",
    "            else:\n",
    "                zerocounter = 0\n",
    "            if zerocounter > 3:\n",
    "                thiscardailymovedurations[j] = -1\n",
    "        cardailymovedurations[k] = thiscardailymovedurations\n",
    "    return cardailymovedurations\n",
    "\n",
    "def file_len(fname): # http://stackoverflow.com/questions/845058/how-to-get-line-count-cheaply-in-python\n",
    "    with open(fname) as f:\n",
    "        for i, l in enumerate(f):\n",
    "            pass\n",
    "    return i + 1\n",
    "\n",
    "def isgoodopstate(opstate):\n",
    "    if opstate == \"GREEN\" or opstate == \"ORANGE\" or opstate == \"RED\":\n",
    "        return True\n",
    "    else:\n",
    "        return False\n",
    "    \n",
    "def mapopstate(opstate):\n",
    "    # opstates:\n",
    "    # GREEN: free\n",
    "    # ORANGE: reserved\n",
    "    # RED: occupied\n",
    "    # else: service\n",
    "    if opstate == \"GREEN\" or opstate == \"RED\":\n",
    "        return 1\n",
    "    elif opstate == \"ORANGE\":\n",
    "        return 2\n",
    "    else:\n",
    "        return 0"
   ]
  },
  {
   "cell_type": "code",
   "execution_count": null,
   "metadata": {
    "collapsed": false,
    "nbpresent": {
     "id": "6dd96304-9cea-4a85-84f3-506f6cb9669b"
    }
   },
   "outputs": [],
   "source": [
    "# create a dict of car timelines, storing all points in time when the car was available\n",
    "chunklimits = [0]+list(range(5000000, 51000001, 2000000))\n",
    "limitstrout = str(chunklimits[0]+1)+'-'+str(chunklimits[-1])\n",
    "    \n",
    "if flag_calculate:\n",
    "    # Go through the chunks\n",
    "    cartimelines = defaultdict(list)\n",
    "    cartimelinesdiff = defaultdict(list)\n",
    "    cartimelinesloc = defaultdict(list)\n",
    "    for c in range(len(chunklimits)-1):\n",
    "        indlow = chunklimits[c]+1\n",
    "        indhigh = chunklimits[c+1]\n",
    "        limitstr = str(indlow)+'-'+str(indhigh)\n",
    "        datain = 'car2go_crawl_'+limitstr+'.csv' # 'testData_moovelCrawler.csv'\n",
    "\n",
    "        # UNIX timestamps and locations\n",
    "        bar = pyprind.ProgBar(file_len(pathdatain+datain), bar_char='█', update_interval=1)\n",
    "        with open(pathdatain+datain, 'r') as f:\n",
    "            reader = csv.reader(f)\n",
    "            for i, line in enumerate(reader):\n",
    "                bar.update(item_id = [i, limitstr])\n",
    "                if i >= 1: # ignore header\n",
    "                    s = str(line[3]) + \"/\" + str(line[4]) + \"/\" + str(line[5]) + \"/\" + str(line[6]) + \"/\" + str(line[7])\n",
    "                    try:\n",
    "                        timestamp = int(time.mktime(datetime.datetime.strptime(s, \"%Y/%m/%d/%H/%M\").timetuple()))\n",
    "                        if timestamp > 1444644180: # before 1444644180, crawler was running every minute. after, every 10 minutes.\n",
    "                            cartimelines[line[0]].append(timestamp)\n",
    "                            cartimelinesloc[line[0]].append((line[1], line[2])) # lat,lng\n",
    "                    except: # There is June 31st for some reason..\n",
    "                        logging.error(\"Date not defined: \"+s)\n",
    "                        pass\n",
    "    # export\n",
    "    dataout = 'car2go_crawl_'+limitstrout+'_cartimelinesid.txt'\n",
    "    writedictkeys(pathdataout+dataout, cartimelines)\n",
    "\n",
    "    dataout = 'car2go_crawl_'+limitstrout+'_cartimelines.txt'\n",
    "    writedictlists(pathdataout+dataout, cartimelines)\n",
    "\n",
    "    dataout = 'car2go_crawl_'+limitstrout+'_cartimelinesloc.txt'\n",
    "    writedictlists(pathdataout+dataout, cartimelinesloc)\n",
    "\n",
    "    # create diffs\n",
    "    for k in cartimelines:\n",
    "        thistimediffsall = list(np.diff(np.asarray(cartimelines[k])))\n",
    "        thistimediffs = []\n",
    "        thistimelinesall = cartimelines[k]\n",
    "        for i, d in enumerate(thistimediffsall):\n",
    "            if cartimelines[k][i] < 1464005100: # 2016-05-23 13:04, had 10 min ping diffs\n",
    "                if d > 660 or (d <= 660 and cartimelinesloc[k][i] != cartimelinesloc[k][i+1]): # if timediff is small, record only if location has changed\n",
    "                    thistimediffs.append(int(d//60)) # divide by 60 to see minutes, not seconds\n",
    "                else:\n",
    "                    thistimediffs.append(0) # add zero so we know there was no movement\n",
    "            else: \n",
    "                if d > 360 or (d <= 360 and cartimelinesloc[k][i] != cartimelinesloc[k][i+1]): # if timediff is small, record only if location has changed\n",
    "                    thistimediffs.append(int(d//60)) # divide by 60 to see minutes, not seconds\n",
    "                else:\n",
    "                    thistimediffs.append(0) # add zero so we know there was no movement\n",
    "        cartimelinesdiff[k] = thistimediffs\n",
    "\n",
    "    # export\n",
    "    dataout = 'car2go_crawl_'+limitstrout+'_cartimelinesdiff.txt'\n",
    "    writedictlists(pathdataout+dataout, cartimelinesdiff)\n",
    "    \n",
    "    # Daily use: for each car, look how much it is moved every day\n",
    "    cardailymovedurations = createdailymovedurations(cartimelines, 1444690800, 1474498800)\n",
    "    # 1444690800 = 2015-10-13 00:00:00 CET\n",
    "    # 1474498800 = 2016-09-22 00:00:00 CET\n",
    "\n",
    "    # export\n",
    "    dataout = 'car2go_crawl_'+limitstrout+'_cardailymovedurations.txt'\n",
    "    writedictlists(pathdataout+dataout, cardailymovedurations)\n",
    "    \n",
    "else:\n",
    "    # load data\n",
    "    cartimelinesinfo = importcartimelines(pathdataout+'car2go_crawl_'+limitstrout+'_cartimelines.txt')\n",
    "    cartimelines = cartimelinesinfo['cartimelines']\n",
    "    cartimelinesid = cartimelinesinfo['cartimelinesid']\n",
    "    cartimelinesdiff = cartimelinesinfo['cartimelinesdiff']\n",
    "    cartimelinesloc = cartimelinesinfo['cartimelinesloc']"
   ]
  },
  {
   "cell_type": "code",
   "execution_count": null,
   "metadata": {
    "collapsed": false
   },
   "outputs": [],
   "source": [
    "# check file lengths\n",
    "# for c in range(len(chunklimits)-1):\n",
    "#     indlow = chunklimits[c]+1\n",
    "#     indhigh = chunklimits[c+1]\n",
    "#     limitstr = str(indlow)+'-'+str(indhigh)\n",
    "#     datain = 'car2go_crawl_'+limitstr+'.csv' # 'testData_moovelCrawler.csv'\n",
    "#     print(limitstr+': '+str(file_len(pathdatain+datain)))\n",
    "\n",
    "# consistency checks\n",
    "# plot the times. go through all hours and plot number of car records\n",
    "\n",
    "times = range(1444644780, 1472199840, 24*3600)\n",
    "numrecs = [0]*(len(times)-1)\n",
    "for k in cartimelines:\n",
    "    x = np.array(cartimelines[k])\n",
    "    for i in range(len(times)-1):\n",
    "        indlow = times[i]\n",
    "        indhigh = times[i+1]\n",
    "        numrecs[i] += np.count_nonzero(np.where(np.logical_and( x >= indlow, x < indhigh)))\n",
    "    "
   ]
  },
  {
   "cell_type": "code",
   "execution_count": null,
   "metadata": {
    "collapsed": false
   },
   "outputs": [],
   "source": [
    "# plot\n",
    "x = np.array(list(times[:-1]))\n",
    "y = np.array(numrecs)\n",
    "plt.figure(figsize=(12,5))\n",
    "plt.ylabel('Number of daily records')\n",
    "plt.xlabel('Timestamp')\n",
    "plt.title('car2go crawled: Data availability')\n",
    "xticks = list(range(1440000000, 1480000000, 5000000))\n",
    "labels = [datetime.datetime.fromtimestamp(t).strftime('%Y-%m-%d') for t in xticks]\n",
    "plt.xticks(xticks, labels)\n",
    "plt.plot(x, y);"
   ]
  },
  {
   "cell_type": "code",
   "execution_count": 30,
   "metadata": {
    "collapsed": false,
    "nbpresent": {
     "id": "1a4bfd47-187c-4c67-a2be-716d0a1b85f7"
    }
   },
   "outputs": [
    {
     "data": {
      "image/png": "[encoded data removed]",
      "text/plain": [
       "<matplotlib.figure.Figure at 0x3d5d89080>"
      ]
     },
     "metadata": {},
     "output_type": "display_data"
    }
   ],
   "source": [
    "# Histogram of trip durations\n",
    "diffs = [cartimelinesdiff[k] for k in cartimelinesdiff]\n",
    "data = np.hstack(diffs)\n",
    "plt.hist(data, bins=list(range(5,180,10)))\n",
    "plt.ylabel('Frequency')\n",
    "plt.xlabel('Minutes')\n",
    "plt.title('car2go crawled: Trip durations')\n",
    "plt.show()"
   ]
  },
  {
   "cell_type": "code",
   "execution_count": 31,
   "metadata": {
    "collapsed": false
   },
   "outputs": [
    {
     "data": {
      "image/png": "[encoded data removed]",
      "text/plain": [
       "<matplotlib.figure.Figure at 0x3d4f8c4a8>"
      ]
     },
     "metadata": {},
     "output_type": "display_data"
    }
   ],
   "source": [
    "# Histogram of daily move durations\n",
    "cityname = 'Berlin'\n",
    "data = [cardailymovedurations[k] for k in cardailymovedurations]\n",
    "data = list(itertools.chain(*data))\n",
    "#data = np.divide(np.asarray(data), 60)\n",
    "data = np.asarray(data)\n",
    "data = data[data>=0] # do not consider the -1 values\n",
    "plt.figure(figsize=(8,6))\n",
    "plt.hist(data, bins=list(range(1,900,10)))\n",
    "plt.text(np.mean(data) + 6, 7600, str(round(np.mean(data), 2))+\" min\", fontsize=14)\n",
    "plt.axvline(x=np.mean(data))\n",
    "plt.ylabel('Frequency')\n",
    "plt.xlabel('Minutes')\n",
    "plt.title('car2go crawled: Daily move durations, with zeros ('+cityname+')')\n",
    "plt.show()"
   ]
  },
  {
   "cell_type": "markdown",
   "metadata": {},
   "source": [
    "## Crawled MyTaxi data"
   ]
  },
  {
   "cell_type": "code",
   "execution_count": null,
   "metadata": {
    "collapsed": false
   },
   "outputs": [],
   "source": [
    "# # create a dict of taxi timelines, storing all points in time when the car was available\n",
    "# # NOTE: The IDs are not unique / do not make sense. The output from here is garbage.\n",
    "# datain = 'myTaxi_entireCrawl.csv'\n",
    "\n",
    "# # UNIX timestamps and locations\n",
    "# cartimelines = defaultdict(list)\n",
    "# cartimelinesdiff = defaultdict(list)\n",
    "# cartimelinesloc = defaultdict(list)\n",
    "# bar = pyprind.ProgBar(file_len(pathdatain+datain), bar_char='█', update_interval=1)\n",
    "# with open(pathdatain+datain, 'r') as f:\n",
    "#     reader = csv.reader(f)\n",
    "#     for i, line in enumerate(reader):\n",
    "#         bar.update(item_id = i)\n",
    "#         if i >= 1: # ignore header\n",
    "#             s = str(line[3]) + \"/\" + str(line[4]) + \"/\" + str(line[5]) + \"/\" + str(line[6]) + \"/\" + str(line[7])\n",
    "#             try:\n",
    "#                 timestamp = int(time.mktime(datetime.datetime.strptime(s, \"%Y/%m/%d/%H/%M\").timetuple()))\n",
    "#                 cartimelines[line[0]].append(timestamp)\n",
    "#                 cartimelinesloc[line[0]].append((line[1], line[2])) # lat,lng\n",
    "#             except: # There is June 31st for some reason..\n",
    "#                 pass\n",
    "            \n",
    "# # export\n",
    "# dataout = 'mytaxi_crawl_cartimelinesid.txt'\n",
    "# writedictkeys(pathdataout+dataout, cartimelines)\n",
    "        \n",
    "# dataout = 'mytaxi_crawl_cartimelines.txt'\n",
    "# writedictlists(pathdataout+dataout, cartimelines)\n",
    "\n",
    "# dataout = 'mytaxi_crawl_cartimelinesloc.txt'\n",
    "# writedictlists(pathdataout+dataout, cartimelinesloc)\n",
    "        \n",
    "# # create diffs\n",
    "# for k in cartimelines:\n",
    "#     thistimediffsall = list(np.diff(np.asarray(cartimelines[k])))\n",
    "#     thistimediffs = []\n",
    "#     for i, d in enumerate(thistimediffsall):\n",
    "#         #if d > 600 or (d == 600 and cartimelinesloc[k][i] != cartimelinesloc[k][i+1]): # if timediff is 600, record only if location has changed\n",
    "#         thistimediffs.append(d//60) # divide by 60 to see minutes, not seconds\n",
    "#         #else:\n",
    "#         #    thistimediffs.append(0) # add zero so we know there was no movement\n",
    "#     cartimelinesdiff[k] = thistimediffs\n",
    "    \n",
    "# # export\n",
    "# dataout = 'mytaxi_crawl_cartimelinesdiff.txt'\n",
    "# writedictlists(pathdataout+dataout, cartimelinesdiff)"
   ]
  },
  {
   "cell_type": "markdown",
   "metadata": {
    "nbpresent": {
     "id": "ca4b0056-e521-47bb-ab36-ff3457668d7e"
    }
   },
   "source": [
    "## Direct car2go data (2014)"
   ]
  },
  {
   "cell_type": "markdown",
   "metadata": {},
   "source": [
    "This is sensitive data gathered by Raphael Reimann directly from car2go that cannot be shared or made public."
   ]
  },
  {
   "cell_type": "code",
   "execution_count": null,
   "metadata": {
    "collapsed": false
   },
   "outputs": [],
   "source": [
    "# create a dict of car timelines, storing all points in time when the car was available\n",
    "citynames = ['Berlin', 'Düsseldorf', 'Hamburg', 'Köln', 'München', 'Stuttgart', 'Ulm', 'Wien']\n",
    "\n",
    "for cityname in citynames:\n",
    "    datain = 'Rentals_'+cityname+'.csv'\n",
    "\n",
    "    # UNIX timestamps and locations\n",
    "    cartimelines = defaultdict(list)\n",
    "    cartimelinesdiff = defaultdict(list)\n",
    "    cartimelinesparking = defaultdict(list)\n",
    "    cartimelinesloc = defaultdict(list)\n",
    "    cartimelinesopstateafter = defaultdict(list)\n",
    "    cartimelinesopstatebefore = defaultdict(list)\n",
    "    bar = pyprind.ProgBar(file_len(pathdatainlocal+datain), bar_char='█', update_interval=1)\n",
    "    with open(pathdatainlocal+datain, 'r') as f:\n",
    "        reader = csv.reader(f, delimiter=\";\")\n",
    "        for i, line in enumerate(reader):\n",
    "            vehicleid = line[3] # VEHICLE_VIN\n",
    "            bar.update(item_id = i)\n",
    "            if i >= 1: # ignore header\n",
    "                s = str(line[4][:19]) # STARTED_LOCAL\n",
    "                timestamp = int(time.mktime(datetime.datetime.strptime(s, \"%Y-%m-%d %H:%M:%S\").timetuple()))\n",
    "                if int(line[15]) == 0 and int(line[12]) > 0 and int(line[12]) > int(line[13]):\n",
    "                    # only non-service-drives, non-1900 drives where duration is 0, and drives where car was actually moved\n",
    "                    cartimelines[vehicleid].append(timestamp)\n",
    "                    cartimelinesloc[vehicleid].append((float(line[5].replace(',', '.')), float(line[6].replace(',', '.')))) # lat,lng\n",
    "                    cartimelinesdiff[vehicleid].append(int(line[12])) # DURATION\n",
    "                    cartimelinesparking[vehicleid].append(int(line[13])) # PARKINGDURATION\n",
    "                    cartimelinesopstateafter[vehicleid].append(mapopstate(line[-1])) # OPSTATE_AFTER\n",
    "                    cartimelinesopstatebefore[vehicleid].append(mapopstate(line[-2])) # OPSTATE_BEFORE\n",
    "\n",
    "    # export\n",
    "    dataout = 'car2go_direct2014_'+cityname+'_cartimelinesid.txt'\n",
    "    writedictkeys(pathdataoutlocal+dataout, cartimelines)\n",
    "\n",
    "    dataout = 'car2go_direct2014_'+cityname+'_cartimelines.txt'\n",
    "    writedictlists(pathdataoutlocal+dataout, cartimelines)\n",
    "\n",
    "    dataout = 'car2go_direct2014_'+cityname+'_cartimelinesloc.txt'\n",
    "    writedictlists(pathdataoutlocal+dataout, cartimelinesloc)\n",
    "\n",
    "    dataout = 'car2go_direct2014_'+cityname+'_cartimelinesdiff.txt'\n",
    "    writedictlists(pathdataoutlocal+dataout, cartimelinesdiff)\n",
    "    \n",
    "    dataout = 'car2go_direct2014_'+cityname+'_cartimelinesparking.txt'\n",
    "    writedictlists(pathdataoutlocal+dataout, cartimelinesparking)\n",
    "\n",
    "    dataout = 'car2go_direct2014_'+cityname+'_cartimelinesopstatebefore.txt'\n",
    "    writedictlists(pathdataoutlocal+dataout, cartimelinesopstatebefore)\n",
    "\n",
    "    dataout = 'car2go_direct2014_'+cityname+'_cartimelinesopstateafter.txt'\n",
    "    writedictlists(pathdataoutlocal+dataout, cartimelinesopstateafter)\n",
    "\n",
    "    # Daily use: for each car, look how much it is moved every day\n",
    "    cardailymovedurations = createdailymovedurations(cartimelines, 1383346800, 1414882800, cartimelinesopstateafter)\n",
    "    # 1383346800 = 2013-11-02 00:00:00 CET\n",
    "    # 1414882800 = 2014-11-01 00:00:00 CET\n",
    "    # export\n",
    "    dataout = 'car2go_direct2014_'+cityname+'_cardailymovedurations.txt'\n",
    "    writedictlists(pathdataoutlocal+dataout, cardailymovedurations)"
   ]
  },
  {
   "cell_type": "code",
   "execution_count": 8,
   "metadata": {
    "collapsed": true
   },
   "outputs": [],
   "source": [
    "# data was just saved. now load it.\n",
    "cityname = 'Berlin'\n",
    "cartimelinesinfo = importcartimelines(pathdataoutlocal+'car2go_direct2014_'+cityname+'_cartimelines.txt')\n",
    "cartimelines = cartimelinesinfo['cartimelines']\n",
    "cartimelinesid = cartimelinesinfo['cartimelinesid']\n",
    "cartimelinesdiff = cartimelinesinfo['cartimelinesdiff']\n",
    "cartimelinesopstateafter = cartimelinesinfo['cartimelinesopstateafter']\n",
    "cartimelinesopstatebefore = cartimelinesinfo['cartimelinesopstatebefore']\n",
    "cartimelinesloc = cartimelinesinfo['cartimelinesloc']\n",
    "cartimelinesparking = cartimelinesinfo['cartimelinesparking']\n",
    "cardailymovedurations = cartimelinesinfo['cardailymovedurations']"
   ]
  },
  {
   "cell_type": "code",
   "execution_count": 6,
   "metadata": {
    "collapsed": false
   },
   "outputs": [
    {
     "data": {
      "image/png": "[encoded data removed]",
      "text/plain": [
       "<matplotlib.figure.Figure at 0x10e056908>"
      ]
     },
     "metadata": {},
     "output_type": "display_data"
    }
   ],
   "source": [
    "# Histogram of trip durations\n",
    "diffs = [cartimelinesdiff[k] for k in cartimelinesdiff]\n",
    "data = np.hstack(diffs)\n",
    "data = np.divide(np.asarray(data), 60)\n",
    "plt.hist(data, bins=list(range(10-5,180,10)))\n",
    "plt.ylabel('Frequency')\n",
    "plt.xlabel('Minutes')\n",
    "plt.title('car2go direct: Trip durations')\n",
    "plt.show()"
   ]
  },
  {
   "cell_type": "code",
   "execution_count": 10,
   "metadata": {
    "collapsed": false
   },
   "outputs": [
    {
     "data": {
      "image/png": "[encoded data removed]",
      "text/plain": [
       "<matplotlib.figure.Figure at 0x11e620d30>"
      ]
     },
     "metadata": {},
     "output_type": "display_data"
    }
   ],
   "source": [
    "# Histogram of daily move durations\n",
    "data = [cardailymovedurations[k] for k in cardailymovedurations]\n",
    "data = list(itertools.chain(*data))\n",
    "data = np.divide(np.asarray(data), 60)\n",
    "data = data[data>=0] # do not consider the -1 values\n",
    "plt.figure(figsize=(8,6))\n",
    "plt.hist(data, bins=list(range(1,300,1)))\n",
    "plt.text(np.mean(data) + 6, 2200, str(round(np.mean(data), 2))+\" min\", fontsize=14)\n",
    "plt.axvline(x=np.mean(data))\n",
    "plt.ylabel('Frequency')\n",
    "plt.xlabel('Minutes')\n",
    "plt.title('car2go direct: Daily move durations, with zeros ('+cityname+')')\n",
    "plt.show()"
   ]
  },
  {
   "cell_type": "code",
   "execution_count": null,
   "metadata": {
    "collapsed": false
   },
   "outputs": [],
   "source": [
    "# boxplot\n",
    "# turns out data is too skewed for a reasonable box plot\n",
    "#fig = plt.figure(figsize=(8,6))\n",
    "#plt.boxplot(data, 0, 'rs', 0)\n",
    "#plt.yticks([1])\n",
    "#plt.ylabel('measurement x')\n",
    "#plt.title('Daily move durations, all zeros removed ('+cityname+')')\n",
    "#plt.show()"
   ]
  },
  {
   "cell_type": "markdown",
   "metadata": {},
   "source": [
    "## Making sense of the discrepancy between crawled and direct car2go data"
   ]
  },
  {
   "cell_type": "markdown",
   "metadata": {},
   "source": [
    "We observe the following: Trip durations of crawled data are substantially inflated, by about 25 minutes. As a consequence, daily move durations are also inflated. The question is why?\n",
    "\n",
    "Possible explanations, ordered by expected impact of effect:\n",
    "* Reservations take out a car from the crawler prior to the real trip, increase trip duration as perceived by crawling\n",
    "* Two trips that follow up shortly on each other are concatenated as one long trip if no ping happens between them. This should have no effect on daily move durations though.\n",
    "\n",
    "In the following, we try to find a solution to fix this mess."
   ]
  },
  {
   "cell_type": "markdown",
   "metadata": {},
   "source": [
    "### Compare statistics of trips with and without reservation "
   ]
  },
  {
   "cell_type": "code",
   "execution_count": 11,
   "metadata": {
    "collapsed": false
   },
   "outputs": [
    {
     "name": "stdout",
     "output_type": "stream",
     "text": [
      "52% of trips are reserved\n",
      "48% of trips are not reserved\n",
      "0% of trips come after service\n"
     ]
    }
   ],
   "source": [
    "# measure fraction of trips with/out reservation\n",
    "data = [cartimelinesopstatebefore[k] for k in cartimelinesopstatebefore]\n",
    "data = list(itertools.chain(*data))\n",
    "data = np.asarray(data)\n",
    "print(str(round(100*len(data[data==2])/len(data)))+\"% of trips are reserved\")\n",
    "print(str(round(100*len(data[data==1])/len(data)))+\"% of trips are not reserved\")\n",
    "print(str(round(100*len(data[data==0])/len(data)))+\"% of trips come after service\")"
   ]
  },
  {
   "cell_type": "code",
   "execution_count": 12,
   "metadata": {
    "collapsed": false
   },
   "outputs": [
    {
     "data": {
      "image/png": "[encoded data removed]",
      "text/plain": [
       "<matplotlib.figure.Figure at 0x13c65a748>"
      ]
     },
     "metadata": {},
     "output_type": "display_data"
    },
    {
     "data": {
      "image/png": "[encoded data removed]",
      "text/plain": [
       "<matplotlib.figure.Figure at 0x13accbe48>"
      ]
     },
     "metadata": {},
     "output_type": "display_data"
    }
   ],
   "source": [
    "# Histogram of trip durations, with reservations vs without reservations\n",
    "data = []\n",
    "for k in cartimelinesdiff:\n",
    "    for i, j in zip(cartimelinesdiff[k], cartimelinesopstatebefore[k]):\n",
    "        if j == 2:\n",
    "            data.append(i)\n",
    "data = np.divide(np.asarray(data), 60)\n",
    "plt.hist(data, bins=list(range(0-5,180,10)))\n",
    "plt.ylabel('Frequency')\n",
    "plt.xlabel('Minutes')\n",
    "plt.title('car2go direct: Trip durations, reserved')\n",
    "plt.ylim((0, 400000))\n",
    "plt.xlim((-10,180))\n",
    "plt.show()\n",
    "\n",
    "data = []\n",
    "for k in cartimelinesdiff:\n",
    "    for i, j in zip(cartimelinesdiff[k], cartimelinesopstatebefore[k]):\n",
    "        if j == 1:\n",
    "            data.append(i)\n",
    "data = np.divide(np.asarray(data), 60)\n",
    "plt.hist(data, bins=list(range(0-5,180,10)))\n",
    "plt.ylabel('Frequency')\n",
    "plt.xlabel('Minutes')\n",
    "plt.title('car2go direct: Trip durations, unreserved')\n",
    "plt.ylim((0, 400000))\n",
    "plt.xlim((-10,180))\n",
    "plt.show()"
   ]
  },
  {
   "cell_type": "markdown",
   "metadata": {},
   "source": [
    "Apparently, very short trips (<10 min) are 3 times more likely to be not reserved, while longer trips are more likely to be reserved."
   ]
  },
  {
   "cell_type": "code",
   "execution_count": 59,
   "metadata": {
    "collapsed": false
   },
   "outputs": [
    {
     "data": {
      "image/png": "[encoded data removed]",
      "text/plain": [
       "<matplotlib.figure.Figure at 0x13c67f898>"
      ]
     },
     "metadata": {},
     "output_type": "display_data"
    }
   ],
   "source": [
    "# parking statistics\n",
    "plt.figure(figsize=(12,4))\n",
    "\n",
    "plt.subplot(1, 2, 1)\n",
    "diffs = [cartimelinesparking[k] for k in cartimelinesparking]\n",
    "data = np.hstack(diffs)\n",
    "data = np.divide(np.asarray(data), 60)\n",
    "plt.hist(data, bins=list(range(5,180,5)))\n",
    "plt.ylabel('Frequency')\n",
    "plt.xlabel('Minutes')\n",
    "plt.title('car2go direct: Parking durations')\n",
    "plt.xlim((5,180))\n",
    "\n",
    "plt.subplot(1, 2, 2)\n",
    "diffs = [cartimelinesparking[k] for k in cartimelinesparking]\n",
    "data = np.hstack(diffs)\n",
    "data = np.divide(np.asarray(data), 60)\n",
    "plt.hist(data, bins=list(range(0,2400,20)))\n",
    "plt.ylabel('Frequency')\n",
    "plt.xlabel('Minutes')\n",
    "plt.title('car2go direct: Parking durations')\n",
    "plt.yscale('log')\n",
    "plt.xlim((0,2400))\n",
    "\n",
    "plt.show()"
   ]
  },
  {
   "cell_type": "code",
   "execution_count": 60,
   "metadata": {
    "collapsed": false
   },
   "outputs": [
    {
     "data": {
      "image/png": "[encoded data removed]",
      "text/plain": [
       "<matplotlib.figure.Figure at 0x13d027128>"
      ]
     },
     "metadata": {},
     "output_type": "display_data"
    }
   ],
   "source": [
    "# distribution of fraction of parked time\n",
    "data1 = [cartimelinesparking[k] for k in cartimelinesparking]\n",
    "data1 = np.hstack(data1)\n",
    "data2 = [cartimelinesdiff[k] for k in cartimelinesdiff]\n",
    "data2 = np.hstack(data2)\n",
    "data = np.divide(data1, data2)\n",
    "plt.hist(data, bins=list(np.arange(0.02,1,0.02)))\n",
    "#plt.hist(data)\n",
    "\n",
    "plt.ylabel('Frequency')\n",
    "plt.xlabel('Fraction')\n",
    "plt.title('car2go direct: Fraction of parking time')\n",
    "\n",
    "plt.show()\n",
    "\n"
   ]
  },
  {
   "cell_type": "markdown",
   "metadata": {},
   "source": [
    "### Simulate crawling of the direct data, and compare results"
   ]
  },
  {
   "cell_type": "code",
   "execution_count": 5,
   "metadata": {
    "collapsed": true
   },
   "outputs": [],
   "source": [
    "# load data\n",
    "cityname = 'Berlin'\n",
    "cartimelinesinfo = importcartimelines(pathdataoutlocal+'car2go_direct2014_'+cityname+'_cartimelines.txt')\n",
    "cartimelines = cartimelinesinfo['cartimelines']\n",
    "cartimelinesid = cartimelinesinfo['cartimelinesid']\n",
    "cartimelinesdiff = cartimelinesinfo['cartimelinesdiff']\n",
    "cartimelinesopstateafter = cartimelinesinfo['cartimelinesopstateafter']\n",
    "cartimelinesopstatebefore = cartimelinesinfo['cartimelinesopstatebefore']\n",
    "cartimelinesloc = cartimelinesinfo['cartimelinesloc']\n",
    "cartimelinesparking = cartimelinesinfo['cartimelinesparking']\n",
    "cardailymovedurations = cartimelinesinfo['cardailymovedurations']"
   ]
  },
  {
   "cell_type": "code",
   "execution_count": null,
   "metadata": {
    "collapsed": false
   },
   "outputs": [],
   "source": [
    "# simulate crawling every 10 or 5 minutes, save result as simulated crawl\n",
    "# on hold, since not clear if we really need this"
   ]
  },
  {
   "cell_type": "markdown",
   "metadata": {},
   "source": [
    "## Fleet or city size versus daily move duration"
   ]
  },
  {
   "cell_type": "code",
   "execution_count": 11,
   "metadata": {
    "collapsed": false
   },
   "outputs": [
    {
     "name": "stderr",
     "output_type": "stream",
     "text": [
      "0%    100%\n",
      "[████████] | ETA: 00:00:00 | Item ID: Wien\n",
      "Total time elapsed: 00:00:52\n"
     ]
    }
   ],
   "source": [
    "citynames = ['Berlin', 'Düsseldorf', 'Hamburg', 'Köln', 'München', 'Stuttgart', 'Ulm', 'Wien']\n",
    "\n",
    "bar = pyprind.ProgBar(len(citynames), bar_char='█', update_interval=1)\n",
    "cityinfo = dict.fromkeys(citynames) # cannot initialize with sub-dict because mutable: http://stackoverflow.com/questions/2241891/how-to-initialize-a-dict-with-keys-from-a-list-and-empty-value-in-python#comment25131847_2241904\n",
    "for cityname in citynames:\n",
    "    cityinfo[cityname] = dict()\n",
    "    bar.update(item_id = cityname)\n",
    "    cartimelinesinfo = importcartimelines(pathdataoutlocal+'car2go_direct2014_'+cityname+'_cartimelines.txt')\n",
    "    cartimelinesid = cartimelinesinfo['cartimelinesid']\n",
    "    cityinfo[cityname]['fleetsize'] = file_len(pathdataoutlocal+'car2go_direct2014_'+cityname+'_cartimelinesid.txt')\n",
    "    data = [cartimelinesinfo['cardailymovedurations'][k] for k in cartimelinesinfo['cardailymovedurations']]\n",
    "    data = list(itertools.chain(*data))\n",
    "    data = np.divide(np.asarray(data), 60)\n",
    "    data = data[data>=0] # do not consider the -1 values\n",
    "    cityinfo[cityname]['dailymovedurationmean'] = np.mean(data)\n",
    "    "
   ]
  },
  {
   "cell_type": "code",
   "execution_count": 12,
   "metadata": {
    "collapsed": true
   },
   "outputs": [],
   "source": [
    "# Data from latest UNData\n",
    "cityinfo['Berlin']['popdensity'] = 3944\n",
    "cityinfo['Düsseldorf']['popdensity'] = 2800\n",
    "cityinfo['Hamburg']['popdensity'] = 2260\n",
    "cityinfo['Köln']['popdensity'] = 2528\n",
    "cityinfo['München']['popdensity'] = 4700\n",
    "cityinfo['Stuttgart']['popdensity'] = 2884\n",
    "cityinfo['Ulm']['popdensity'] = 1000\n",
    "cityinfo['Wien']['popdensity'] = 4002\n",
    "\n",
    "cityinfo['Berlin']['pop'] = 3502\n",
    "cityinfo['Düsseldorf']['pop'] = 594\n",
    "cityinfo['Hamburg']['pop'] = 1734\n",
    "cityinfo['Köln']['pop'] = 1024\n",
    "cityinfo['München']['pop'] = 1388\n",
    "cityinfo['Stuttgart']['pop'] = 598\n",
    "cityinfo['Ulm']['pop'] = 118\n",
    "cityinfo['Wien']['pop'] = 1741\n"
   ]
  },
  {
   "cell_type": "code",
   "execution_count": 13,
   "metadata": {
    "collapsed": false
   },
   "outputs": [
    {
     "data": {
      "image/png": "[encoded data removed]",
      "text/plain": [
       "<matplotlib.figure.Figure at 0x13e837860>"
      ]
     },
     "metadata": {},
     "output_type": "display_data"
    }
   ],
   "source": [
    "plt.figure(figsize=(12,8))\n",
    "\n",
    "plt.subplot(2, 2, 1)\n",
    "x = [cityinfo[c]['fleetsize'] for c in citynames]\n",
    "y = [cityinfo[c]['dailymovedurationmean'] for c in citynames]\n",
    "fit = np.polyfit(x,y,1)\n",
    "fit_fn = np.poly1d(fit) \n",
    "plt.plot(x,y, 'yo', x, fit_fn(x), '-k')\n",
    "plt.scatter(x, y, s = 60, alpha=0.5)\n",
    "plt.xlabel('Fleet size')\n",
    "plt.ylabel('Daily move duration')\n",
    "plt.title('car2go direct')\n",
    "\n",
    "plt.subplot(2, 2, 2)\n",
    "x = [cityinfo[c]['pop'] for c in citynames]\n",
    "y = [cityinfo[c]['dailymovedurationmean'] for c in citynames]\n",
    "fit = np.polyfit(x,y,1)\n",
    "fit_fn = np.poly1d(fit) \n",
    "plt.plot(x,y, 'yo', x, fit_fn(x), '-k')\n",
    "plt.scatter(x, y, s = 60, alpha=0.5)\n",
    "plt.xlabel('Population')\n",
    "plt.ylabel('Daily move duration')\n",
    "plt.title('car2go direct')\n",
    "\n",
    "plt.subplot(2, 2, 3)\n",
    "x = [cityinfo[c]['popdensity'] for c in citynames]\n",
    "y = [cityinfo[c]['dailymovedurationmean'] for c in citynames]\n",
    "fit = np.polyfit(x,y,1)\n",
    "fit_fn = np.poly1d(fit) \n",
    "plt.plot(x,y, 'yo', x, fit_fn(x), '-k')\n",
    "plt.scatter(x, y, s = 60, alpha=0.5)\n",
    "plt.xlabel('Population density')\n",
    "plt.ylabel('Daily move duration')\n",
    "\n",
    "plt.subplot(2, 2, 4)\n",
    "x = [np.divide(cityinfo[c]['fleetsize'], cityinfo[c]['pop']) for c in citynames]\n",
    "y = [cityinfo[c]['dailymovedurationmean'] for c in citynames]\n",
    "fit = np.polyfit(x,y,1)\n",
    "fit_fn = np.poly1d(fit) \n",
    "plt.plot(x,y, 'yo', x, fit_fn(x), '-k')\n",
    "plt.scatter(x, y, s = 60, alpha=0.5)\n",
    "plt.xlabel('Fleet size / Population')\n",
    "plt.ylabel('Daily move duration')\n",
    "\n",
    "plt.show()\n",
    "\n"
   ]
  },
  {
   "cell_type": "markdown",
   "metadata": {},
   "source": [
    "1st row: Fleet size and daily move duration (DMD) correlate well, also city population and DMD.  \n",
    "2nd row: Normalized measures (population density, fleet size/population) show no clear effects."
   ]
  }
 ],
 "metadata": {
  "anaconda-cloud": {},
  "kernelspec": {
   "display_name": "Python [Root]",
   "language": "python",
   "name": "Python [Root]"
  },
  "language_info": {
   "codemirror_mode": {
    "name": "ipython",
    "version": 3
   },
   "file_extension": ".py",
   "mimetype": "text/x-python",
   "name": "python",
   "nbconvert_exporter": "python",
   "pygments_lexer": "ipython3",
   "version": "3.5.2"
  },
  "nbpresent": {
   "slides": {
    "2536f8dd-7b3a-4467-81a7-013e18708ed6": {
     "id": "2536f8dd-7b3a-4467-81a7-013e18708ed6",
     "prev": "9e6e1a80-760b-4751-a83d-c892ba6ad941",
     "regions": {
      "69606150-4efe-4f49-bc78-79a31caa2e41": {
       "attrs": {
        "height": 0.8,
        "width": 0.8,
        "x": 0.1,
        "y": 0.1
       },
       "content": {
        "cell": "955f640e-53e6-445b-8dc4-d8bd558a0463",
        "part": "whole"
       },
       "id": "69606150-4efe-4f49-bc78-79a31caa2e41"
      }
     }
    },
    "32220ccb-7ea5-4780-ba5f-4697320df251": {
     "id": "32220ccb-7ea5-4780-ba5f-4697320df251",
     "prev": "a873e367-b66e-44a4-81f2-bad9a44d4baf",
     "regions": {
      "59bbf16c-9605-4353-a6c4-b1733a824f1d": {
       "attrs": {
        "height": 0.8,
        "width": 0.8,
        "x": 0.1,
        "y": 0.1
       },
       "content": {
        "cell": "ca4b0056-e521-47bb-ab36-ff3457668d7e",
        "part": "whole"
       },
       "id": "59bbf16c-9605-4353-a6c4-b1733a824f1d"
      }
     }
    },
    "7471be3e-633c-45d2-85a7-36d8aca08b45": {
     "id": "7471be3e-633c-45d2-85a7-36d8aca08b45",
     "prev": "2536f8dd-7b3a-4467-81a7-013e18708ed6",
     "regions": {
      "f4a381fe-c7cf-4a09-a551-85eea616c1e2": {
       "attrs": {
        "height": 0.8,
        "width": 0.8,
        "x": 0.1,
        "y": 0.1
       },
       "content": {
        "cell": "5fa1f961-d989-4073-8e35-a744fa0f6bbe",
        "part": "whole"
       },
       "id": "f4a381fe-c7cf-4a09-a551-85eea616c1e2"
      }
     }
    },
    "9e6e1a80-760b-4751-a83d-c892ba6ad941": {
     "id": "9e6e1a80-760b-4751-a83d-c892ba6ad941",
     "prev": null,
     "regions": {
      "061be30b-f42d-49f7-97ac-a3a94bf5bbd6": {
       "attrs": {
        "height": 0.8,
        "width": 0.8,
        "x": 0.1,
        "y": 0.1
       },
       "content": {
        "cell": "5071d945-0c46-46fa-a6a7-58745a018537",
        "part": "whole"
       },
       "id": "061be30b-f42d-49f7-97ac-a3a94bf5bbd6"
      }
     }
    },
    "a873e367-b66e-44a4-81f2-bad9a44d4baf": {
     "id": "a873e367-b66e-44a4-81f2-bad9a44d4baf",
     "prev": "f2c592c8-719e-41e7-8402-9bccaccc57d8",
     "regions": {
      "79db6272-ea3d-492e-bb4b-983a2c9170be": {
       "attrs": {
        "height": 0.8,
        "width": 0.8,
        "x": 0.1,
        "y": 0.1
       },
       "content": {
        "cell": "1a4bfd47-187c-4c67-a2be-716d0a1b85f7",
        "part": "whole"
       },
       "id": "79db6272-ea3d-492e-bb4b-983a2c9170be"
      }
     }
    },
    "e09ad1f0-2001-4418-88fe-1fa5dcbbb8d8": {
     "id": "e09ad1f0-2001-4418-88fe-1fa5dcbbb8d8",
     "prev": "7471be3e-633c-45d2-85a7-36d8aca08b45",
     "regions": {
      "e02c3165-cc02-4a3c-862b-87ac8a0f19c5": {
       "attrs": {
        "height": 0.8,
        "width": 0.8,
        "x": 0.1,
        "y": 0.1
       },
       "content": {
        "cell": "95381a22-85f1-4000-a571-1eb562a98434",
        "part": "whole"
       },
       "id": "e02c3165-cc02-4a3c-862b-87ac8a0f19c5"
      }
     }
    },
    "f2c592c8-719e-41e7-8402-9bccaccc57d8": {
     "id": "f2c592c8-719e-41e7-8402-9bccaccc57d8",
     "prev": "e09ad1f0-2001-4418-88fe-1fa5dcbbb8d8",
     "regions": {
      "7e47a2ff-9f25-4c6d-be87-cf15c5be7c51": {
       "attrs": {
        "height": 0.8,
        "width": 0.8,
        "x": 0.1,
        "y": 0.1
       },
       "content": {
        "cell": "6dd96304-9cea-4a85-84f3-506f6cb9669b",
        "part": "whole"
       },
       "id": "7e47a2ff-9f25-4c6d-be87-cf15c5be7c51"
      }
     }
    }
   },
   "themes": {}
  }
 },
 "nbformat": 4,
 "nbformat_minor": 0
}
