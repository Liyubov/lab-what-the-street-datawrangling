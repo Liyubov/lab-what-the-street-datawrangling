{
 "cells": [
  {
   "cell_type": "code",
   "execution_count": 24,
   "metadata": {
    "collapsed": true
   },
   "outputs": [],
   "source": [
    "%matplotlib inline"
   ]
  },
  {
   "cell_type": "markdown",
   "metadata": {},
   "source": [
    "# Extract data from mongoDB and generate geometries, write back\n",
    "\n",
    "This notebook goes through raw OSM data (raw ways and nodes) and writes back all Polygons and Linestrings to a derived ways table, including lengths and areas. **Derived ways is dropped and re-inserted!**\n",
    "\n",
    "Created on:  2016-10-27  \n",
    "Last update: 2016-12-09  \n",
    "Contact: michael.szell@moovel.com, michael.szell@gmail.com (Michael Szell)"
   ]
  },
  {
   "cell_type": "code",
   "execution_count": 25,
   "metadata": {
    "collapsed": true
   },
   "outputs": [],
   "source": [
    "cityname = \"amsterdam\"\n",
    "\n",
    "pathdatain = '/Users/szellmi/Google Drive/MOOVELLAB/00_Projects/mobviz/data/geo/'\n",
    "pathdataout = '/Users/szellmi/Google Drive/MOOVELLAB/00_Projects/mobviz/data/geo/derived/'"
   ]
  },
  {
   "cell_type": "code",
   "execution_count": 26,
   "metadata": {
    "collapsed": true
   },
   "outputs": [],
   "source": [
    "# preliminaries\n",
    "from __future__ import unicode_literals\n",
    "import sys\n",
    "import csv\n",
    "import os\n",
    "import math\n",
    "import pprint\n",
    "pp = pprint.PrettyPrinter(indent=4)\n",
    "import requests\n",
    "import gzip\n",
    "from collections import defaultdict\n",
    "import time\n",
    "import datetime\n",
    "import numpy as np\n",
    "from scipy import stats\n",
    "import pyprind\n",
    "import itertools\n",
    "import logging\n",
    "from ast import literal_eval as make_tuple\n",
    "from collections import OrderedDict\n",
    "from retrying import retry\n",
    "\n",
    "import json\n",
    "from shapely.geometry import mapping, shape, LineString, LinearRing, Polygon, MultiPolygon\n",
    "import shapely\n",
    "import shapely.ops as ops\n",
    "from functools import partial\n",
    "import pyproj\n",
    "from scipy import spatial\n",
    "from haversine import haversine\n",
    "\n",
    "import pymongo\n",
    "from pymongo import MongoClient\n",
    "\n",
    "# plotting stuff\n",
    "import matplotlib.pyplot as plt"
   ]
  },
  {
   "cell_type": "code",
   "execution_count": 27,
   "metadata": {
    "collapsed": false
   },
   "outputs": [],
   "source": [
    "# mongo connection\n",
    "client = MongoClient()\n",
    "db_raw = client[cityname+'_raw']\n",
    "nodes_raw = db_raw['nodes']\n",
    "cursor = nodes_raw.find({})\n",
    "numnodes = cursor.count()\n",
    "ways_raw = db_raw['ways']\n",
    "cursor = ways_raw.find({})\n",
    "numways = cursor.count()\n",
    "\n",
    "db_derived = client[cityname+'_derived']\n",
    "db_derived.drop_collection('ways')\n",
    "db_derived = client[cityname+'_derived']\n",
    "ways_derived = db_derived['ways']"
   ]
  },
  {
   "cell_type": "code",
   "execution_count": 28,
   "metadata": {
    "collapsed": false
   },
   "outputs": [
    {
     "name": "stderr",
     "output_type": "stream",
     "text": [
      "0%                          100%\n",
      "[█████████████████████████████ ] | ETA: 00:00:00 | Item ID: 254152"
     ]
    },
    {
     "name": "stdout",
     "output_type": "stream",
     "text": [
      "Done. Nodes missing: 0, out of 2179295\n"
     ]
    },
    {
     "name": "stderr",
     "output_type": "stream",
     "text": [
      "\n",
      "Total time elapsed: 00:09:01\n"
     ]
    }
   ],
   "source": [
    "bar = pyprind.ProgBar(numways, bar_char='█', update_interval=1)\n",
    "nodesinserted = 0\n",
    "nodestotal = 0\n",
    "for i,way in enumerate(ways_raw.find()):\n",
    "    bar.update(item_id = i)\n",
    "    tempgeojson = {}\n",
    "    tempgeojson[\"_id\"] = way[\"_id\"]\n",
    "    try:\n",
    "        tempgeojson[\"properties\"] = way['tags']\n",
    "    except:\n",
    "        tempgeojson[\"properties\"] = {}\n",
    "    tempgeojson[\"type\"] = \"Feature\"\n",
    "    tempgeojson[\"geometry\"] = {\"type\":\"\", \"coordinates\":[]} \n",
    "    coords = []\n",
    "    for nodeid in way[\"nodes\"]:\n",
    "        nodestotal += 1\n",
    "        for n in nodes_raw.find({\"_id\": nodeid}):\n",
    "            nodesinserted += 1\n",
    "            coords.append([n[\"loc\"][\"coordinates\"][0], n[\"loc\"][\"coordinates\"][1]])\n",
    "    tempgeojson[\"geometry\"][\"coordinates\"] = coords\n",
    "    if way[\"nodes\"][0] == way[\"nodes\"][-1]:\n",
    "        tempgeojson[\"geometry\"][\"type\"] = \"Polygon\"\n",
    "    else:\n",
    "        tempgeojson[\"geometry\"][\"type\"] = \"LineString\"\n",
    "    ways_derived.insert_one(tempgeojson)\n",
    "    \n",
    "nodesmissing = nodestotal - nodesinserted\n",
    "print(\"Done. Nodes missing: \"+ str(nodesmissing) + \", out of \" + str(nodestotal))"
   ]
  },
  {
   "cell_type": "markdown",
   "metadata": {},
   "source": [
    "## Calculate lengths and areas of ways and save back to mongoDB"
   ]
  },
  {
   "cell_type": "code",
   "execution_count": 29,
   "metadata": {
    "collapsed": true
   },
   "outputs": [],
   "source": [
    "client = MongoClient()\n",
    "db_derived = client[cityname+'_derived']\n",
    "ways_derived = db_derived['ways']"
   ]
  },
  {
   "cell_type": "code",
   "execution_count": 30,
   "metadata": {
    "collapsed": false
   },
   "outputs": [
    {
     "name": "stderr",
     "output_type": "stream",
     "text": [
      "0%                          100%\n",
      "[████████████████████████████  ] | ETA: 00:00:00 | Item ID: 44067\n",
      "Total time elapsed: 00:00:15\n",
      "0%                          100%\n",
      "[█████████████████████████████ ] | ETA: 00:00:00 | Item ID: 207317"
     ]
    },
    {
     "name": "stdout",
     "output_type": "stream",
     "text": [
      "Something went wrong: 207382\n"
     ]
    },
    {
     "name": "stderr",
     "output_type": "stream",
     "text": [
      "\n",
      "Total time elapsed: 00:04:53\n"
     ]
    }
   ],
   "source": [
    "cursor = ways_derived.find({\"geometry.type\": \"LineString\"})\n",
    "numLineStrings = cursor.count()\n",
    "bar = pyprind.ProgBar(numLineStrings, bar_char='█', update_interval=1)\n",
    "for i,way in enumerate(ways_derived.find({\"geometry.type\": \"LineString\"})):\n",
    "    bar.update(item_id = i)\n",
    "    npway = np.asarray(way[\"geometry\"][\"coordinates\"])\n",
    "    distances = [1000*haversine(npway[i][::-1], npway[i+1][::-1]) for i in range(npway.shape[0]-1)]\n",
    "    ways_derived.update_one({'_id': way[\"_id\"]}, {\"$set\": {\"properties_derived.length\": sum(distances)}}, upsert=False)\n",
    "\n",
    "cursor = ways_derived.find({\"geometry.type\": \"Polygon\"})\n",
    "numPolygons = cursor.count()\n",
    "bar = pyprind.ProgBar(numPolygons, bar_char='█', update_interval=1)\n",
    "for i,way in enumerate(ways_derived.find({\"geometry.type\": \"Polygon\"})):\n",
    "    bar.update(item_id = i)\n",
    "    npway = np.asarray(way[\"geometry\"][\"coordinates\"])\n",
    "    distances = [1000*haversine(npway[i][::-1], npway[i+1][::-1]) for i in range(npway.shape[0]-1)]\n",
    "    ways_derived.update_one({'_id': way[\"_id\"]}, {\"$set\": {\"properties_derived.length\": sum(distances)}}, upsert=False)\n",
    "    # Following area calculating code from: http://gis.stackexchange.com/questions/127607/area-in-km-from-polygon-of-coordinates\n",
    "    try: # IllegalArgumentException: Invalid number of points in LinearRing found 3 - must be 0 or >= 4\n",
    "        geom = Polygon(npway)\n",
    "        geom_area = ops.transform(\n",
    "            partial(\n",
    "                pyproj.transform,\n",
    "                pyproj.Proj(init='EPSG:4326'),\n",
    "                pyproj.Proj(\n",
    "                    proj='aea',\n",
    "                    lat1=geom.bounds[1],\n",
    "                    lat2=geom.bounds[3])),\n",
    "            geom)\n",
    "        # Export the area in m^2\n",
    "        ways_derived.update_one({'_id': way[\"_id\"]}, {\"$set\": {\"properties_derived.area\": geom_area.area}}, upsert=False)\n",
    "    except:\n",
    "        print(\"Something went wrong: \" + str(i))\n",
    "        pass"
   ]
  }
 ],
 "metadata": {
  "anaconda-cloud": {},
  "kernelspec": {
   "display_name": "Python [Root]",
   "language": "python",
   "name": "Python [Root]"
  },
  "language_info": {
   "codemirror_mode": {
    "name": "ipython",
    "version": 3
   },
   "file_extension": ".py",
   "mimetype": "text/x-python",
   "name": "python",
   "nbconvert_exporter": "python",
   "pygments_lexer": "ipython3",
   "version": "3.5.2"
  }
 },
 "nbformat": 4,
 "nbformat_minor": 0
}
