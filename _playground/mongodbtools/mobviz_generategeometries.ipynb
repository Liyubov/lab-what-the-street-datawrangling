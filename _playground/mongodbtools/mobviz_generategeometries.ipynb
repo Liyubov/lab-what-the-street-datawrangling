{
 "cells": [
  {
   "cell_type": "code",
   "execution_count": 1,
   "metadata": {
    "collapsed": true
   },
   "outputs": [],
   "source": [
    "%matplotlib inline"
   ]
  },
  {
   "cell_type": "markdown",
   "metadata": {},
   "source": [
    "# Extract data from mongoDB and generate geometries.\n",
    "\n",
    "Created on:  2016-10-27  \n",
    "Last update: 2016-11-10  \n",
    "Contact: michael.szell@moovel.com, michael.szell@gmail.com (Michael Szell)"
   ]
  },
  {
   "cell_type": "code",
   "execution_count": 74,
   "metadata": {
    "collapsed": true
   },
   "outputs": [],
   "source": [
    "# preliminaries\n",
    "from __future__ import unicode_literals\n",
    "import sys\n",
    "import csv\n",
    "import os\n",
    "import math\n",
    "import pprint\n",
    "import requests\n",
    "import gzip\n",
    "from collections import defaultdict\n",
    "import time\n",
    "import datetime\n",
    "import numpy as np\n",
    "from scipy import stats\n",
    "import pyprind\n",
    "import itertools\n",
    "import logging\n",
    "from ast import literal_eval as make_tuple\n",
    "from collections import OrderedDict\n",
    "from retrying import retry\n",
    "\n",
    "import json\n",
    "from shapely.geometry import mapping, shape, LineString, LinearRing, Polygon, MultiPolygon\n",
    "import shapely\n",
    "import shapely.ops as ops\n",
    "from functools import partial\n",
    "import pyproj\n",
    "from scipy import spatial\n",
    "from haversine import haversine\n",
    "import overpass\n",
    "apiop = overpass.API(timeout=600)\n",
    "\n",
    "import pymongo\n",
    "from pymongo import MongoClient\n",
    "\n",
    "# plotting stuff\n",
    "import matplotlib.pyplot as plt\n",
    "# import mpld3\n",
    "# mpld3.enable_notebook() # unfortunately, this is too buggy: https://github.com/mpld3/mpld3/issues/193\n",
    "# mpld3.disable_notebook()\n",
    "\n",
    "pathdatain = '/Users/szellmi/Google Drive/MOOVELLAB/00_Projects/mobviz/data/geo/'\n",
    "pathdataout = '/Users/szellmi/Google Drive/MOOVELLAB/00_Projects/mobviz/data/geo/derived/'\n",
    "pathdataoutfinal = '/Users/szellmi/Google Drive/MOOVELLAB/00_Projects/mobviz/scripts/mobviz/d3unroll/'\n",
    "curtime = time.strftime(\"%Y%m%d_%H%M%S\")\n",
    "logging.basicConfig(filename=pathdataout+'mobviz_streetalgorithm'+curtime+'.log',level=logging.DEBUG)\n",
    "pp = pprint.PrettyPrinter(indent=4)\n",
    "\n",
    "# City parameters (generalize later)\n",
    "cityname = \"vienna\"\n",
    "bbox = \"52.33812, 13.0884, 52.675499, 13.76134\" \n",
    "# berlin: 52.33812, 13.0884, 52.675499, 13.76134\n",
    "# newyork: 40.496044, -74.255735, 40.915256, -73.700272\n",
    "# stuttgart: 48.46, 8.79, 48.93, 9.50\n",
    "# amsterdam: 52.3216, 4.7685, 52.4251, 5.0173\n",
    "postalcodes = []\n",
    "with open(pathdatain+\"berlin/\"+\"berlin_postalcodes.txt\") as f:\n",
    "    for line in f:\n",
    "        postalcodes.append(int(line))"
   ]
  },
  {
   "cell_type": "code",
   "execution_count": 75,
   "metadata": {
    "collapsed": false
   },
   "outputs": [],
   "source": [
    "# mongo connection\n",
    "client = MongoClient()\n",
    "dbin = client[cityname+'_raw']\n",
    "nodesin = dbin['nodes']\n",
    "cursor = nodesin.find({})\n",
    "numnodes = cursor.count()\n",
    "waysin = dbin['ways']\n",
    "cursor = waysin.find({})\n",
    "numways = cursor.count()\n",
    "\n",
    "dbout = client[cityname+'_derived']\n",
    "dbout.drop_collection('ways')\n",
    "dbout = client[cityname+'_derived']\n",
    "waysout = dbout['ways']"
   ]
  },
  {
   "cell_type": "code",
   "execution_count": 76,
   "metadata": {
    "collapsed": false
   },
   "outputs": [
    {
     "name": "stderr",
     "output_type": "stream",
     "text": [
      "0%                          100%\n",
      "[█████████████████████████████ ] | ETA: 00:00:00 | Item ID: 342859\n",
      "Total time elapsed: 00:12:50\n"
     ]
    }
   ],
   "source": [
    "bar = pyprind.ProgBar(numways, bar_char='█', update_interval=1)\n",
    "for i,way in enumerate(waysin.find({})):\n",
    "    bar.update(item_id = i)\n",
    "#     pp.pprint(way)\n",
    "    tempgeojson = {}\n",
    "    tempgeojson[\"_id\"] = way[\"_id\"]\n",
    "    try:\n",
    "        tempgeojson[\"properties\"] = way['tags']\n",
    "    except:\n",
    "        tempgeojson[\"properties\"] = {}\n",
    "    tempgeojson[\"type\"] = \"Feature\"\n",
    "    tempgeojson[\"geometry\"] = {\"type\":\"\", \"coordinates\":[]} \n",
    "    coords = []\n",
    "    for nodeid in way[\"loc\"][\"nodes\"]:\n",
    "        for n in nodesin.find({\"_id\": nodeid}):\n",
    "            coords.append([n[\"loc\"][\"coordinates\"][0], n[\"loc\"][\"coordinates\"][1]])\n",
    "    tempgeojson[\"geometry\"][\"coordinates\"] = coords\n",
    "    if way[\"loc\"][\"nodes\"][0] == way[\"loc\"][\"nodes\"][-1]:\n",
    "        tempgeojson[\"geometry\"][\"type\"] = \"Polygon\"\n",
    "    else:\n",
    "        tempgeojson[\"geometry\"][\"type\"] = \"LineString\"\n",
    "#     pp.pprint(tempgeojson)\n",
    "#     waysout.update_one({'_id':way[\"_id\"]}, tempgeojson, upsert=True)\n",
    "    waysout.insert_one(tempgeojson)"
   ]
  },
  {
   "cell_type": "markdown",
   "metadata": {},
   "source": [
    "## Calculate lengths and areas of ways and save back to mongoDB"
   ]
  },
  {
   "cell_type": "code",
   "execution_count": 77,
   "metadata": {
    "collapsed": true
   },
   "outputs": [],
   "source": [
    "client = MongoClient()\n",
    "db = client[cityname+'_derived']\n",
    "ways = db['ways']"
   ]
  },
  {
   "cell_type": "code",
   "execution_count": 78,
   "metadata": {
    "collapsed": false
   },
   "outputs": [
    {
     "name": "stderr",
     "output_type": "stream",
     "text": [
      "0%                          100%\n",
      "[█████████████████████████████ ] | ETA: 00:00:00 | Item ID: 86434\n",
      "Total time elapsed: 00:00:32\n",
      "0%                          100%\n",
      "[                              ]IllegalArgumentException: Invalid number of points in LinearRing found 3 - must be 0 or >= 4\n",
      "Shell is not a LinearRing\n"
     ]
    },
    {
     "name": "stdout",
     "output_type": "stream",
     "text": [
      "Something went wrong: 135\n",
      "Something went wrong: 320\n"
     ]
    },
    {
     "name": "stderr",
     "output_type": "stream",
     "text": [
      "[                              ] | ETA: 00:08:30 | Item ID: 498IllegalArgumentException: Invalid number of points in LinearRing found 3 - must be 0 or >= 4\n",
      "Shell is not a LinearRing\n"
     ]
    },
    {
     "name": "stdout",
     "output_type": "stream",
     "text": [
      "Something went wrong: 470\n",
      "Something went wrong: 555\n",
      "Something went wrong: 659\n",
      "Something went wrong: 1050\n"
     ]
    },
    {
     "name": "stderr",
     "output_type": "stream",
     "text": [
      "[                              ] | ETA: 00:06:48 | Item ID: 1243IllegalArgumentException: Invalid number of points in LinearRing found 3 - must be 0 or >= 4\n",
      "Shell is not a LinearRing\n"
     ]
    },
    {
     "name": "stdout",
     "output_type": "stream",
     "text": [
      "Something went wrong: 1373\n"
     ]
    },
    {
     "name": "stderr",
     "output_type": "stream",
     "text": [
      "[                              ] | ETA: 00:06:16 | Item ID: 3345IllegalArgumentException: Invalid number of points in LinearRing found 3 - must be 0 or >= 4\n",
      "Shell is not a LinearRing\n",
      "[                              ] | ETA: 00:06:12 | Item ID: 4047"
     ]
    },
    {
     "name": "stdout",
     "output_type": "stream",
     "text": [
      "Something went wrong: 4043\n"
     ]
    },
    {
     "name": "stderr",
     "output_type": "stream",
     "text": [
      "[█                             ] | ETA: 00:05:45 | Item ID: 8565"
     ]
    },
    {
     "name": "stdout",
     "output_type": "stream",
     "text": [
      "Something went wrong: 8985\n",
      "Something went wrong: 8986\n"
     ]
    },
    {
     "name": "stderr",
     "output_type": "stream",
     "text": [
      "[█                             ] | ETA: 00:05:41 | Item ID: 10065"
     ]
    },
    {
     "name": "stdout",
     "output_type": "stream",
     "text": [
      "Something went wrong: 10271\n"
     ]
    },
    {
     "name": "stderr",
     "output_type": "stream",
     "text": [
      "IllegalArgumentException: Invalid number of points in LinearRing found 3 - must be 0 or >= 4\n",
      "Shell is not a LinearRing\n",
      "[█                             ] | ETA: 00:05:38 | Item ID: 10837"
     ]
    },
    {
     "name": "stdout",
     "output_type": "stream",
     "text": [
      "Something went wrong: 10741\n"
     ]
    },
    {
     "name": "stderr",
     "output_type": "stream",
     "text": [
      "[███                           ] | ETA: 00:05:10 | Item ID: 27224"
     ]
    },
    {
     "name": "stdout",
     "output_type": "stream",
     "text": [
      "Something went wrong: 27754\n"
     ]
    },
    {
     "name": "stderr",
     "output_type": "stream",
     "text": [
      "[████                          ] | ETA: 00:04:59 | Item ID: 34628"
     ]
    },
    {
     "name": "stdout",
     "output_type": "stream",
     "text": [
      "Something went wrong: 34707\n"
     ]
    },
    {
     "name": "stderr",
     "output_type": "stream",
     "text": [
      "[████                          ] | ETA: 00:04:57 | Item ID: 36146"
     ]
    },
    {
     "name": "stdout",
     "output_type": "stream",
     "text": [
      "Something went wrong: 36223\n"
     ]
    },
    {
     "name": "stderr",
     "output_type": "stream",
     "text": [
      "[████                          ] | ETA: 00:04:48 | Item ID: 42174IllegalArgumentException: Invalid number of points in LinearRing found 3 - must be 0 or >= 4\n",
      "Shell is not a LinearRing\n"
     ]
    },
    {
     "name": "stdout",
     "output_type": "stream",
     "text": [
      "Something went wrong: 42560\n",
      "Something went wrong: 42569\n"
     ]
    },
    {
     "name": "stderr",
     "output_type": "stream",
     "text": [
      "[█████                         ] | ETA: 00:04:42 | Item ID: 45301"
     ]
    },
    {
     "name": "stdout",
     "output_type": "stream",
     "text": [
      "Something went wrong: 45465\n"
     ]
    },
    {
     "name": "stderr",
     "output_type": "stream",
     "text": [
      "[█████                         ] | ETA: 00:04:40 | Item ID: 47485"
     ]
    },
    {
     "name": "stdout",
     "output_type": "stream",
     "text": [
      "Something went wrong: 47347\n",
      "Something went wrong: 47503\n"
     ]
    },
    {
     "name": "stderr",
     "output_type": "stream",
     "text": [
      "[█████                         ] | ETA: 00:04:37 | Item ID: 49646"
     ]
    },
    {
     "name": "stdout",
     "output_type": "stream",
     "text": [
      "Something went wrong: 49685\n",
      "Something went wrong: 49686\n",
      "Something went wrong: 49785\n",
      "Something went wrong: 49934\n"
     ]
    },
    {
     "name": "stderr",
     "output_type": "stream",
     "text": [
      "[██████                        ] | ETA: 00:04:32 | Item ID: 53419"
     ]
    },
    {
     "name": "stdout",
     "output_type": "stream",
     "text": [
      "Something went wrong: 53392\n"
     ]
    },
    {
     "name": "stderr",
     "output_type": "stream",
     "text": [
      "[███████                       ] | ETA: 00:04:21 | Item ID: 62039"
     ]
    },
    {
     "name": "stdout",
     "output_type": "stream",
     "text": [
      "Something went wrong: 61888\n"
     ]
    },
    {
     "name": "stderr",
     "output_type": "stream",
     "text": [
      "[█████████                     ] | ETA: 00:03:57 | Item ID: 78781"
     ]
    },
    {
     "name": "stdout",
     "output_type": "stream",
     "text": [
      "Something went wrong: 78839\n"
     ]
    },
    {
     "name": "stderr",
     "output_type": "stream",
     "text": [
      "[██████████                    ] | ETA: 00:03:48 | Item ID: 86083"
     ]
    },
    {
     "name": "stdout",
     "output_type": "stream",
     "text": [
      "Something went wrong: 86413\n"
     ]
    },
    {
     "name": "stderr",
     "output_type": "stream",
     "text": [
      "[██████████                    ] | ETA: 00:03:47 | Item ID: 86692IllegalArgumentException: Invalid number of points in LinearRing found 3 - must be 0 or >= 4\n",
      "Shell is not a LinearRing\n",
      "[██████████                    ] | ETA: 00:03:46 | Item ID: 87411"
     ]
    },
    {
     "name": "stdout",
     "output_type": "stream",
     "text": [
      "Something went wrong: 87384\n"
     ]
    },
    {
     "name": "stderr",
     "output_type": "stream",
     "text": [
      "[███████████                   ] | ETA: 00:03:31 | Item ID: 98160"
     ]
    },
    {
     "name": "stdout",
     "output_type": "stream",
     "text": [
      "Something went wrong: 98494\n",
      "Something went wrong: 98495\n"
     ]
    },
    {
     "name": "stderr",
     "output_type": "stream",
     "text": [
      "[█████████████                 ] | ETA: 00:03:12 | Item ID: 111342"
     ]
    },
    {
     "name": "stdout",
     "output_type": "stream",
     "text": [
      "Something went wrong: 111918\n"
     ]
    },
    {
     "name": "stderr",
     "output_type": "stream",
     "text": [
      "[█████████████                 ] | ETA: 00:03:11 | Item ID: 112128"
     ]
    },
    {
     "name": "stdout",
     "output_type": "stream",
     "text": [
      "Something went wrong: 112156\n"
     ]
    },
    {
     "name": "stderr",
     "output_type": "stream",
     "text": [
      "[██████████████                ] | ETA: 00:02:59 | Item ID: 121120"
     ]
    },
    {
     "name": "stdout",
     "output_type": "stream",
     "text": [
      "Something went wrong: 121391\n"
     ]
    },
    {
     "name": "stderr",
     "output_type": "stream",
     "text": [
      "[██████████████                ] | ETA: 00:02:55 | Item ID: 124192"
     ]
    },
    {
     "name": "stdout",
     "output_type": "stream",
     "text": [
      "Something went wrong: 124273\n"
     ]
    },
    {
     "name": "stderr",
     "output_type": "stream",
     "text": [
      "[███████████████               ] | ETA: 00:02:49 | Item ID: 128116IllegalArgumentException: Invalid number of points in LinearRing found 3 - must be 0 or >= 4\n",
      "Shell is not a LinearRing\n",
      "IllegalArgumentException: Invalid number of points in LinearRing found 3 - must be 0 or >= 4\n",
      "Shell is not a LinearRing\n",
      "[███████████████               ] | ETA: 00:02:48 | Item ID: 128895"
     ]
    },
    {
     "name": "stdout",
     "output_type": "stream",
     "text": [
      "Something went wrong: 128794\n",
      "Something went wrong: 128795\n"
     ]
    },
    {
     "name": "stderr",
     "output_type": "stream",
     "text": [
      "[███████████████               ] | ETA: 00:02:43 | Item ID: 132697IllegalArgumentException: Invalid number of points in LinearRing found 3 - must be 0 or >= 4\n",
      "Shell is not a LinearRing\n"
     ]
    },
    {
     "name": "stdout",
     "output_type": "stream",
     "text": [
      "Something went wrong: 133034\n"
     ]
    },
    {
     "name": "stderr",
     "output_type": "stream",
     "text": [
      "[███████████████               ] | ETA: 00:02:41 | Item ID: 134212"
     ]
    },
    {
     "name": "stdout",
     "output_type": "stream",
     "text": [
      "Something went wrong: 134410\n"
     ]
    },
    {
     "name": "stderr",
     "output_type": "stream",
     "text": [
      "[████████████████              ] | ETA: 00:02:35 | Item ID: 138860"
     ]
    },
    {
     "name": "stdout",
     "output_type": "stream",
     "text": [
      "Something went wrong: 138986\n",
      "Something went wrong: 138992\n",
      "Something went wrong: 138993\n"
     ]
    },
    {
     "name": "stderr",
     "output_type": "stream",
     "text": [
      "[████████████████              ] | ETA: 00:02:33 | Item ID: 139625"
     ]
    },
    {
     "name": "stdout",
     "output_type": "stream",
     "text": [
      "Something went wrong: 139747\n"
     ]
    },
    {
     "name": "stderr",
     "output_type": "stream",
     "text": [
      "[███████████████████████       ] | ETA: 00:01:15 | Item ID: 197728"
     ]
    },
    {
     "name": "stdout",
     "output_type": "stream",
     "text": [
      "Something went wrong: 197754\n"
     ]
    },
    {
     "name": "stderr",
     "output_type": "stream",
     "text": [
      "[███████████████████████       ] | ETA: 00:01:09 | Item ID: 202583IllegalArgumentException: Invalid number of points in LinearRing found 3 - must be 0 or >= 4\n",
      "Shell is not a LinearRing\n",
      "IllegalArgumentException: Invalid number of points in LinearRing found 3 - must be 0 or >= 4\n",
      "Shell is not a LinearRing\n",
      "[███████████████████████       ] | ETA: 00:01:08 | Item ID: 203406"
     ]
    },
    {
     "name": "stdout",
     "output_type": "stream",
     "text": [
      "Something went wrong: 203303\n",
      "Something went wrong: 203313\n",
      "Something went wrong: 203314\n",
      "Something went wrong: 203320\n",
      "Something went wrong: 203326\n"
     ]
    },
    {
     "name": "stderr",
     "output_type": "stream",
     "text": [
      "[███████████████████████████   ] | ETA: 00:00:24 | Item ID: 236699"
     ]
    },
    {
     "name": "stdout",
     "output_type": "stream",
     "text": [
      "Something went wrong: 236808\n",
      "Something went wrong: 236886\n",
      "Something went wrong: 236940\n",
      "Something went wrong: 237185\n"
     ]
    },
    {
     "name": "stderr",
     "output_type": "stream",
     "text": [
      "[█████████████████████████████ ] | ETA: 00:00:08 | Item ID: 248654"
     ]
    },
    {
     "name": "stdout",
     "output_type": "stream",
     "text": [
      "Something went wrong: 248847\n"
     ]
    },
    {
     "name": "stderr",
     "output_type": "stream",
     "text": [
      "[█████████████████████████████ ] | ETA: 00:00:07 | Item ID: 249412IllegalArgumentException: Invalid number of points in LinearRing found 3 - must be 0 or >= 4\n",
      "Shell is not a LinearRing\n"
     ]
    },
    {
     "name": "stdout",
     "output_type": "stream",
     "text": [
      "Something went wrong: 249551\n",
      "Something went wrong: 249553\n"
     ]
    },
    {
     "name": "stderr",
     "output_type": "stream",
     "text": [
      "IllegalArgumentException: Invalid number of points in LinearRing found 3 - must be 0 or >= 4\n",
      "Shell is not a LinearRing\n"
     ]
    },
    {
     "name": "stdout",
     "output_type": "stream",
     "text": [
      "Something went wrong: 249854\n"
     ]
    },
    {
     "name": "stderr",
     "output_type": "stream",
     "text": [
      "[█████████████████████████████ ] | ETA: 00:00:06 | Item ID: 250167"
     ]
    },
    {
     "name": "stdout",
     "output_type": "stream",
     "text": [
      "Something went wrong: 250660\n",
      "Something went wrong: 250742\n"
     ]
    },
    {
     "name": "stderr",
     "output_type": "stream",
     "text": [
      "[█████████████████████████████ ] | ETA: 00:00:03 | Item ID: 252427"
     ]
    },
    {
     "name": "stdout",
     "output_type": "stream",
     "text": [
      "Something went wrong: 252803\n"
     ]
    },
    {
     "name": "stderr",
     "output_type": "stream",
     "text": [
      "[█████████████████████████████ ] | ETA: 00:00:01 | Item ID: 253913"
     ]
    },
    {
     "name": "stdout",
     "output_type": "stream",
     "text": [
      "Something went wrong: 254198\n"
     ]
    },
    {
     "name": "stderr",
     "output_type": "stream",
     "text": [
      "[█████████████████████████████ ] | ETA: 00:00:00 | Item ID: 254662"
     ]
    },
    {
     "name": "stdout",
     "output_type": "stream",
     "text": [
      "Something went wrong: 254870\n"
     ]
    },
    {
     "name": "stderr",
     "output_type": "stream",
     "text": [
      "\n",
      "Total time elapsed: 00:05:32\n"
     ]
    }
   ],
   "source": [
    "cursor = ways.find({\"geometry.type\": \"LineString\"})\n",
    "numLineStrings = cursor.count()\n",
    "bar = pyprind.ProgBar(numLineStrings, bar_char='█', update_interval=1)\n",
    "for i,way in enumerate(ways.find({\"geometry.type\": \"LineString\"})):\n",
    "    bar.update(item_id = i)\n",
    "    npway = np.asarray(way[\"geometry\"][\"coordinates\"])\n",
    "    distances = [1000*haversine(npway[i][::-1], npway[i+1][::-1]) for i in range(npway.shape[0]-1)]\n",
    "    ways.update_one({'_id': way[\"_id\"]}, {\"$set\": {\"properties_derived.length\": sum(distances)}}, upsert=False)\n",
    "\n",
    "cursor = ways.find({\"geometry.type\": \"Polygon\"})\n",
    "numPolygons = cursor.count()\n",
    "bar = pyprind.ProgBar(numPolygons, bar_char='█', update_interval=1)\n",
    "for i,way in enumerate(ways.find({\"geometry.type\": \"Polygon\"})):\n",
    "    bar.update(item_id = i)\n",
    "    npway = np.asarray(way[\"geometry\"][\"coordinates\"])\n",
    "    distances = [1000*haversine(npway[i][::-1], npway[i+1][::-1]) for i in range(npway.shape[0]-1)]\n",
    "    ways.update_one({'_id': way[\"_id\"]}, {\"$set\": {\"properties_derived.length\": sum(distances)}}, upsert=False)\n",
    "    # Following area calculating code from: http://gis.stackexchange.com/questions/127607/area-in-km-from-polygon-of-coordinates\n",
    "    try: # IllegalArgumentException: Invalid number of points in LinearRing found 3 - must be 0 or >= 4\n",
    "        geom = Polygon(npway)\n",
    "        geom_area = ops.transform(\n",
    "            partial(\n",
    "                pyproj.transform,\n",
    "                pyproj.Proj(init='EPSG:4326'),\n",
    "                pyproj.Proj(\n",
    "                    proj='aea',\n",
    "                    lat1=geom.bounds[1],\n",
    "                    lat2=geom.bounds[3])),\n",
    "            geom)\n",
    "        # Export the area in m^2\n",
    "        ways.update_one({'_id': way[\"_id\"]}, {\"$set\": {\"properties_derived.area\": geom_area.area}}, upsert=False)\n",
    "    except:\n",
    "        print(\"Something went wrong: \" + str(i))\n",
    "        pass"
   ]
  }
 ],
 "metadata": {
  "anaconda-cloud": {},
  "kernelspec": {
   "display_name": "Python [Root]",
   "language": "python",
   "name": "Python [Root]"
  },
  "language_info": {
   "codemirror_mode": {
    "name": "ipython",
    "version": 3
   },
   "file_extension": ".py",
   "mimetype": "text/x-python",
   "name": "python",
   "nbconvert_exporter": "python",
   "pygments_lexer": "ipython3",
   "version": "3.5.2"
  }
 },
 "nbformat": 4,
 "nbformat_minor": 0
}
