{
 "cells": [
  {
   "cell_type": "code",
   "execution_count": null,
   "metadata": {
    "collapsed": true
   },
   "outputs": [],
   "source": [
    "%matplotlib inline"
   ]
  },
  {
   "cell_type": "markdown",
   "metadata": {},
   "source": [
    "# Extract data from mongoDB and generate geometries, write back\n",
    "\n",
    "Created on:  2016-10-27  \n",
    "Last update: 2016-12-07  \n",
    "Contact: michael.szell@moovel.com, michael.szell@gmail.com (Michael Szell)"
   ]
  },
  {
   "cell_type": "code",
   "execution_count": 1,
   "metadata": {
    "collapsed": true
   },
   "outputs": [],
   "source": [
    "cityname = \"berlin\"\n",
    "\n",
    "pathdatain = '/Users/szellmi/Google Drive/MOOVELLAB/00_Projects/mobviz/data/geo/'\n",
    "pathdataout = '/Users/szellmi/Google Drive/MOOVELLAB/00_Projects/mobviz/data/geo/derived/'"
   ]
  },
  {
   "cell_type": "code",
   "execution_count": 2,
   "metadata": {
    "collapsed": true
   },
   "outputs": [],
   "source": [
    "# preliminaries\n",
    "from __future__ import unicode_literals\n",
    "import sys\n",
    "import csv\n",
    "import os\n",
    "import math\n",
    "import pprint\n",
    "pp = pprint.PrettyPrinter(indent=4)\n",
    "import requests\n",
    "import gzip\n",
    "from collections import defaultdict\n",
    "import time\n",
    "import datetime\n",
    "import numpy as np\n",
    "from scipy import stats\n",
    "import pyprind\n",
    "import itertools\n",
    "import logging\n",
    "from ast import literal_eval as make_tuple\n",
    "from collections import OrderedDict\n",
    "from retrying import retry\n",
    "\n",
    "import json\n",
    "from shapely.geometry import mapping, shape, LineString, LinearRing, Polygon, MultiPolygon\n",
    "import shapely\n",
    "import shapely.ops as ops\n",
    "from functools import partial\n",
    "import pyproj\n",
    "from scipy import spatial\n",
    "from haversine import haversine\n",
    "\n",
    "import pymongo\n",
    "from pymongo import MongoClient\n",
    "\n",
    "# plotting stuff\n",
    "import matplotlib.pyplot as plt"
   ]
  },
  {
   "cell_type": "markdown",
   "metadata": {},
   "source": [
    "#### Next cell: mind the dbout.drop_collection('ways')!"
   ]
  },
  {
   "cell_type": "code",
   "execution_count": 26,
   "metadata": {
    "collapsed": false
   },
   "outputs": [],
   "source": [
    "# mongo connection\n",
    "client = MongoClient()\n",
    "db_raw = client[cityname+'_raw']\n",
    "nodes_raw = db_raw['nodes']\n",
    "cursor = nodes_raw.find({})\n",
    "numnodes = cursor.count()\n",
    "ways_raw = db_raw['ways']\n",
    "cursor = ways_raw.find({})\n",
    "numways = cursor.count()\n",
    "\n",
    "db_derived = client[cityname+'_derived']\n",
    "db_derived.drop_collection('ways')\n",
    "db_derived = client[cityname+'_derived']\n",
    "ways_derived = dbout['ways']"
   ]
  },
  {
   "cell_type": "code",
   "execution_count": 27,
   "metadata": {
    "collapsed": false
   },
   "outputs": [
    {
     "name": "stderr",
     "output_type": "stream",
     "text": [
      "0%                          100%\n",
      "[█████████████████████████████ ] | ETA: 00:00:01 | Item ID: 640273"
     ]
    },
    {
     "name": "stdout",
     "output_type": "stream",
     "text": [
      "Done. Nodes missing: 33738, out of 5193011\n"
     ]
    },
    {
     "name": "stderr",
     "output_type": "stream",
     "text": [
      "\n",
      "Total time elapsed: 00:24:27\n"
     ]
    }
   ],
   "source": [
    "bar = pyprind.ProgBar(numways, bar_char='█', update_interval=1)\n",
    "nodesinserted = 0\n",
    "nodestotal = 0\n",
    "for i,way in enumerate(ways_raw.find()):\n",
    "    bar.update(item_id = i)\n",
    "#     pp.pprint(way)\n",
    "    tempgeojson = {}\n",
    "    tempgeojson[\"_id\"] = way[\"_id\"]\n",
    "    try:\n",
    "        tempgeojson[\"properties\"] = way['tags']\n",
    "    except:\n",
    "        tempgeojson[\"properties\"] = {}\n",
    "    tempgeojson[\"type\"] = \"Feature\"\n",
    "    tempgeojson[\"geometry\"] = {\"type\":\"\", \"coordinates\":[]} \n",
    "    coords = []\n",
    "    for nodeid in way[\"nodes\"]:\n",
    "        nodestotal += 1\n",
    "        for n in nodes_raw.find({\"_id\": nodeid}):\n",
    "            nodesinserted += 1\n",
    "            coords.append([n[\"loc\"][\"coordinates\"][0], n[\"loc\"][\"coordinates\"][1]])\n",
    "    tempgeojson[\"geometry\"][\"coordinates\"] = coords\n",
    "    if way[\"nodes\"][0] == way[\"nodes\"][-1]:\n",
    "        tempgeojson[\"geometry\"][\"type\"] = \"Polygon\"\n",
    "    else:\n",
    "        tempgeojson[\"geometry\"][\"type\"] = \"LineString\"\n",
    "#     pp.pprint(tempgeojson)\n",
    "#     waysout.update_one({'_id':way[\"_id\"]}, tempgeojson, upsert=True)\n",
    "    ways_derived.insert_one(tempgeojson)\n",
    "    \n",
    "nodesmissing = nodestotal - nodesinserted\n",
    "print(\"Done. Nodes missing: \"+ str(nodesmissing) + \", out of \" + str(nodestotal))"
   ]
  },
  {
   "cell_type": "markdown",
   "metadata": {},
   "source": [
    "## Calculate lengths and areas of ways and save back to mongoDB"
   ]
  },
  {
   "cell_type": "code",
   "execution_count": 3,
   "metadata": {
    "collapsed": true
   },
   "outputs": [],
   "source": [
    "client = MongoClient()\n",
    "db_derived = client[cityname+'_derived']\n",
    "ways_derived = db_derived['ways']"
   ]
  },
  {
   "cell_type": "code",
   "execution_count": 4,
   "metadata": {
    "collapsed": false
   },
   "outputs": [
    {
     "name": "stderr",
     "output_type": "stream",
     "text": [
      "0%                          100%\n",
      "[█████████████████████████████ ] | ETA: 00:00:00 | Item ID: 157848\n",
      "Total time elapsed: 00:00:50\n",
      "0%                          100%\n",
      "[                              ]IllegalArgumentException: Invalid number of points in LinearRing found 3 - must be 0 or >= 4\n",
      "Shell is not a LinearRing\n"
     ]
    },
    {
     "name": "stdout",
     "output_type": "stream",
     "text": [
      "Something went wrong: 360\n",
      "Something went wrong: 430\n"
     ]
    },
    {
     "name": "stderr",
     "output_type": "stream",
     "text": [
      "[                              ] | ETA: 00:10:45 | Item ID: 2228IllegalArgumentException: Invalid number of points in LinearRing found 3 - must be 0 or >= 4\n",
      "Shell is not a LinearRing\n"
     ]
    },
    {
     "name": "stdout",
     "output_type": "stream",
     "text": [
      "Something went wrong: 2412\n",
      "Something went wrong: 2413\n",
      "Something went wrong: 2414\n"
     ]
    },
    {
     "name": "stderr",
     "output_type": "stream",
     "text": [
      "IllegalArgumentException: Invalid number of points in LinearRing found 3 - must be 0 or >= 4\n",
      "Shell is not a LinearRing\n"
     ]
    },
    {
     "name": "stdout",
     "output_type": "stream",
     "text": [
      "Something went wrong: 2672\n"
     ]
    },
    {
     "name": "stderr",
     "output_type": "stream",
     "text": [
      "[                              ] | ETA: 00:10:16 | Item ID: 5411IllegalArgumentException: Invalid number of points in LinearRing found 3 - must be 0 or >= 4\n",
      "Shell is not a LinearRing\n",
      "[                              ] | ETA: 00:10:21 | Item ID: 6124"
     ]
    },
    {
     "name": "stdout",
     "output_type": "stream",
     "text": [
      "Something went wrong: 6048\n",
      "Something went wrong: 6050\n"
     ]
    },
    {
     "name": "stderr",
     "output_type": "stream",
     "text": [
      "[                              ] | ETA: 00:10:16 | Item ID: 6936"
     ]
    },
    {
     "name": "stdout",
     "output_type": "stream",
     "text": [
      "Something went wrong: 6865\n"
     ]
    },
    {
     "name": "stderr",
     "output_type": "stream",
     "text": [
      "[                              ] | ETA: 00:10:08 | Item ID: 8562"
     ]
    },
    {
     "name": "stdout",
     "output_type": "stream",
     "text": [
      "Something went wrong: 9142\n"
     ]
    },
    {
     "name": "stderr",
     "output_type": "stream",
     "text": [
      "[                              ] | ETA: 00:10:02 | Item ID: 10172"
     ]
    },
    {
     "name": "stdout",
     "output_type": "stream",
     "text": [
      "Something went wrong: 10144\n"
     ]
    },
    {
     "name": "stderr",
     "output_type": "stream",
     "text": [
      "[                              ] | ETA: 00:09:55 | Item ID: 13370"
     ]
    },
    {
     "name": "stdout",
     "output_type": "stream",
     "text": [
      "Something went wrong: 13556\n",
      "Something went wrong: 13669\n"
     ]
    },
    {
     "name": "stderr",
     "output_type": "stream",
     "text": [
      "IllegalArgumentException: Invalid number of points in LinearRing found 3 - must be 0 or >= 4\n",
      "Shell is not a LinearRing\n"
     ]
    },
    {
     "name": "stdout",
     "output_type": "stream",
     "text": [
      "Something went wrong: 13852\n",
      "Something went wrong: 13853\n"
     ]
    },
    {
     "name": "stderr",
     "output_type": "stream",
     "text": [
      "[                              ] | ETA: 00:09:53 | Item ID: 14181IllegalArgumentException: Invalid number of points in LinearRing found 3 - must be 0 or >= 4\n",
      "Shell is not a LinearRing\n"
     ]
    },
    {
     "name": "stdout",
     "output_type": "stream",
     "text": [
      "Something went wrong: 14546\n"
     ]
    },
    {
     "name": "stderr",
     "output_type": "stream",
     "text": [
      "[                              ] | ETA: 00:09:51 | Item ID: 14998"
     ]
    },
    {
     "name": "stdout",
     "output_type": "stream",
     "text": [
      "Something went wrong: 15050\n"
     ]
    },
    {
     "name": "stderr",
     "output_type": "stream",
     "text": [
      "[                              ] | ETA: 00:09:49 | Item ID: 15815"
     ]
    },
    {
     "name": "stdout",
     "output_type": "stream",
     "text": [
      "Something went wrong: 16170\n"
     ]
    },
    {
     "name": "stderr",
     "output_type": "stream",
     "text": [
      "[█                             ] | ETA: 00:09:47 | Item ID: 16621"
     ]
    },
    {
     "name": "stdout",
     "output_type": "stream",
     "text": [
      "Something went wrong: 16660\n"
     ]
    },
    {
     "name": "stderr",
     "output_type": "stream",
     "text": [
      "[█                             ] | ETA: 00:09:33 | Item ID: 24726"
     ]
    },
    {
     "name": "stdout",
     "output_type": "stream",
     "text": [
      "Something went wrong: 24575\n",
      "Something went wrong: 25019\n"
     ]
    },
    {
     "name": "stderr",
     "output_type": "stream",
     "text": [
      "IllegalArgumentException: Invalid number of points in LinearRing found 3 - must be 0 or >= 4\n",
      "Shell is not a LinearRing\n",
      "IllegalArgumentException: Invalid number of points in LinearRing found 3 - must be 0 or >= 4\n",
      "Shell is not a LinearRing\n"
     ]
    },
    {
     "name": "stdout",
     "output_type": "stream",
     "text": [
      "Something went wrong: 25199\n",
      "Something went wrong: 25200\n",
      "Something went wrong: 25201\n"
     ]
    },
    {
     "name": "stderr",
     "output_type": "stream",
     "text": [
      "[█                             ] | ETA: 00:09:21 | Item ID: 30562"
     ]
    },
    {
     "name": "stdout",
     "output_type": "stream",
     "text": [
      "Something went wrong: 30889\n"
     ]
    },
    {
     "name": "stderr",
     "output_type": "stream",
     "text": [
      "[██                            ] | ETA: 00:09:05 | Item ID: 40464IllegalArgumentException: Invalid number of points in LinearRing found 3 - must be 0 or >= 4\n",
      "Shell is not a LinearRing\n"
     ]
    },
    {
     "name": "stdout",
     "output_type": "stream",
     "text": [
      "Something went wrong: 40492\n",
      "Something went wrong: 40570\n",
      "Something went wrong: 40578\n",
      "Something went wrong: 40579\n",
      "Something went wrong: 41049\n"
     ]
    },
    {
     "name": "stderr",
     "output_type": "stream",
     "text": [
      "[██                            ] | ETA: 00:08:57 | Item ID: 44026"
     ]
    },
    {
     "name": "stdout",
     "output_type": "stream",
     "text": [
      "Something went wrong: 44493\n",
      "Something went wrong: 44512\n",
      "Something went wrong: 44517\n",
      "Something went wrong: 44526\n",
      "Something went wrong: 44540\n",
      "Something went wrong: 44546\n",
      "Something went wrong: 44554\n",
      "Something went wrong: 44564\n",
      "Something went wrong: 44569\n"
     ]
    },
    {
     "name": "stderr",
     "output_type": "stream",
     "text": [
      "[██                            ] | ETA: 00:08:56 | Item ID: 45539"
     ]
    },
    {
     "name": "stdout",
     "output_type": "stream",
     "text": [
      "Something went wrong: 45466\n",
      "Something went wrong: 45588\n"
     ]
    },
    {
     "name": "stderr",
     "output_type": "stream",
     "text": [
      "[██                            ] | ETA: 00:08:54 | Item ID: 46406"
     ]
    },
    {
     "name": "stdout",
     "output_type": "stream",
     "text": [
      "Something went wrong: 47019\n",
      "Something went wrong: 47024\n"
     ]
    },
    {
     "name": "stderr",
     "output_type": "stream",
     "text": [
      "[██                            ] | ETA: 00:08:52 | Item ID: 48093IllegalArgumentException: Invalid number of points in LinearRing found 3 - must be 0 or >= 4\n",
      "Shell is not a LinearRing\n",
      "IllegalArgumentException: Invalid number of points in LinearRing found 3 - must be 0 or >= 4\n",
      "Shell is not a LinearRing\n",
      "IllegalArgumentException: Invalid number of points in LinearRing found 3 - must be 0 or >= 4\n",
      "Shell is not a LinearRing\n",
      "IllegalArgumentException: Invalid number of points in LinearRing found 3 - must be 0 or >= 4\n",
      "Shell is not a LinearRing\n",
      "IllegalArgumentException: Invalid number of points in LinearRing found 3 - must be 0 or >= 4\n",
      "Shell is not a LinearRing\n"
     ]
    },
    {
     "name": "stdout",
     "output_type": "stream",
     "text": [
      "Something went wrong: 48263\n",
      "Something went wrong: 48264\n",
      "Something went wrong: 48283\n",
      "Something went wrong: 48284\n",
      "Something went wrong: 48319\n",
      "Something went wrong: 48320\n"
     ]
    },
    {
     "name": "stderr",
     "output_type": "stream",
     "text": [
      "[███                           ] | ETA: 00:08:49 | Item ID: 49754"
     ]
    },
    {
     "name": "stdout",
     "output_type": "stream",
     "text": [
      "Something went wrong: 49608\n",
      "Something went wrong: 49609\n",
      "Something went wrong: 49643\n"
     ]
    },
    {
     "name": "stderr",
     "output_type": "stream",
     "text": [
      "[███                           ] | ETA: 00:08:48 | Item ID: 50569"
     ]
    },
    {
     "name": "stdout",
     "output_type": "stream",
     "text": [
      "Something went wrong: 50649\n"
     ]
    },
    {
     "name": "stderr",
     "output_type": "stream",
     "text": [
      "[███                           ] | ETA: 00:08:47 | Item ID: 52115"
     ]
    },
    {
     "name": "stdout",
     "output_type": "stream",
     "text": [
      "Something went wrong: 52384\n"
     ]
    },
    {
     "name": "stderr",
     "output_type": "stream",
     "text": [
      "[███                           ] | ETA: 00:08:45 | Item ID: 53789"
     ]
    },
    {
     "name": "stdout",
     "output_type": "stream",
     "text": [
      "Something went wrong: 54033\n"
     ]
    },
    {
     "name": "stderr",
     "output_type": "stream",
     "text": [
      "[███                           ] | ETA: 00:08:41 | Item ID: 56314"
     ]
    },
    {
     "name": "stdout",
     "output_type": "stream",
     "text": [
      "Something went wrong: 56567\n"
     ]
    },
    {
     "name": "stderr",
     "output_type": "stream",
     "text": [
      "[███                           ] | ETA: 00:08:38 | Item ID: 58000IllegalArgumentException: Invalid number of points in LinearRing found 3 - must be 0 or >= 4\n",
      "Shell is not a LinearRing\n"
     ]
    },
    {
     "name": "stdout",
     "output_type": "stream",
     "text": [
      "Something went wrong: 58626\n",
      "Something went wrong: 58629\n"
     ]
    },
    {
     "name": "stderr",
     "output_type": "stream",
     "text": [
      "[███                           ] | ETA: 00:08:37 | Item ID: 59579"
     ]
    },
    {
     "name": "stdout",
     "output_type": "stream",
     "text": [
      "Something went wrong: 59903\n"
     ]
    },
    {
     "name": "stderr",
     "output_type": "stream",
     "text": [
      "[███                           ] | ETA: 00:08:35 | Item ID: 60452IllegalArgumentException: Invalid number of points in LinearRing found 3 - must be 0 or >= 4\n",
      "Shell is not a LinearRing\n"
     ]
    },
    {
     "name": "stdout",
     "output_type": "stream",
     "text": [
      "Something went wrong: 60457\n",
      "Something went wrong: 60480\n",
      "Something went wrong: 60495\n",
      "Something went wrong: 60519\n",
      "Something went wrong: 60523\n",
      "Something went wrong: 60545\n"
     ]
    },
    {
     "name": "stderr",
     "output_type": "stream",
     "text": [
      "[███                           ] | ETA: 00:08:34 | Item ID: 61312"
     ]
    },
    {
     "name": "stdout",
     "output_type": "stream",
     "text": [
      "Something went wrong: 61293\n"
     ]
    },
    {
     "name": "stderr",
     "output_type": "stream",
     "text": [
      "[████                          ] | ETA: 00:08:27 | Item ID: 65565"
     ]
    },
    {
     "name": "stdout",
     "output_type": "stream",
     "text": [
      "Something went wrong: 66184\n"
     ]
    },
    {
     "name": "stderr",
     "output_type": "stream",
     "text": [
      "[████                          ] | ETA: 00:08:26 | Item ID: 66441"
     ]
    },
    {
     "name": "stdout",
     "output_type": "stream",
     "text": [
      "Something went wrong: 66498\n",
      "Something went wrong: 66743\n"
     ]
    },
    {
     "name": "stderr",
     "output_type": "stream",
     "text": [
      "[████                          ] | ETA: 00:08:21 | Item ID: 69813"
     ]
    },
    {
     "name": "stdout",
     "output_type": "stream",
     "text": [
      "Something went wrong: 70456\n",
      "Something went wrong: 70464\n"
     ]
    },
    {
     "name": "stderr",
     "output_type": "stream",
     "text": [
      "[████                          ] | ETA: 00:08:18 | Item ID: 71544"
     ]
    },
    {
     "name": "stdout",
     "output_type": "stream",
     "text": [
      "Something went wrong: 71481\n"
     ]
    },
    {
     "name": "stderr",
     "output_type": "stream",
     "text": [
      "[████                          ] | ETA: 00:08:15 | Item ID: 74056IllegalArgumentException: Invalid number of points in LinearRing found 3 - must be 0 or >= 4\n",
      "Shell is not a LinearRing\n",
      "[████                          ] | ETA: 00:08:15 | Item ID: 74815"
     ]
    },
    {
     "name": "stdout",
     "output_type": "stream",
     "text": [
      "Something went wrong: 74704\n",
      "Something went wrong: 74877\n",
      "Something went wrong: 74907\n"
     ]
    },
    {
     "name": "stderr",
     "output_type": "stream",
     "text": [
      "[████                          ] | ETA: 00:08:13 | Item ID: 75686"
     ]
    },
    {
     "name": "stdout",
     "output_type": "stream",
     "text": [
      "Something went wrong: 76178\n"
     ]
    },
    {
     "name": "stderr",
     "output_type": "stream",
     "text": [
      "[████                          ] | ETA: 00:08:08 | Item ID: 79127IllegalArgumentException: Invalid number of points in LinearRing found 3 - must be 0 or >= 4\n",
      "Shell is not a LinearRing\n",
      "IllegalArgumentException: Invalid number of points in LinearRing found 3 - must be 0 or >= 4\n",
      "Shell is not a LinearRing\n"
     ]
    },
    {
     "name": "stdout",
     "output_type": "stream",
     "text": [
      "Something went wrong: 79111\n",
      "Something went wrong: 79155\n",
      "Something went wrong: 79178\n"
     ]
    },
    {
     "name": "stderr",
     "output_type": "stream",
     "text": [
      "[█████                         ] | ETA: 00:08:02 | Item ID: 84017"
     ]
    },
    {
     "name": "stdout",
     "output_type": "stream",
     "text": [
      "Something went wrong: 84450\n"
     ]
    },
    {
     "name": "stderr",
     "output_type": "stream",
     "text": [
      "[█████                         ] | ETA: 00:08:02 | Item ID: 84817"
     ]
    },
    {
     "name": "stdout",
     "output_type": "stream",
     "text": [
      "Something went wrong: 85094\n",
      "Something went wrong: 85118\n"
     ]
    },
    {
     "name": "stderr",
     "output_type": "stream",
     "text": [
      "[█████                         ] | ETA: 00:08:00 | Item ID: 86418"
     ]
    },
    {
     "name": "stdout",
     "output_type": "stream",
     "text": [
      "Something went wrong: 86556\n",
      "Something went wrong: 86557\n"
     ]
    },
    {
     "name": "stderr",
     "output_type": "stream",
     "text": [
      "[█████                         ] | ETA: 00:07:59 | Item ID: 87884"
     ]
    },
    {
     "name": "stdout",
     "output_type": "stream",
     "text": [
      "Something went wrong: 88160\n"
     ]
    },
    {
     "name": "stderr",
     "output_type": "stream",
     "text": [
      "[█████                         ] | ETA: 00:07:56 | Item ID: 91011"
     ]
    },
    {
     "name": "stdout",
     "output_type": "stream",
     "text": [
      "Something went wrong: 91616\n"
     ]
    },
    {
     "name": "stderr",
     "output_type": "stream",
     "text": [
      "[█████                         ] | ETA: 00:07:51 | Item ID: 95825"
     ]
    },
    {
     "name": "stdout",
     "output_type": "stream",
     "text": [
      "Something went wrong: 96210\n"
     ]
    },
    {
     "name": "stderr",
     "output_type": "stream",
     "text": [
      "[██████                        ] | ETA: 00:07:49 | Item ID: 98108"
     ]
    },
    {
     "name": "stdout",
     "output_type": "stream",
     "text": [
      "Something went wrong: 98066\n",
      "Something went wrong: 98433\n",
      "Something went wrong: 98505\n",
      "Something went wrong: 98527\n"
     ]
    },
    {
     "name": "stderr",
     "output_type": "stream",
     "text": [
      "[██████                        ] | ETA: 00:07:48 | Item ID: 98888"
     ]
    },
    {
     "name": "stdout",
     "output_type": "stream",
     "text": [
      "Something went wrong: 98895\n",
      "Something went wrong: 98896\n"
     ]
    },
    {
     "name": "stderr",
     "output_type": "stream",
     "text": [
      "[██████                        ] | ETA: 00:07:47 | Item ID: 99645IllegalArgumentException: Invalid number of points in LinearRing found 3 - must be 0 or >= 4\n",
      "Shell is not a LinearRing\n",
      "IllegalArgumentException: Invalid number of points in LinearRing found 3 - must be 0 or >= 4\n",
      "Shell is not a LinearRing\n"
     ]
    },
    {
     "name": "stdout",
     "output_type": "stream",
     "text": [
      "Something went wrong: 100158\n",
      "Something went wrong: 100171\n",
      "Something went wrong: 100179\n",
      "Something went wrong: 100186\n"
     ]
    },
    {
     "name": "stderr",
     "output_type": "stream",
     "text": [
      "IllegalArgumentException: Invalid number of points in LinearRing found 3 - must be 0 or >= 4\n",
      "Shell is not a LinearRing\n",
      "[██████                        ] | ETA: 00:07:46 | Item ID: 100494"
     ]
    },
    {
     "name": "stdout",
     "output_type": "stream",
     "text": [
      "Something went wrong: 100352\n",
      "Something went wrong: 100418\n",
      "Something went wrong: 100439\n"
     ]
    },
    {
     "name": "stderr",
     "output_type": "stream",
     "text": [
      "[██████                        ] | ETA: 00:07:43 | Item ID: 102920IllegalArgumentException: Invalid number of points in LinearRing found 3 - must be 0 or >= 4\n",
      "Shell is not a LinearRing\n"
     ]
    },
    {
     "name": "stdout",
     "output_type": "stream",
     "text": [
      "Something went wrong: 103413\n",
      "Something went wrong: 103417\n",
      "Something went wrong: 103418\n",
      "Something went wrong: 103420\n",
      "Something went wrong: 103424\n",
      "Something went wrong: 103425\n",
      "Something went wrong: 103427\n"
     ]
    },
    {
     "name": "stderr",
     "output_type": "stream",
     "text": [
      "[██████                        ] | ETA: 00:07:36 | Item ID: 109973"
     ]
    },
    {
     "name": "stdout",
     "output_type": "stream",
     "text": [
      "Something went wrong: 110229\n"
     ]
    },
    {
     "name": "stderr",
     "output_type": "stream",
     "text": [
      "[███████                       ] | ETA: 00:07:33 | Item ID: 112418"
     ]
    },
    {
     "name": "stdout",
     "output_type": "stream",
     "text": [
      "Something went wrong: 112576\n"
     ]
    },
    {
     "name": "stderr",
     "output_type": "stream",
     "text": [
      "[███████                       ] | ETA: 00:07:29 | Item ID: 115632"
     ]
    },
    {
     "name": "stdout",
     "output_type": "stream",
     "text": [
      "Something went wrong: 116094\n"
     ]
    },
    {
     "name": "stderr",
     "output_type": "stream",
     "text": [
      "[███████                       ] | ETA: 00:07:28 | Item ID: 116450"
     ]
    },
    {
     "name": "stdout",
     "output_type": "stream",
     "text": [
      "Something went wrong: 116334\n"
     ]
    },
    {
     "name": "stderr",
     "output_type": "stream",
     "text": [
      "[███████                       ] | ETA: 00:07:28 | Item ID: 117150IllegalArgumentException: Invalid number of points in LinearRing found 3 - must be 0 or >= 4\n",
      "Shell is not a LinearRing\n",
      "[███████                       ] | ETA: 00:07:27 | Item ID: 117956"
     ]
    },
    {
     "name": "stdout",
     "output_type": "stream",
     "text": [
      "Something went wrong: 117821\n",
      "Something went wrong: 117848\n",
      "Something went wrong: 117943\n"
     ]
    },
    {
     "name": "stderr",
     "output_type": "stream",
     "text": [
      "IllegalArgumentException: Invalid number of points in LinearRing found 3 - must be 0 or >= 4\n",
      "Shell is not a LinearRing\n"
     ]
    },
    {
     "name": "stdout",
     "output_type": "stream",
     "text": [
      "Something went wrong: 117997\n",
      "Something went wrong: 118188\n"
     ]
    },
    {
     "name": "stderr",
     "output_type": "stream",
     "text": [
      "[███████                       ] | ETA: 00:07:25 | Item ID: 119609IllegalArgumentException: Invalid number of points in LinearRing found 3 - must be 0 or >= 4\n",
      "Shell is not a LinearRing\n",
      "[███████                       ] | ETA: 00:07:24 | Item ID: 120402IllegalArgumentException: Invalid number of points in LinearRing found 3 - must be 0 or >= 4\n",
      "Shell is not a LinearRing\n",
      "IllegalArgumentException: Invalid number of points in LinearRing found 3 - must be 0 or >= 4\n",
      "Shell is not a LinearRing\n"
     ]
    },
    {
     "name": "stdout",
     "output_type": "stream",
     "text": [
      "Something went wrong: 120374\n",
      "Something went wrong: 120400\n",
      "Something went wrong: 120413\n",
      "Something went wrong: 120423\n"
     ]
    },
    {
     "name": "stderr",
     "output_type": "stream",
     "text": [
      "IllegalArgumentException: Invalid number of points in LinearRing found 3 - must be 0 or >= 4\n",
      "Shell is not a LinearRing\n"
     ]
    },
    {
     "name": "stdout",
     "output_type": "stream",
     "text": [
      "Something went wrong: 120603\n",
      "Something went wrong: 120621\n"
     ]
    },
    {
     "name": "stderr",
     "output_type": "stream",
     "text": [
      "[███████                       ] | ETA: 00:07:23 | Item ID: 121217"
     ]
    },
    {
     "name": "stdout",
     "output_type": "stream",
     "text": [
      "Something went wrong: 121156\n",
      "Something went wrong: 121198\n",
      "Something went wrong: 121223\n"
     ]
    },
    {
     "name": "stderr",
     "output_type": "stream",
     "text": [
      "[███████                       ] | ETA: 00:07:18 | Item ID: 125175"
     ]
    },
    {
     "name": "stdout",
     "output_type": "stream",
     "text": [
      "Something went wrong: 125231\n"
     ]
    },
    {
     "name": "stderr",
     "output_type": "stream",
     "text": [
      "IllegalArgumentException: Invalid number of points in LinearRing found 3 - must be 0 or >= 4\n",
      "Shell is not a LinearRing\n",
      "IllegalArgumentException: Invalid number of points in LinearRing found 3 - must be 0 or >= 4\n",
      "Shell is not a LinearRing\n"
     ]
    },
    {
     "name": "stdout",
     "output_type": "stream",
     "text": [
      "Something went wrong: 125463\n",
      "Something went wrong: 125464\n",
      "Something went wrong: 125483\n",
      "Something went wrong: 125487\n",
      "Something went wrong: 125497\n"
     ]
    },
    {
     "name": "stderr",
     "output_type": "stream",
     "text": [
      "[███████                       ] | ETA: 00:07:17 | Item ID: 126565IllegalArgumentException: Invalid number of points in LinearRing found 3 - must be 0 or >= 4\n",
      "Shell is not a LinearRing\n"
     ]
    },
    {
     "name": "stdout",
     "output_type": "stream",
     "text": [
      "Something went wrong: 126766\n",
      "Something went wrong: 126799\n"
     ]
    },
    {
     "name": "stderr",
     "output_type": "stream",
     "text": [
      "[███████                       ] | ETA: 00:07:17 | Item ID: 127338"
     ]
    },
    {
     "name": "stdout",
     "output_type": "stream",
     "text": [
      "Something went wrong: 127189\n"
     ]
    },
    {
     "name": "stderr",
     "output_type": "stream",
     "text": [
      "[███████                       ] | ETA: 00:07:16 | Item ID: 128114"
     ]
    },
    {
     "name": "stdout",
     "output_type": "stream",
     "text": [
      "Something went wrong: 128672\n",
      "Something went wrong: 128790\n"
     ]
    },
    {
     "name": "stderr",
     "output_type": "stream",
     "text": [
      "[████████                      ] | ETA: 00:07:15 | Item ID: 128898IllegalArgumentException: Invalid number of points in LinearRing found 3 - must be 0 or >= 4\n",
      "Shell is not a LinearRing\n",
      "IllegalArgumentException: Invalid number of points in LinearRing found 3 - must be 0 or >= 4\n",
      "Shell is not a LinearRing\n",
      "[████████                      ] | ETA: 00:07:14 | Item ID: 129653"
     ]
    },
    {
     "name": "stdout",
     "output_type": "stream",
     "text": [
      "Something went wrong: 129628\n",
      "Something went wrong: 129629\n"
     ]
    },
    {
     "name": "stderr",
     "output_type": "stream",
     "text": [
      "IllegalArgumentException: Invalid number of points in LinearRing found 3 - must be 0 or >= 4\n",
      "Shell is not a LinearRing\n",
      "IllegalArgumentException: Invalid number of points in LinearRing found 3 - must be 0 or >= 4\n",
      "Shell is not a LinearRing\n"
     ]
    },
    {
     "name": "stdout",
     "output_type": "stream",
     "text": [
      "Something went wrong: 130025\n",
      "Something went wrong: 130028\n",
      "Something went wrong: 130033\n",
      "Something went wrong: 130038\n"
     ]
    },
    {
     "name": "stderr",
     "output_type": "stream",
     "text": [
      "[████████                      ] | ETA: 00:07:09 | Item ID: 134270IllegalArgumentException: Invalid number of points in LinearRing found 3 - must be 0 or >= 4\n",
      "Shell is not a LinearRing\n",
      "IllegalArgumentException: Invalid number of points in LinearRing found 3 - must be 0 or >= 4\n",
      "Shell is not a LinearRing\n",
      "IllegalArgumentException: Invalid number of points in LinearRing found 3 - must be 0 or >= 4\n",
      "Shell is not a LinearRing\n"
     ]
    },
    {
     "name": "stdout",
     "output_type": "stream",
     "text": [
      "Something went wrong: 134733\n",
      "Something went wrong: 134737\n",
      "Something went wrong: 134738\n",
      "Something went wrong: 134743\n",
      "Something went wrong: 134762\n",
      "Something went wrong: 134767\n",
      "Something went wrong: 134770\n"
     ]
    },
    {
     "name": "stderr",
     "output_type": "stream",
     "text": [
      "[████████                      ] | ETA: 00:07:05 | Item ID: 137451IllegalArgumentException: Invalid number of points in LinearRing found 3 - must be 0 or >= 4\n",
      "Shell is not a LinearRing\n",
      "IllegalArgumentException: Invalid number of points in LinearRing found 3 - must be 0 or >= 4\n",
      "Shell is not a LinearRing\n"
     ]
    },
    {
     "name": "stdout",
     "output_type": "stream",
     "text": [
      "Something went wrong: 137553\n",
      "Something went wrong: 137587\n",
      "Something went wrong: 137588\n",
      "Something went wrong: 137591\n",
      "Something went wrong: 137597\n",
      "Something went wrong: 137611\n",
      "Something went wrong: 137986\n"
     ]
    },
    {
     "name": "stderr",
     "output_type": "stream",
     "text": [
      "[████████                      ] | ETA: 00:07:00 | Item ID: 141483"
     ]
    },
    {
     "name": "stdout",
     "output_type": "stream",
     "text": [
      "Something went wrong: 141704\n",
      "Something went wrong: 141711\n",
      "Something went wrong: 141718\n"
     ]
    },
    {
     "name": "stderr",
     "output_type": "stream",
     "text": [
      "[█████████                     ] | ETA: 00:06:49 | Item ID: 152116"
     ]
    },
    {
     "name": "stdout",
     "output_type": "stream",
     "text": [
      "Something went wrong: 152085\n",
      "Something went wrong: 152086\n"
     ]
    },
    {
     "name": "stderr",
     "output_type": "stream",
     "text": [
      "[█████████                     ] | ETA: 00:06:48 | Item ID: 153568"
     ]
    },
    {
     "name": "stdout",
     "output_type": "stream",
     "text": [
      "Something went wrong: 153771\n"
     ]
    },
    {
     "name": "stderr",
     "output_type": "stream",
     "text": [
      "[█████████                     ] | ETA: 00:06:46 | Item ID: 155078IllegalArgumentException: Invalid number of points in LinearRing found 3 - must be 0 or >= 4\n",
      "Shell is not a LinearRing\n"
     ]
    },
    {
     "name": "stdout",
     "output_type": "stream",
     "text": [
      "Something went wrong: 155500\n",
      "Something went wrong: 155501\n",
      "Something went wrong: 155602\n"
     ]
    },
    {
     "name": "stderr",
     "output_type": "stream",
     "text": [
      "[█████████                     ] | ETA: 00:06:45 | Item ID: 155815IllegalArgumentException: Invalid number of points in LinearRing found 3 - must be 0 or >= 4\n",
      "Shell is not a LinearRing\n",
      "IllegalArgumentException: Invalid number of points in LinearRing found 3 - must be 0 or >= 4\n",
      "Shell is not a LinearRing\n"
     ]
    },
    {
     "name": "stdout",
     "output_type": "stream",
     "text": [
      "Something went wrong: 156325\n",
      "Something went wrong: 156352\n",
      "Something went wrong: 156377\n"
     ]
    },
    {
     "name": "stderr",
     "output_type": "stream",
     "text": [
      "[█████████                     ] | ETA: 00:06:45 | Item ID: 156464"
     ]
    },
    {
     "name": "stdout",
     "output_type": "stream",
     "text": [
      "Something went wrong: 156449\n"
     ]
    },
    {
     "name": "stderr",
     "output_type": "stream",
     "text": [
      "[█████████                     ] | ETA: 00:06:45 | Item ID: 157091"
     ]
    },
    {
     "name": "stdout",
     "output_type": "stream",
     "text": [
      "Something went wrong: 157264\n"
     ]
    },
    {
     "name": "stderr",
     "output_type": "stream",
     "text": [
      "[█████████                     ] | ETA: 00:06:43 | Item ID: 158491"
     ]
    },
    {
     "name": "stdout",
     "output_type": "stream",
     "text": [
      "Something went wrong: 158576\n",
      "Something went wrong: 158681\n",
      "Something went wrong: 158682\n",
      "Something went wrong: 158926\n",
      "Something went wrong: 158930\n",
      "Something went wrong: 158938\n",
      "Something went wrong: 158947\n",
      "Something went wrong: 158949\n"
     ]
    },
    {
     "name": "stderr",
     "output_type": "stream",
     "text": [
      "[██████████                    ] | ETA: 00:06:40 | Item ID: 161506"
     ]
    },
    {
     "name": "stdout",
     "output_type": "stream",
     "text": [
      "Something went wrong: 162034\n"
     ]
    },
    {
     "name": "stderr",
     "output_type": "stream",
     "text": [
      "[██████████                    ] | ETA: 00:06:31 | Item ID: 169783"
     ]
    },
    {
     "name": "stdout",
     "output_type": "stream",
     "text": [
      "Something went wrong: 169851\n",
      "Something went wrong: 169964\n",
      "Something went wrong: 170010\n",
      "Something went wrong: 170013\n",
      "Something went wrong: 170017\n"
     ]
    },
    {
     "name": "stderr",
     "output_type": "stream",
     "text": [
      "[██████████                    ] | ETA: 00:06:30 | Item ID: 170506"
     ]
    },
    {
     "name": "stdout",
     "output_type": "stream",
     "text": [
      "Something went wrong: 170510\n",
      "Something went wrong: 170517\n"
     ]
    },
    {
     "name": "stderr",
     "output_type": "stream",
     "text": [
      "[██████████                    ] | ETA: 00:06:24 | Item ID: 175278IllegalArgumentException: Invalid number of points in LinearRing found 3 - must be 0 or >= 4\n",
      "Shell is not a LinearRing\n",
      "IllegalArgumentException: Invalid number of points in LinearRing found 3 - must be 0 or >= 4\n",
      "Shell is not a LinearRing\n"
     ]
    },
    {
     "name": "stdout",
     "output_type": "stream",
     "text": [
      "Something went wrong: 175766\n",
      "Something went wrong: 175887\n"
     ]
    },
    {
     "name": "stderr",
     "output_type": "stream",
     "text": [
      "[███████████                   ] | ETA: 00:06:22 | Item ID: 176876IllegalArgumentException: Invalid number of points in LinearRing found 3 - must be 0 or >= 4\n",
      "Shell is not a LinearRing\n"
     ]
    },
    {
     "name": "stdout",
     "output_type": "stream",
     "text": [
      "Something went wrong: 177384\n"
     ]
    },
    {
     "name": "stderr",
     "output_type": "stream",
     "text": [
      "[███████████                   ] | ETA: 00:06:21 | Item ID: 177637"
     ]
    },
    {
     "name": "stdout",
     "output_type": "stream",
     "text": [
      "Something went wrong: 177618\n"
     ]
    },
    {
     "name": "stderr",
     "output_type": "stream",
     "text": [
      "[███████████                   ] | ETA: 00:06:20 | Item ID: 178384"
     ]
    },
    {
     "name": "stdout",
     "output_type": "stream",
     "text": [
      "Something went wrong: 178392\n"
     ]
    },
    {
     "name": "stderr",
     "output_type": "stream",
     "text": [
      "[███████████                   ] | ETA: 00:06:20 | Item ID: 179079"
     ]
    },
    {
     "name": "stdout",
     "output_type": "stream",
     "text": [
      "Something went wrong: 179712\n"
     ]
    },
    {
     "name": "stderr",
     "output_type": "stream",
     "text": [
      "[███████████                   ] | ETA: 00:06:17 | Item ID: 181456"
     ]
    },
    {
     "name": "stdout",
     "output_type": "stream",
     "text": [
      "Something went wrong: 181787\n"
     ]
    },
    {
     "name": "stderr",
     "output_type": "stream",
     "text": [
      "IllegalArgumentException: Invalid number of points in LinearRing found 3 - must be 0 or >= 4\n",
      "Shell is not a LinearRing\n",
      "[███████████                   ] | ETA: 00:06:16 | Item ID: 182226"
     ]
    },
    {
     "name": "stdout",
     "output_type": "stream",
     "text": [
      "Something went wrong: 182158\n"
     ]
    },
    {
     "name": "stderr",
     "output_type": "stream",
     "text": [
      "IllegalArgumentException: Invalid number of points in LinearRing found 3 - must be 0 or >= 4\n",
      "Shell is not a LinearRing\n",
      "IllegalArgumentException: Invalid number of points in LinearRing found 3 - must be 0 or >= 4\n",
      "Shell is not a LinearRing\n",
      "IllegalArgumentException: Invalid number of points in LinearRing found 3 - must be 0 or >= 4\n",
      "Shell is not a LinearRing\n"
     ]
    },
    {
     "name": "stdout",
     "output_type": "stream",
     "text": [
      "Something went wrong: 182385\n",
      "Something went wrong: 182389\n",
      "Something went wrong: 182390\n",
      "Something went wrong: 182393\n",
      "Something went wrong: 182394\n",
      "Something went wrong: 182452\n",
      "Something went wrong: 182453\n"
     ]
    },
    {
     "name": "stderr",
     "output_type": "stream",
     "text": [
      "[███████████                   ] | ETA: 00:06:14 | Item ID: 183784"
     ]
    },
    {
     "name": "stdout",
     "output_type": "stream",
     "text": [
      "Something went wrong: 183914\n",
      "Something went wrong: 183915\n"
     ]
    },
    {
     "name": "stderr",
     "output_type": "stream",
     "text": [
      "[███████████                   ] | ETA: 00:06:08 | Item ID: 188401IllegalArgumentException: Invalid number of points in LinearRing found 3 - must be 0 or >= 4\n",
      "Shell is not a LinearRing\n",
      "IllegalArgumentException: Invalid number of points in LinearRing found 3 - must be 0 or >= 4\n",
      "Shell is not a LinearRing\n"
     ]
    },
    {
     "name": "stdout",
     "output_type": "stream",
     "text": [
      "Something went wrong: 188964\n",
      "Something went wrong: 188973\n",
      "Something went wrong: 188974\n",
      "Something went wrong: 189033\n",
      "Something went wrong: 189035\n",
      "Something went wrong: 189039\n",
      "Something went wrong: 189054\n"
     ]
    },
    {
     "name": "stderr",
     "output_type": "stream",
     "text": [
      "[███████████                   ] | ETA: 00:06:08 | Item ID: 189191"
     ]
    },
    {
     "name": "stdout",
     "output_type": "stream",
     "text": [
      "Something went wrong: 189194\n"
     ]
    },
    {
     "name": "stderr",
     "output_type": "stream",
     "text": [
      "IllegalArgumentException: Invalid number of points in LinearRing found 3 - must be 0 or >= 4\n",
      "Shell is not a LinearRing\n",
      "IllegalArgumentException: Invalid number of points in LinearRing found 3 - must be 0 or >= 4\n",
      "Shell is not a LinearRing\n"
     ]
    },
    {
     "name": "stdout",
     "output_type": "stream",
     "text": [
      "Something went wrong: 189652\n",
      "Something went wrong: 189789\n"
     ]
    },
    {
     "name": "stderr",
     "output_type": "stream",
     "text": [
      "[███████████                   ] | ETA: 00:06:06 | Item ID: 190776"
     ]
    },
    {
     "name": "stdout",
     "output_type": "stream",
     "text": [
      "Something went wrong: 191108\n"
     ]
    },
    {
     "name": "stderr",
     "output_type": "stream",
     "text": [
      "[████████████                  ] | ETA: 00:06:02 | Item ID: 193197IllegalArgumentException: Invalid number of points in LinearRing found 3 - must be 0 or >= 4\n",
      "Shell is not a LinearRing\n"
     ]
    },
    {
     "name": "stdout",
     "output_type": "stream",
     "text": [
      "Something went wrong: 193349\n"
     ]
    },
    {
     "name": "stderr",
     "output_type": "stream",
     "text": [
      "[████████████                  ] | ETA: 00:05:59 | Item ID: 195580IllegalArgumentException: Invalid number of points in LinearRing found 3 - must be 0 or >= 4\n",
      "Shell is not a LinearRing\n"
     ]
    },
    {
     "name": "stdout",
     "output_type": "stream",
     "text": [
      "Something went wrong: 196108\n"
     ]
    },
    {
     "name": "stderr",
     "output_type": "stream",
     "text": [
      "IllegalArgumentException: Invalid number of points in LinearRing found 3 - must be 0 or >= 4\n",
      "Shell is not a LinearRing\n",
      "[████████████                  ] | ETA: 00:05:59 | Item ID: 196321"
     ]
    },
    {
     "name": "stdout",
     "output_type": "stream",
     "text": [
      "Something went wrong: 196319\n",
      "Something went wrong: 196368\n",
      "Something went wrong: 196816\n"
     ]
    },
    {
     "name": "stderr",
     "output_type": "stream",
     "text": [
      "[████████████                  ] | ETA: 00:05:57 | Item ID: 197884"
     ]
    },
    {
     "name": "stdout",
     "output_type": "stream",
     "text": [
      "Something went wrong: 197955\n"
     ]
    },
    {
     "name": "stderr",
     "output_type": "stream",
     "text": [
      "IllegalArgumentException: Invalid number of points in LinearRing found 3 - must be 0 or >= 4\n",
      "Shell is not a LinearRing\n"
     ]
    },
    {
     "name": "stdout",
     "output_type": "stream",
     "text": [
      "Something went wrong: 198156\n"
     ]
    },
    {
     "name": "stderr",
     "output_type": "stream",
     "text": [
      "[████████████                  ] | ETA: 00:05:56 | Item ID: 198673IllegalArgumentException: Invalid number of points in LinearRing found 3 - must be 0 or >= 4\n",
      "Shell is not a LinearRing\n",
      "IllegalArgumentException: Invalid number of points in LinearRing found 3 - must be 0 or >= 4\n",
      "Shell is not a LinearRing\n"
     ]
    },
    {
     "name": "stdout",
     "output_type": "stream",
     "text": [
      "Something went wrong: 199242\n",
      "Something went wrong: 199249\n",
      "Something went wrong: 199293\n",
      "Something went wrong: 199383\n",
      "Something went wrong: 199394\n",
      "Something went wrong: 199400\n"
     ]
    },
    {
     "name": "stderr",
     "output_type": "stream",
     "text": [
      "[████████████                  ] | ETA: 00:05:47 | Item ID: 205780"
     ]
    },
    {
     "name": "stdout",
     "output_type": "stream",
     "text": [
      "Something went wrong: 206242\n",
      "Something went wrong: 206286\n"
     ]
    },
    {
     "name": "stderr",
     "output_type": "stream",
     "text": [
      "[█████████████                 ] | ETA: 00:05:38 | Item ID: 213332"
     ]
    },
    {
     "name": "stdout",
     "output_type": "stream",
     "text": [
      "Something went wrong: 213922\n",
      "Something went wrong: 213978\n",
      "Something went wrong: 213988\n",
      "Something went wrong: 214025\n",
      "Something went wrong: 214040\n"
     ]
    },
    {
     "name": "stderr",
     "output_type": "stream",
     "text": [
      "[█████████████                 ] | ETA: 00:05:37 | Item ID: 214160IllegalArgumentException: Invalid number of points in LinearRing found 3 - must be 0 or >= 4\n",
      "Shell is not a LinearRing\n"
     ]
    },
    {
     "name": "stdout",
     "output_type": "stream",
     "text": [
      "Something went wrong: 214614\n",
      "Something went wrong: 214711\n"
     ]
    },
    {
     "name": "stderr",
     "output_type": "stream",
     "text": [
      "[█████████████                 ] | ETA: 00:05:35 | Item ID: 215649IllegalArgumentException: Invalid number of points in LinearRing found 3 - must be 0 or >= 4\n",
      "Shell is not a LinearRing\n",
      "[█████████████                 ] | ETA: 00:05:34 | Item ID: 216446IllegalArgumentException: Invalid number of points in LinearRing found 3 - must be 0 or >= 4\n",
      "Shell is not a LinearRing\n"
     ]
    },
    {
     "name": "stdout",
     "output_type": "stream",
     "text": [
      "Something went wrong: 216398\n",
      "Something went wrong: 216409\n",
      "Something went wrong: 216463\n"
     ]
    },
    {
     "name": "stderr",
     "output_type": "stream",
     "text": [
      "IllegalArgumentException: Invalid number of points in LinearRing found 3 - must be 0 or >= 4\n",
      "Shell is not a LinearRing\n",
      "[█████████████                 ] | ETA: 00:05:33 | Item ID: 217247"
     ]
    },
    {
     "name": "stdout",
     "output_type": "stream",
     "text": [
      "Something went wrong: 217125\n"
     ]
    },
    {
     "name": "stderr",
     "output_type": "stream",
     "text": [
      "[█████████████                 ] | ETA: 00:05:32 | Item ID: 218051"
     ]
    },
    {
     "name": "stdout",
     "output_type": "stream",
     "text": [
      "Something went wrong: 217989\n"
     ]
    },
    {
     "name": "stderr",
     "output_type": "stream",
     "text": [
      "[█████████████                 ] | ETA: 00:05:28 | Item ID: 221299"
     ]
    },
    {
     "name": "stdout",
     "output_type": "stream",
     "text": [
      "Something went wrong: 221374\n"
     ]
    },
    {
     "name": "stderr",
     "output_type": "stream",
     "text": [
      "IllegalArgumentException: Invalid number of points in LinearRing found 3 - must be 0 or >= 4\n",
      "Shell is not a LinearRing\n"
     ]
    },
    {
     "name": "stdout",
     "output_type": "stream",
     "text": [
      "Something went wrong: 221753\n"
     ]
    },
    {
     "name": "stderr",
     "output_type": "stream",
     "text": [
      "[█████████████                 ] | ETA: 00:05:26 | Item ID: 222947"
     ]
    },
    {
     "name": "stdout",
     "output_type": "stream",
     "text": [
      "Something went wrong: 223227\n"
     ]
    },
    {
     "name": "stderr",
     "output_type": "stream",
     "text": [
      "IllegalArgumentException: Invalid number of points in LinearRing found 3 - must be 0 or >= 4\n",
      "Shell is not a LinearRing\n",
      "[█████████████                 ] | ETA: 00:05:25 | Item ID: 223744IllegalArgumentException: Invalid number of points in LinearRing found 3 - must be 0 or >= 4\n",
      "Shell is not a LinearRing\n"
     ]
    },
    {
     "name": "stdout",
     "output_type": "stream",
     "text": [
      "Something went wrong: 223672\n",
      "Something went wrong: 223690\n",
      "Something went wrong: 223772\n"
     ]
    },
    {
     "name": "stderr",
     "output_type": "stream",
     "text": [
      "[██████████████                ] | ETA: 00:05:21 | Item ID: 226899IllegalArgumentException: Invalid number of points in LinearRing found 3 - must be 0 or >= 4\n",
      "Shell is not a LinearRing\n",
      "IllegalArgumentException: Invalid number of points in LinearRing found 3 - must be 0 or >= 4\n",
      "Shell is not a LinearRing\n"
     ]
    },
    {
     "name": "stdout",
     "output_type": "stream",
     "text": [
      "Something went wrong: 227330\n",
      "Something went wrong: 227339\n"
     ]
    },
    {
     "name": "stderr",
     "output_type": "stream",
     "text": [
      "[██████████████                ] | ETA: 00:05:14 | Item ID: 231746IllegalArgumentException: Invalid number of points in LinearRing found 3 - must be 0 or >= 4\n",
      "Shell is not a LinearRing\n"
     ]
    },
    {
     "name": "stdout",
     "output_type": "stream",
     "text": [
      "Something went wrong: 231978\n",
      "Something went wrong: 231979\n",
      "Something went wrong: 231980\n"
     ]
    },
    {
     "name": "stderr",
     "output_type": "stream",
     "text": [
      "[███████████████               ] | ETA: 00:04:59 | Item ID: 243922"
     ]
    },
    {
     "name": "stdout",
     "output_type": "stream",
     "text": [
      "Something went wrong: 244479\n",
      "Something went wrong: 244492\n",
      "Something went wrong: 244493\n"
     ]
    },
    {
     "name": "stderr",
     "output_type": "stream",
     "text": [
      "[███████████████               ] | ETA: 00:04:58 | Item ID: 244672"
     ]
    },
    {
     "name": "stdout",
     "output_type": "stream",
     "text": [
      "Something went wrong: 244895\n"
     ]
    },
    {
     "name": "stderr",
     "output_type": "stream",
     "text": [
      "IllegalArgumentException: Invalid number of points in LinearRing found 3 - must be 0 or >= 4\n",
      "Shell is not a LinearRing\n"
     ]
    },
    {
     "name": "stdout",
     "output_type": "stream",
     "text": [
      "Something went wrong: 245219\n",
      "Something went wrong: 245248\n"
     ]
    },
    {
     "name": "stderr",
     "output_type": "stream",
     "text": [
      "[███████████████               ] | ETA: 00:04:56 | Item ID: 246345IllegalArgumentException: Invalid number of points in LinearRing found 3 - must be 0 or >= 4\n",
      "Shell is not a LinearRing\n",
      "[███████████████               ] | ETA: 00:04:55 | Item ID: 247190"
     ]
    },
    {
     "name": "stdout",
     "output_type": "stream",
     "text": [
      "Something went wrong: 247048\n",
      "Something went wrong: 247188\n"
     ]
    },
    {
     "name": "stderr",
     "output_type": "stream",
     "text": [
      "IllegalArgumentException: Invalid number of points in LinearRing found 3 - must be 0 or >= 4\n",
      "Shell is not a LinearRing\n",
      "IllegalArgumentException: Invalid number of points in LinearRing found 3 - must be 0 or >= 4\n",
      "Shell is not a LinearRing\n"
     ]
    },
    {
     "name": "stdout",
     "output_type": "stream",
     "text": [
      "Something went wrong: 247215\n",
      "Something went wrong: 247255\n",
      "Something went wrong: 247317\n",
      "Something went wrong: 247343\n"
     ]
    },
    {
     "name": "stderr",
     "output_type": "stream",
     "text": [
      "IllegalArgumentException: Invalid number of points in LinearRing found 3 - must be 0 or >= 4\n",
      "Shell is not a LinearRing\n"
     ]
    },
    {
     "name": "stdout",
     "output_type": "stream",
     "text": [
      "Something went wrong: 247408\n"
     ]
    },
    {
     "name": "stderr",
     "output_type": "stream",
     "text": [
      "IllegalArgumentException: Invalid number of points in LinearRing found 3 - must be 0 or >= 4\n",
      "Shell is not a LinearRing\n",
      "IllegalArgumentException: Invalid number of points in LinearRing found 3 - must be 0 or >= 4\n",
      "Shell is not a LinearRing\n"
     ]
    },
    {
     "name": "stdout",
     "output_type": "stream",
     "text": [
      "Something went wrong: 247586\n",
      "Something went wrong: 247626\n",
      "Something went wrong: 247731\n"
     ]
    },
    {
     "name": "stderr",
     "output_type": "stream",
     "text": [
      "[███████████████               ] | ETA: 00:04:53 | Item ID: 247998IllegalArgumentException: Invalid number of points in LinearRing found 3 - must be 0 or >= 4\n",
      "Shell is not a LinearRing\n",
      "IllegalArgumentException: Invalid number of points in LinearRing found 3 - must be 0 or >= 4\n",
      "Shell is not a LinearRing\n",
      "IllegalArgumentException: Invalid number of points in LinearRing found 3 - must be 0 or >= 4\n",
      "Shell is not a LinearRing\n"
     ]
    },
    {
     "name": "stdout",
     "output_type": "stream",
     "text": [
      "Something went wrong: 248010\n",
      "Something went wrong: 248051\n",
      "Something went wrong: 248056\n",
      "Something went wrong: 248112\n",
      "Something went wrong: 248151\n"
     ]
    },
    {
     "name": "stderr",
     "output_type": "stream",
     "text": [
      "IllegalArgumentException: Invalid number of points in LinearRing found 3 - must be 0 or >= 4\n",
      "Shell is not a LinearRing\n"
     ]
    },
    {
     "name": "stdout",
     "output_type": "stream",
     "text": [
      "Something went wrong: 248179\n",
      "Something went wrong: 248198\n",
      "Something went wrong: 248220\n",
      "Something went wrong: 248256\n"
     ]
    },
    {
     "name": "stderr",
     "output_type": "stream",
     "text": [
      "[███████████████               ] | ETA: 00:04:52 | Item ID: 248819"
     ]
    },
    {
     "name": "stdout",
     "output_type": "stream",
     "text": [
      "Something went wrong: 249316\n"
     ]
    },
    {
     "name": "stderr",
     "output_type": "stream",
     "text": [
      "[███████████████               ] | ETA: 00:04:51 | Item ID: 249648IllegalArgumentException: Invalid number of points in LinearRing found 3 - must be 0 or >= 4\n",
      "Shell is not a LinearRing\n",
      "IllegalArgumentException: Invalid number of points in LinearRing found 3 - must be 0 or >= 4\n",
      "Shell is not a LinearRing\n",
      "IllegalArgumentException: Invalid number of points in LinearRing found 3 - must be 0 or >= 4\n",
      "Shell is not a LinearRing\n"
     ]
    },
    {
     "name": "stdout",
     "output_type": "stream",
     "text": [
      "Something went wrong: 250270\n",
      "Something went wrong: 250294\n",
      "Something went wrong: 250374\n",
      "Something went wrong: 250403\n",
      "Something went wrong: 250436\n"
     ]
    },
    {
     "name": "stderr",
     "output_type": "stream",
     "text": [
      "[███████████████               ] | ETA: 00:04:50 | Item ID: 250481IllegalArgumentException: Invalid number of points in LinearRing found 3 - must be 0 or >= 4\n",
      "Shell is not a LinearRing\n"
     ]
    },
    {
     "name": "stdout",
     "output_type": "stream",
     "text": [
      "Something went wrong: 250626\n",
      "Something went wrong: 250639\n",
      "Something went wrong: 250699\n",
      "Something went wrong: 250742\n",
      "Something went wrong: 250786\n"
     ]
    },
    {
     "name": "stderr",
     "output_type": "stream",
     "text": [
      "IllegalArgumentException: Invalid number of points in LinearRing found 3 - must be 0 or >= 4\n",
      "Shell is not a LinearRing\n",
      "IllegalArgumentException: Invalid number of points in LinearRing found 3 - must be 0 or >= 4\n",
      "Shell is not a LinearRing\n",
      "IllegalArgumentException: Invalid number of points in LinearRing found 3 - must be 0 or >= 4\n",
      "Shell is not a LinearRing\n",
      "IllegalArgumentException: Invalid number of points in LinearRing found 3 - must be 0 or >= 4\n",
      "Shell is not a LinearRing\n"
     ]
    },
    {
     "name": "stdout",
     "output_type": "stream",
     "text": [
      "Something went wrong: 250880\n",
      "Something went wrong: 250940\n",
      "Something went wrong: 250959\n",
      "Something went wrong: 250968\n",
      "Something went wrong: 250993\n"
     ]
    },
    {
     "name": "stderr",
     "output_type": "stream",
     "text": [
      "IllegalArgumentException: Invalid number of points in LinearRing found 3 - must be 0 or >= 4\n",
      "Shell is not a LinearRing\n",
      "IllegalArgumentException: Invalid number of points in LinearRing found 3 - must be 0 or >= 4\n",
      "Shell is not a LinearRing\n",
      "IllegalArgumentException: Invalid number of points in LinearRing found 3 - must be 0 or >= 4\n",
      "Shell is not a LinearRing\n"
     ]
    },
    {
     "name": "stdout",
     "output_type": "stream",
     "text": [
      "Something went wrong: 251085\n",
      "Something went wrong: 251103\n",
      "Something went wrong: 251154\n",
      "Something went wrong: 251194\n"
     ]
    },
    {
     "name": "stderr",
     "output_type": "stream",
     "text": [
      "[███████████████               ] | ETA: 00:04:48 | Item ID: 252116IllegalArgumentException: Invalid number of points in LinearRing found 3 - must be 0 or >= 4\n",
      "Shell is not a LinearRing\n"
     ]
    },
    {
     "name": "stdout",
     "output_type": "stream",
     "text": [
      "Something went wrong: 252319\n"
     ]
    },
    {
     "name": "stderr",
     "output_type": "stream",
     "text": [
      "IllegalArgumentException: Invalid number of points in LinearRing found 3 - must be 0 or >= 4\n",
      "Shell is not a LinearRing\n",
      "IllegalArgumentException: Invalid number of points in LinearRing found 3 - must be 0 or >= 4\n",
      "Shell is not a LinearRing\n"
     ]
    },
    {
     "name": "stdout",
     "output_type": "stream",
     "text": [
      "Something went wrong: 252526\n",
      "Something went wrong: 252540\n",
      "Something went wrong: 252559\n"
     ]
    },
    {
     "name": "stderr",
     "output_type": "stream",
     "text": [
      "IllegalArgumentException: Invalid number of points in LinearRing found 3 - must be 0 or >= 4\n",
      "Shell is not a LinearRing\n"
     ]
    },
    {
     "name": "stdout",
     "output_type": "stream",
     "text": [
      "Something went wrong: 252739\n",
      "Something went wrong: 252748\n",
      "Something went wrong: 252751\n",
      "Something went wrong: 252753\n"
     ]
    },
    {
     "name": "stderr",
     "output_type": "stream",
     "text": [
      "[███████████████               ] | ETA: 00:04:47 | Item ID: 252925"
     ]
    },
    {
     "name": "stdout",
     "output_type": "stream",
     "text": [
      "Something went wrong: 253387\n",
      "Something went wrong: 253410\n"
     ]
    },
    {
     "name": "stderr",
     "output_type": "stream",
     "text": [
      "[███████████████               ] | ETA: 00:04:45 | Item ID: 254543IllegalArgumentException: Invalid number of points in LinearRing found 3 - must be 0 or >= 4\n",
      "Shell is not a LinearRing\n",
      "IllegalArgumentException: Invalid number of points in LinearRing found 3 - must be 0 or >= 4\n",
      "Shell is not a LinearRing\n",
      "IllegalArgumentException: Invalid number of points in LinearRing found 3 - must be 0 or >= 4\n",
      "Shell is not a LinearRing\n",
      "IllegalArgumentException: Invalid number of points in LinearRing found 3 - must be 0 or >= 4\n",
      "Shell is not a LinearRing\n",
      "IllegalArgumentException: Invalid number of points in LinearRing found 3 - must be 0 or >= 4\n",
      "Shell is not a LinearRing\n",
      "IllegalArgumentException: Invalid number of points in LinearRing found 3 - must be 0 or >= 4\n",
      "Shell is not a LinearRing\n",
      "IllegalArgumentException: Invalid number of points in LinearRing found 3 - must be 0 or >= 4\n",
      "Shell is not a LinearRing\n"
     ]
    },
    {
     "name": "stdout",
     "output_type": "stream",
     "text": [
      "Something went wrong: 254612\n",
      "Something went wrong: 254616\n",
      "Something went wrong: 254617\n",
      "Something went wrong: 254620\n",
      "Something went wrong: 254622\n",
      "Something went wrong: 254627\n",
      "Something went wrong: 254729\n",
      "Something went wrong: 254733\n",
      "Something went wrong: 254735\n",
      "Something went wrong: 255098\n"
     ]
    },
    {
     "name": "stderr",
     "output_type": "stream",
     "text": [
      "[████████████████              ] | ETA: 00:04:41 | Item ID: 257635"
     ]
    },
    {
     "name": "stdout",
     "output_type": "stream",
     "text": [
      "Something went wrong: 258112\n",
      "Something went wrong: 258113\n",
      "Something went wrong: 258114\n",
      "Something went wrong: 258115\n"
     ]
    },
    {
     "name": "stderr",
     "output_type": "stream",
     "text": [
      "[████████████████              ] | ETA: 00:04:40 | Item ID: 258425IllegalArgumentException: Invalid number of points in LinearRing found 3 - must be 0 or >= 4\n",
      "Shell is not a LinearRing\n",
      "IllegalArgumentException: Invalid number of points in LinearRing found 3 - must be 0 or >= 4\n",
      "Shell is not a LinearRing\n"
     ]
    },
    {
     "name": "stdout",
     "output_type": "stream",
     "text": [
      "Something went wrong: 258612\n",
      "Something went wrong: 258643\n",
      "Something went wrong: 258659\n",
      "Something went wrong: 258660\n",
      "Something went wrong: 258671\n",
      "Something went wrong: 258720\n",
      "Something went wrong: 258724\n",
      "Something went wrong: 258733\n",
      "Something went wrong: 258748\n",
      "Something went wrong: 258759\n"
     ]
    },
    {
     "name": "stderr",
     "output_type": "stream",
     "text": [
      "IllegalArgumentException: Invalid number of points in LinearRing found 3 - must be 0 or >= 4\n",
      "Shell is not a LinearRing\n",
      "IllegalArgumentException: Invalid number of points in LinearRing found 3 - must be 0 or >= 4\n",
      "Shell is not a LinearRing\n"
     ]
    },
    {
     "name": "stdout",
     "output_type": "stream",
     "text": [
      "Something went wrong: 258781\n",
      "Something went wrong: 258797\n",
      "Something went wrong: 258810\n",
      "Something went wrong: 258817\n",
      "Something went wrong: 258828\n",
      "Something went wrong: 258862\n",
      "Something went wrong: 258866\n",
      "Something went wrong: 258869\n",
      "Something went wrong: 258870\n",
      "Something went wrong: 258888\n",
      "Something went wrong: 258891\n",
      "Something went wrong: 258906\n",
      "Something went wrong: 258917\n",
      "Something went wrong: 258937\n"
     ]
    },
    {
     "name": "stderr",
     "output_type": "stream",
     "text": [
      "[████████████████              ] | ETA: 00:04:39 | Item ID: 259231"
     ]
    },
    {
     "name": "stdout",
     "output_type": "stream",
     "text": [
      "Something went wrong: 259708\n",
      "Something went wrong: 259728\n"
     ]
    },
    {
     "name": "stderr",
     "output_type": "stream",
     "text": [
      "[████████████████              ] | ETA: 00:04:38 | Item ID: 260054"
     ]
    },
    {
     "name": "stdout",
     "output_type": "stream",
     "text": [
      "Something went wrong: 259893\n",
      "Something went wrong: 259906\n",
      "Something went wrong: 259931\n",
      "Something went wrong: 259932\n",
      "Something went wrong: 259933\n",
      "Something went wrong: 259957\n",
      "Something went wrong: 260088\n"
     ]
    },
    {
     "name": "stderr",
     "output_type": "stream",
     "text": [
      "[████████████████              ] | ETA: 00:04:36 | Item ID: 261656IllegalArgumentException: Invalid number of points in LinearRing found 3 - must be 0 or >= 4\n",
      "Shell is not a LinearRing\n"
     ]
    },
    {
     "name": "stdout",
     "output_type": "stream",
     "text": [
      "Something went wrong: 261766\n",
      "Something went wrong: 261773\n",
      "Something went wrong: 261778\n"
     ]
    },
    {
     "name": "stderr",
     "output_type": "stream",
     "text": [
      "[████████████████              ] | ETA: 00:04:34 | Item ID: 263263IllegalArgumentException: Invalid number of points in LinearRing found 3 - must be 0 or >= 4\n",
      "Shell is not a LinearRing\n",
      "[████████████████              ] | ETA: 00:04:33 | Item ID: 264084IllegalArgumentException: Invalid number of points in LinearRing found 3 - must be 0 or >= 4\n",
      "Shell is not a LinearRing\n",
      "IllegalArgumentException: Invalid number of points in LinearRing found 3 - must be 0 or >= 4\n",
      "Shell is not a LinearRing\n",
      "IllegalArgumentException: Invalid number of points in LinearRing found 3 - must be 0 or >= 4\n",
      "Shell is not a LinearRing\n"
     ]
    },
    {
     "name": "stdout",
     "output_type": "stream",
     "text": [
      "Something went wrong: 264074\n",
      "Something went wrong: 264086\n",
      "Something went wrong: 264087\n",
      "Something went wrong: 264088\n",
      "Something went wrong: 264101\n",
      "Something went wrong: 264103\n",
      "Something went wrong: 264104\n",
      "Something went wrong: 264107\n",
      "Something went wrong: 264110\n",
      "Something went wrong: 264117\n"
     ]
    },
    {
     "name": "stderr",
     "output_type": "stream",
     "text": [
      "[████████████████              ] | ETA: 00:04:32 | Item ID: 264819IllegalArgumentException: Invalid number of points in LinearRing found 3 - must be 0 or >= 4\n",
      "Shell is not a LinearRing\n",
      "IllegalArgumentException: Invalid number of points in LinearRing found 3 - must be 0 or >= 4\n",
      "Shell is not a LinearRing\n",
      "IllegalArgumentException: Invalid number of points in LinearRing found 3 - must be 0 or >= 4\n",
      "Shell is not a LinearRing\n",
      "IllegalArgumentException: Invalid number of points in LinearRing found 3 - must be 0 or >= 4\n",
      "Shell is not a LinearRing\n"
     ]
    },
    {
     "name": "stdout",
     "output_type": "stream",
     "text": [
      "Something went wrong: 264918\n",
      "Something went wrong: 264929\n",
      "Something went wrong: 265003\n",
      "Something went wrong: 265028\n",
      "Something went wrong: 265048\n",
      "Something went wrong: 265049\n",
      "Something went wrong: 265051\n",
      "Something went wrong: 265052\n",
      "Something went wrong: 265053\n",
      "Something went wrong: 265058\n",
      "Something went wrong: 265065\n",
      "Something went wrong: 265071\n",
      "Something went wrong: 265075\n",
      "Something went wrong: 265082\n",
      "Something went wrong: 265083\n",
      "Something went wrong: 265090\n",
      "Something went wrong: 265098\n"
     ]
    },
    {
     "name": "stderr",
     "output_type": "stream",
     "text": [
      "IllegalArgumentException: Invalid number of points in LinearRing found 3 - must be 0 or >= 4\n",
      "Shell is not a LinearRing\n",
      "[████████████████              ] | ETA: 00:04:31 | Item ID: 265644"
     ]
    },
    {
     "name": "stdout",
     "output_type": "stream",
     "text": [
      "Something went wrong: 265563\n",
      "Something went wrong: 265568\n",
      "Something went wrong: 265590\n",
      "Something went wrong: 265592\n",
      "Something went wrong: 265595\n",
      "Something went wrong: 265596\n",
      "Something went wrong: 265647\n"
     ]
    },
    {
     "name": "stderr",
     "output_type": "stream",
     "text": [
      "[████████████████              ] | ETA: 00:04:30 | Item ID: 266447"
     ]
    },
    {
     "name": "stdout",
     "output_type": "stream",
     "text": [
      "Something went wrong: 266461\n",
      "Something went wrong: 266484\n"
     ]
    },
    {
     "name": "stderr",
     "output_type": "stream",
     "text": [
      "[████████████████              ] | ETA: 00:04:26 | Item ID: 269734"
     ]
    },
    {
     "name": "stdout",
     "output_type": "stream",
     "text": [
      "Something went wrong: 269648\n"
     ]
    },
    {
     "name": "stderr",
     "output_type": "stream",
     "text": [
      "[█████████████████             ] | ETA: 00:04:22 | Item ID: 272951IllegalArgumentException: Invalid number of points in LinearRing found 3 - must be 0 or >= 4\n",
      "Shell is not a LinearRing\n"
     ]
    },
    {
     "name": "stdout",
     "output_type": "stream",
     "text": [
      "Something went wrong: 273081\n",
      "Something went wrong: 273082\n",
      "Something went wrong: 273099\n",
      "Something went wrong: 273102\n",
      "Something went wrong: 273104\n"
     ]
    },
    {
     "name": "stderr",
     "output_type": "stream",
     "text": [
      "[█████████████████             ] | ETA: 00:04:21 | Item ID: 273706IllegalArgumentException: Invalid number of points in LinearRing found 3 - must be 0 or >= 4\n",
      "Shell is not a LinearRing\n"
     ]
    },
    {
     "name": "stdout",
     "output_type": "stream",
     "text": [
      "Something went wrong: 273951\n"
     ]
    },
    {
     "name": "stderr",
     "output_type": "stream",
     "text": [
      "[█████████████████             ] | ETA: 00:04:12 | Item ID: 280970"
     ]
    },
    {
     "name": "stdout",
     "output_type": "stream",
     "text": [
      "Something went wrong: 281571\n"
     ]
    },
    {
     "name": "stderr",
     "output_type": "stream",
     "text": [
      "[█████████████████             ] | ETA: 00:04:10 | Item ID: 282568IllegalArgumentException: Invalid number of points in LinearRing found 3 - must be 0 or >= 4\n",
      "Shell is not a LinearRing\n"
     ]
    },
    {
     "name": "stdout",
     "output_type": "stream",
     "text": [
      "Something went wrong: 282780\n",
      "Something went wrong: 282781\n"
     ]
    },
    {
     "name": "stderr",
     "output_type": "stream",
     "text": [
      "[█████████████████             ] | ETA: 00:04:07 | Item ID: 284933IllegalArgumentException: Invalid number of points in LinearRing found 3 - must be 0 or >= 4\n",
      "Shell is not a LinearRing\n"
     ]
    },
    {
     "name": "stdout",
     "output_type": "stream",
     "text": [
      "Something went wrong: 285433\n",
      "Something went wrong: 285582\n"
     ]
    },
    {
     "name": "stderr",
     "output_type": "stream",
     "text": [
      "IllegalArgumentException: Invalid number of points in LinearRing found 3 - must be 0 or >= 4\n",
      "Shell is not a LinearRing\n",
      "IllegalArgumentException: Invalid number of points in LinearRing found 3 - must be 0 or >= 4\n",
      "Shell is not a LinearRing\n",
      "IllegalArgumentException: Invalid number of points in LinearRing found 3 - must be 0 or >= 4\n",
      "Shell is not a LinearRing\n",
      "[█████████████████             ] | ETA: 00:04:06 | Item ID: 285748"
     ]
    },
    {
     "name": "stdout",
     "output_type": "stream",
     "text": [
      "Something went wrong: 285600\n",
      "Something went wrong: 285648\n",
      "Something went wrong: 285699\n"
     ]
    },
    {
     "name": "stderr",
     "output_type": "stream",
     "text": [
      "[█████████████████             ] | ETA: 00:04:02 | Item ID: 288187IllegalArgumentException: Invalid number of points in LinearRing found 3 - must be 0 or >= 4\n",
      "Shell is not a LinearRing\n"
     ]
    },
    {
     "name": "stdout",
     "output_type": "stream",
     "text": [
      "Something went wrong: 288590\n",
      "Something went wrong: 288654\n",
      "Something went wrong: 288683\n",
      "Something went wrong: 288698\n"
     ]
    },
    {
     "name": "stderr",
     "output_type": "stream",
     "text": [
      "IllegalArgumentException: Invalid number of points in LinearRing found 3 - must be 0 or >= 4\n",
      "Shell is not a LinearRing\n",
      "[██████████████████            ] | ETA: 00:04:01 | Item ID: 289028"
     ]
    },
    {
     "name": "stdout",
     "output_type": "stream",
     "text": [
      "Something went wrong: 288906\n",
      "Something went wrong: 289059\n"
     ]
    },
    {
     "name": "stderr",
     "output_type": "stream",
     "text": [
      "[██████████████████            ] | ETA: 00:03:56 | Item ID: 293049IllegalArgumentException: Invalid number of points in LinearRing found 3 - must be 0 or >= 4\n",
      "Shell is not a LinearRing\n",
      "IllegalArgumentException: Invalid number of points in LinearRing found 3 - must be 0 or >= 4\n",
      "Shell is not a LinearRing\n"
     ]
    },
    {
     "name": "stdout",
     "output_type": "stream",
     "text": [
      "Something went wrong: 293100\n",
      "Something went wrong: 293240\n",
      "Something went wrong: 293241\n",
      "Something went wrong: 293244\n"
     ]
    },
    {
     "name": "stderr",
     "output_type": "stream",
     "text": [
      "[██████████████████            ] | ETA: 00:03:44 | Item ID: 303485"
     ]
    },
    {
     "name": "stdout",
     "output_type": "stream",
     "text": [
      "Something went wrong: 303548\n"
     ]
    },
    {
     "name": "stderr",
     "output_type": "stream",
     "text": [
      "[██████████████████            ] | ETA: 00:03:43 | Item ID: 304230"
     ]
    },
    {
     "name": "stdout",
     "output_type": "stream",
     "text": [
      "Something went wrong: 304389\n"
     ]
    },
    {
     "name": "stderr",
     "output_type": "stream",
     "text": [
      "[███████████████████           ] | ETA: 00:03:41 | Item ID: 305738"
     ]
    },
    {
     "name": "stdout",
     "output_type": "stream",
     "text": [
      "Something went wrong: 305618\n",
      "Something went wrong: 305619\n",
      "Something went wrong: 305678\n",
      "Something went wrong: 305680\n",
      "Something went wrong: 305705\n"
     ]
    },
    {
     "name": "stderr",
     "output_type": "stream",
     "text": [
      "[███████████████████           ] | ETA: 00:03:40 | Item ID: 306425IllegalArgumentException: Invalid number of points in LinearRing found 3 - must be 0 or >= 4\n",
      "Shell is not a LinearRing\n",
      "IllegalArgumentException: Invalid number of points in LinearRing found 3 - must be 0 or >= 4\n",
      "Shell is not a LinearRing\n",
      "IllegalArgumentException: Invalid number of points in LinearRing found 3 - must be 0 or >= 4\n",
      "Shell is not a LinearRing\n",
      "IllegalArgumentException: Invalid number of points in LinearRing found 3 - must be 0 or >= 4\n",
      "Shell is not a LinearRing\n",
      "IllegalArgumentException: Invalid number of points in LinearRing found 3 - must be 0 or >= 4\n",
      "Shell is not a LinearRing\n"
     ]
    },
    {
     "name": "stdout",
     "output_type": "stream",
     "text": [
      "Something went wrong: 306999\n",
      "Something went wrong: 307001\n",
      "Something went wrong: 307002\n",
      "Something went wrong: 307003\n",
      "Something went wrong: 307004\n",
      "Something went wrong: 307005\n"
     ]
    },
    {
     "name": "stderr",
     "output_type": "stream",
     "text": [
      "[███████████████████           ] | ETA: 00:03:38 | Item ID: 307949"
     ]
    },
    {
     "name": "stdout",
     "output_type": "stream",
     "text": [
      "Something went wrong: 307865\n"
     ]
    },
    {
     "name": "stderr",
     "output_type": "stream",
     "text": [
      "[███████████████████           ] | ETA: 00:03:34 | Item ID: 311094"
     ]
    },
    {
     "name": "stdout",
     "output_type": "stream",
     "text": [
      "Something went wrong: 311232\n",
      "Something went wrong: 311324\n",
      "Something went wrong: 311337\n"
     ]
    },
    {
     "name": "stderr",
     "output_type": "stream",
     "text": [
      "[███████████████████           ] | ETA: 00:03:29 | Item ID: 315165"
     ]
    },
    {
     "name": "stdout",
     "output_type": "stream",
     "text": [
      "Something went wrong: 315675\n"
     ]
    },
    {
     "name": "stderr",
     "output_type": "stream",
     "text": [
      "[████████████████████          ] | ETA: 00:03:21 | Item ID: 321986IllegalArgumentException: Invalid number of points in LinearRing found 3 - must be 0 or >= 4\n",
      "Shell is not a LinearRing\n"
     ]
    },
    {
     "name": "stdout",
     "output_type": "stream",
     "text": [
      "Something went wrong: 322378\n",
      "Something went wrong: 322381\n",
      "Something went wrong: 322396\n"
     ]
    },
    {
     "name": "stderr",
     "output_type": "stream",
     "text": [
      "[████████████████████          ] | ETA: 00:03:18 | Item ID: 324358IllegalArgumentException: Invalid number of points in LinearRing found 3 - must be 0 or >= 4\n",
      "Shell is not a LinearRing\n",
      "[████████████████████          ] | ETA: 00:03:17 | Item ID: 325042"
     ]
    },
    {
     "name": "stdout",
     "output_type": "stream",
     "text": [
      "Something went wrong: 324917\n",
      "Something went wrong: 324988\n"
     ]
    },
    {
     "name": "stderr",
     "output_type": "stream",
     "text": [
      "[████████████████████          ] | ETA: 00:03:16 | Item ID: 325774IllegalArgumentException: Invalid number of points in LinearRing found 3 - must be 0 or >= 4\n",
      "Shell is not a LinearRing\n"
     ]
    },
    {
     "name": "stdout",
     "output_type": "stream",
     "text": [
      "Something went wrong: 325783\n",
      "Something went wrong: 325784\n",
      "Something went wrong: 325831\n"
     ]
    },
    {
     "name": "stderr",
     "output_type": "stream",
     "text": [
      "IllegalArgumentException: Invalid number of points in LinearRing found 3 - must be 0 or >= 4\n",
      "Shell is not a LinearRing\n"
     ]
    },
    {
     "name": "stdout",
     "output_type": "stream",
     "text": [
      "Something went wrong: 325970\n",
      "Something went wrong: 325971\n",
      "Something went wrong: 325972\n",
      "Something went wrong: 326071\n"
     ]
    },
    {
     "name": "stderr",
     "output_type": "stream",
     "text": [
      "IllegalArgumentException: Invalid number of points in LinearRing found 3 - must be 0 or >= 4\n",
      "Shell is not a LinearRing\n",
      "IllegalArgumentException: Invalid number of points in LinearRing found 3 - must be 0 or >= 4\n",
      "Shell is not a LinearRing\n"
     ]
    },
    {
     "name": "stdout",
     "output_type": "stream",
     "text": [
      "Something went wrong: 326244\n",
      "Something went wrong: 326258\n",
      "Something went wrong: 326281\n",
      "Something went wrong: 326287\n"
     ]
    },
    {
     "name": "stderr",
     "output_type": "stream",
     "text": [
      "[████████████████████          ] | ETA: 00:03:15 | Item ID: 326528"
     ]
    },
    {
     "name": "stdout",
     "output_type": "stream",
     "text": [
      "Something went wrong: 326982\n",
      "Something went wrong: 327017\n"
     ]
    },
    {
     "name": "stderr",
     "output_type": "stream",
     "text": [
      "[████████████████████          ] | ETA: 00:03:08 | Item ID: 331942"
     ]
    },
    {
     "name": "stdout",
     "output_type": "stream",
     "text": [
      "Something went wrong: 332339\n",
      "Something went wrong: 332469\n"
     ]
    },
    {
     "name": "stderr",
     "output_type": "stream",
     "text": [
      "[████████████████████          ] | ETA: 00:03:04 | Item ID: 335083IllegalArgumentException: Invalid number of points in LinearRing found 3 - must be 0 or >= 4\n",
      "Shell is not a LinearRing\n"
     ]
    },
    {
     "name": "stdout",
     "output_type": "stream",
     "text": [
      "Something went wrong: 335465\n",
      "Something went wrong: 335513\n",
      "Something went wrong: 335514\n",
      "Something went wrong: 335519\n",
      "Something went wrong: 335533\n"
     ]
    },
    {
     "name": "stderr",
     "output_type": "stream",
     "text": [
      "[████████████████████          ] | ETA: 00:03:02 | Item ID: 336652"
     ]
    },
    {
     "name": "stdout",
     "output_type": "stream",
     "text": [
      "Something went wrong: 336968\n",
      "Something went wrong: 336973\n",
      "Something went wrong: 336976\n",
      "Something went wrong: 336977\n",
      "Something went wrong: 337124\n"
     ]
    },
    {
     "name": "stderr",
     "output_type": "stream",
     "text": [
      "[█████████████████████         ] | ETA: 00:03:02 | Item ID: 337331IllegalArgumentException: Invalid number of points in LinearRing found 3 - must be 0 or >= 4\n",
      "Shell is not a LinearRing\n",
      "IllegalArgumentException: Invalid number of points in LinearRing found 3 - must be 0 or >= 4\n",
      "Shell is not a LinearRing\n",
      "IllegalArgumentException: Invalid number of points in LinearRing found 3 - must be 0 or >= 4\n",
      "Shell is not a LinearRing\n"
     ]
    },
    {
     "name": "stdout",
     "output_type": "stream",
     "text": [
      "Something went wrong: 337514\n",
      "Something went wrong: 337524\n",
      "Something went wrong: 337560\n",
      "Something went wrong: 337571\n",
      "Something went wrong: 337595\n"
     ]
    },
    {
     "name": "stderr",
     "output_type": "stream",
     "text": [
      "[█████████████████████         ] | ETA: 00:03:00 | Item ID: 338864"
     ]
    },
    {
     "name": "stdout",
     "output_type": "stream",
     "text": [
      "Something went wrong: 339261\n"
     ]
    },
    {
     "name": "stderr",
     "output_type": "stream",
     "text": [
      "IllegalArgumentException: Invalid number of points in LinearRing found 3 - must be 0 or >= 4\n",
      "Shell is not a LinearRing\n",
      "[█████████████████████         ] | ETA: 00:02:59 | Item ID: 339642"
     ]
    },
    {
     "name": "stdout",
     "output_type": "stream",
     "text": [
      "Something went wrong: 339516\n"
     ]
    },
    {
     "name": "stderr",
     "output_type": "stream",
     "text": [
      "IllegalArgumentException: Invalid number of points in LinearRing found 3 - must be 0 or >= 4\n",
      "Shell is not a LinearRing\n",
      "IllegalArgumentException: Invalid number of points in LinearRing found 3 - must be 0 or >= 4\n",
      "Shell is not a LinearRing\n"
     ]
    },
    {
     "name": "stdout",
     "output_type": "stream",
     "text": [
      "Something went wrong: 339769\n",
      "Something went wrong: 339907\n"
     ]
    },
    {
     "name": "stderr",
     "output_type": "stream",
     "text": [
      "[█████████████████████         ] | ETA: 00:02:58 | Item ID: 340325IllegalArgumentException: Invalid number of points in LinearRing found 3 - must be 0 or >= 4\n",
      "Shell is not a LinearRing\n"
     ]
    },
    {
     "name": "stdout",
     "output_type": "stream",
     "text": [
      "Something went wrong: 340595\n",
      "Something went wrong: 340661\n"
     ]
    },
    {
     "name": "stderr",
     "output_type": "stream",
     "text": [
      "[█████████████████████         ] | ETA: 00:02:51 | Item ID: 345976"
     ]
    },
    {
     "name": "stdout",
     "output_type": "stream",
     "text": [
      "Something went wrong: 346306\n"
     ]
    },
    {
     "name": "stderr",
     "output_type": "stream",
     "text": [
      "[█████████████████████         ] | ETA: 00:02:50 | Item ID: 346796"
     ]
    },
    {
     "name": "stdout",
     "output_type": "stream",
     "text": [
      "Something went wrong: 346637\n",
      "Something went wrong: 346901\n"
     ]
    },
    {
     "name": "stderr",
     "output_type": "stream",
     "text": [
      "[█████████████████████         ] | ETA: 00:02:46 | Item ID: 349806IllegalArgumentException: Invalid number of points in LinearRing found 3 - must be 0 or >= 4\n",
      "Shell is not a LinearRing\n"
     ]
    },
    {
     "name": "stdout",
     "output_type": "stream",
     "text": [
      "Something went wrong: 350345\n"
     ]
    },
    {
     "name": "stderr",
     "output_type": "stream",
     "text": [
      "[██████████████████████        ] | ETA: 00:02:37 | Item ID: 357123IllegalArgumentException: Invalid number of points in LinearRing found 3 - must be 0 or >= 4\n",
      "Shell is not a LinearRing\n",
      "[██████████████████████        ] | ETA: 00:02:36 | Item ID: 357916"
     ]
    },
    {
     "name": "stdout",
     "output_type": "stream",
     "text": [
      "Something went wrong: 357914\n"
     ]
    },
    {
     "name": "stderr",
     "output_type": "stream",
     "text": [
      "[██████████████████████        ] | ETA: 00:02:35 | Item ID: 358709"
     ]
    },
    {
     "name": "stdout",
     "output_type": "stream",
     "text": [
      "Something went wrong: 358693\n"
     ]
    },
    {
     "name": "stderr",
     "output_type": "stream",
     "text": [
      "[██████████████████████        ] | ETA: 00:02:25 | Item ID: 366014"
     ]
    },
    {
     "name": "stdout",
     "output_type": "stream",
     "text": [
      "Something went wrong: 366160\n",
      "Something went wrong: 366312\n"
     ]
    },
    {
     "name": "stderr",
     "output_type": "stream",
     "text": [
      "[██████████████████████        ] | ETA: 00:02:24 | Item ID: 366862"
     ]
    },
    {
     "name": "stdout",
     "output_type": "stream",
     "text": [
      "Something went wrong: 366824\n",
      "Something went wrong: 366863\n"
     ]
    },
    {
     "name": "stderr",
     "output_type": "stream",
     "text": [
      "[███████████████████████       ] | ETA: 00:02:17 | Item ID: 372584IllegalArgumentException: Invalid number of points in LinearRing found 3 - must be 0 or >= 4\n",
      "Shell is not a LinearRing\n",
      "IllegalArgumentException: Invalid number of points in LinearRing found 3 - must be 0 or >= 4\n",
      "Shell is not a LinearRing\n",
      "IllegalArgumentException: Invalid number of points in LinearRing found 3 - must be 0 or >= 4\n",
      "Shell is not a LinearRing\n",
      "[███████████████████████       ] | ETA: 00:02:16 | Item ID: 373422"
     ]
    },
    {
     "name": "stdout",
     "output_type": "stream",
     "text": [
      "Something went wrong: 373334\n",
      "Something went wrong: 373355\n",
      "Something went wrong: 373362\n",
      "Something went wrong: 373371\n",
      "Something went wrong: 373389\n"
     ]
    },
    {
     "name": "stderr",
     "output_type": "stream",
     "text": [
      "[███████████████████████       ] | ETA: 00:02:10 | Item ID: 378255"
     ]
    },
    {
     "name": "stdout",
     "output_type": "stream",
     "text": [
      "Something went wrong: 378511\n",
      "Something went wrong: 378526\n"
     ]
    },
    {
     "name": "stderr",
     "output_type": "stream",
     "text": [
      "[███████████████████████       ] | ETA: 00:02:07 | Item ID: 380737IllegalArgumentException: Invalid number of points in LinearRing found 3 - must be 0 or >= 4\n",
      "Shell is not a LinearRing\n",
      "[███████████████████████       ] | ETA: 00:02:05 | Item ID: 381571"
     ]
    },
    {
     "name": "stdout",
     "output_type": "stream",
     "text": [
      "Something went wrong: 381490\n",
      "Something went wrong: 381493\n",
      "Something went wrong: 381494\n",
      "Something went wrong: 381501\n",
      "Something went wrong: 381508\n",
      "Something went wrong: 381510\n",
      "Something went wrong: 381512\n",
      "Something went wrong: 381530\n"
     ]
    },
    {
     "name": "stderr",
     "output_type": "stream",
     "text": [
      "[███████████████████████       ] | ETA: 00:02:05 | Item ID: 382274"
     ]
    },
    {
     "name": "stdout",
     "output_type": "stream",
     "text": [
      "Something went wrong: 382215\n",
      "Something went wrong: 382225\n"
     ]
    },
    {
     "name": "stderr",
     "output_type": "stream",
     "text": [
      "[███████████████████████       ] | ETA: 00:02:03 | Item ID: 383919"
     ]
    },
    {
     "name": "stdout",
     "output_type": "stream",
     "text": [
      "Something went wrong: 384232\n"
     ]
    },
    {
     "name": "stderr",
     "output_type": "stream",
     "text": [
      "[████████████████████████      ] | ETA: 00:01:56 | Item ID: 388848IllegalArgumentException: Invalid number of points in LinearRing found 3 - must be 0 or >= 4\n",
      "Shell is not a LinearRing\n",
      "IllegalArgumentException: Invalid number of points in LinearRing found 3 - must be 0 or >= 4\n",
      "Shell is not a LinearRing\n",
      "IllegalArgumentException: Invalid number of points in LinearRing found 3 - must be 0 or >= 4\n",
      "Shell is not a LinearRing\n",
      "IllegalArgumentException: Invalid number of points in LinearRing found 3 - must be 0 or >= 4\n",
      "Shell is not a LinearRing\n",
      "IllegalArgumentException: Invalid number of points in LinearRing found 3 - must be 0 or >= 4\n",
      "Shell is not a LinearRing\n"
     ]
    },
    {
     "name": "stdout",
     "output_type": "stream",
     "text": [
      "Something went wrong: 389091\n",
      "Something went wrong: 389128\n",
      "Something went wrong: 389131\n",
      "Something went wrong: 389143\n",
      "Something went wrong: 389182\n",
      "Something went wrong: 389202\n",
      "Something went wrong: 389208\n",
      "Something went wrong: 389253\n"
     ]
    },
    {
     "name": "stderr",
     "output_type": "stream",
     "text": [
      "IllegalArgumentException: Invalid number of points in LinearRing found 3 - must be 0 or >= 4\n",
      "Shell is not a LinearRing\n"
     ]
    },
    {
     "name": "stdout",
     "output_type": "stream",
     "text": [
      "Something went wrong: 389274\n",
      "Something went wrong: 389300\n"
     ]
    },
    {
     "name": "stderr",
     "output_type": "stream",
     "text": [
      "[████████████████████████      ] | ETA: 00:01:54 | Item ID: 390460"
     ]
    },
    {
     "name": "stdout",
     "output_type": "stream",
     "text": [
      "Something went wrong: 390720\n",
      "Something went wrong: 390736\n"
     ]
    },
    {
     "name": "stderr",
     "output_type": "stream",
     "text": [
      "[████████████████████████      ] | ETA: 00:01:53 | Item ID: 391263"
     ]
    },
    {
     "name": "stdout",
     "output_type": "stream",
     "text": [
      "Something went wrong: 391130\n",
      "Something went wrong: 391139\n"
     ]
    },
    {
     "name": "stderr",
     "output_type": "stream",
     "text": [
      "[████████████████████████      ] | ETA: 00:01:50 | Item ID: 393519IllegalArgumentException: Invalid number of points in LinearRing found 3 - must be 0 or >= 4\n",
      "Shell is not a LinearRing\n",
      "[████████████████████████      ] | ETA: 00:01:49 | Item ID: 394345"
     ]
    },
    {
     "name": "stdout",
     "output_type": "stream",
     "text": [
      "Something went wrong: 394242\n"
     ]
    },
    {
     "name": "stderr",
     "output_type": "stream",
     "text": [
      "[█████████████████████████     ] | ETA: 00:01:39 | Item ID: 402543IllegalArgumentException: Invalid number of points in LinearRing found 3 - must be 0 or >= 4\n",
      "Shell is not a LinearRing\n"
     ]
    },
    {
     "name": "stdout",
     "output_type": "stream",
     "text": [
      "Something went wrong: 402750\n",
      "Something went wrong: 402885\n",
      "Something went wrong: 403079\n"
     ]
    },
    {
     "name": "stderr",
     "output_type": "stream",
     "text": [
      "[█████████████████████████     ] | ETA: 00:01:37 | Item ID: 404102IllegalArgumentException: Invalid number of points in LinearRing found 3 - must be 0 or >= 4\n",
      "Shell is not a LinearRing\n"
     ]
    },
    {
     "name": "stdout",
     "output_type": "stream",
     "text": [
      "Something went wrong: 404102\n"
     ]
    },
    {
     "name": "stderr",
     "output_type": "stream",
     "text": [
      "[█████████████████████████     ] | ETA: 00:01:32 | Item ID: 408189"
     ]
    },
    {
     "name": "stdout",
     "output_type": "stream",
     "text": [
      "Something went wrong: 408222\n"
     ]
    },
    {
     "name": "stderr",
     "output_type": "stream",
     "text": [
      "IllegalArgumentException: Invalid number of points in LinearRing found 3 - must be 0 or >= 4\n",
      "Shell is not a LinearRing\n"
     ]
    },
    {
     "name": "stdout",
     "output_type": "stream",
     "text": [
      "Something went wrong: 408392\n"
     ]
    },
    {
     "name": "stderr",
     "output_type": "stream",
     "text": [
      "[█████████████████████████     ] | ETA: 00:01:27 | Item ID: 412212"
     ]
    },
    {
     "name": "stdout",
     "output_type": "stream",
     "text": [
      "Something went wrong: 412546\n"
     ]
    },
    {
     "name": "stderr",
     "output_type": "stream",
     "text": [
      "[█████████████████████████     ] | ETA: 00:01:22 | Item ID: 416178"
     ]
    },
    {
     "name": "stdout",
     "output_type": "stream",
     "text": [
      "Something went wrong: 416283\n"
     ]
    },
    {
     "name": "stderr",
     "output_type": "stream",
     "text": [
      "[██████████████████████████    ] | ETA: 00:01:20 | Item ID: 417879IllegalArgumentException: Invalid number of points in LinearRing found 3 - must be 0 or >= 4\n",
      "Shell is not a LinearRing\n",
      "[██████████████████████████    ] | ETA: 00:01:19 | Item ID: 418691IllegalArgumentException: Invalid number of points in LinearRing found 3 - must be 0 or >= 4\n",
      "Shell is not a LinearRing\n"
     ]
    },
    {
     "name": "stdout",
     "output_type": "stream",
     "text": [
      "Something went wrong: 418615\n",
      "Something went wrong: 418659\n",
      "Something went wrong: 418706\n"
     ]
    },
    {
     "name": "stderr",
     "output_type": "stream",
     "text": [
      "IllegalArgumentException: Invalid number of points in LinearRing found 3 - must be 0 or >= 4\n",
      "Shell is not a LinearRing\n",
      "IllegalArgumentException: Invalid number of points in LinearRing found 3 - must be 0 or >= 4\n",
      "Shell is not a LinearRing\n",
      "IllegalArgumentException: Invalid number of points in LinearRing found 3 - must be 0 or >= 4\n",
      "Shell is not a LinearRing\n"
     ]
    },
    {
     "name": "stdout",
     "output_type": "stream",
     "text": [
      "Something went wrong: 418784\n",
      "Something went wrong: 418786\n",
      "Something went wrong: 418795\n",
      "Something went wrong: 418804\n",
      "Something went wrong: 418808\n",
      "Something went wrong: 418861\n",
      "Something went wrong: 418874\n",
      "Something went wrong: 418888\n"
     ]
    },
    {
     "name": "stderr",
     "output_type": "stream",
     "text": [
      "[██████████████████████████    ] | ETA: 00:01:18 | Item ID: 419469"
     ]
    },
    {
     "name": "stdout",
     "output_type": "stream",
     "text": [
      "Something went wrong: 419779\n",
      "Something went wrong: 419784\n"
     ]
    },
    {
     "name": "stderr",
     "output_type": "stream",
     "text": [
      "[██████████████████████████    ] | ETA: 00:01:17 | Item ID: 420256IllegalArgumentException: Invalid number of points in LinearRing found 3 - must be 0 or >= 4\n",
      "Shell is not a LinearRing\n"
     ]
    },
    {
     "name": "stdout",
     "output_type": "stream",
     "text": [
      "Something went wrong: 420564\n",
      "Something went wrong: 420646\n"
     ]
    },
    {
     "name": "stderr",
     "output_type": "stream",
     "text": [
      "[██████████████████████████    ] | ETA: 00:01:12 | Item ID: 424161IllegalArgumentException: Invalid number of points in LinearRing found 3 - must be 0 or >= 4\n",
      "Shell is not a LinearRing\n"
     ]
    },
    {
     "name": "stdout",
     "output_type": "stream",
     "text": [
      "Something went wrong: 424548\n"
     ]
    },
    {
     "name": "stderr",
     "output_type": "stream",
     "text": [
      "[██████████████████████████    ] | ETA: 00:01:10 | Item ID: 425808"
     ]
    },
    {
     "name": "stdout",
     "output_type": "stream",
     "text": [
      "Something went wrong: 425690\n"
     ]
    },
    {
     "name": "stderr",
     "output_type": "stream",
     "text": [
      "[██████████████████████████    ] | ETA: 00:01:08 | Item ID: 427441IllegalArgumentException: Invalid number of points in LinearRing found 3 - must be 0 or >= 4\n",
      "Shell is not a LinearRing\n",
      "[██████████████████████████    ] | ETA: 00:01:07 | Item ID: 428240"
     ]
    },
    {
     "name": "stdout",
     "output_type": "stream",
     "text": [
      "Something went wrong: 428208\n"
     ]
    },
    {
     "name": "stderr",
     "output_type": "stream",
     "text": [
      "[██████████████████████████    ] | ETA: 00:01:04 | Item ID: 430539IllegalArgumentException: Invalid number of points in LinearRing found 3 - must be 0 or >= 4\n",
      "Shell is not a LinearRing\n",
      "IllegalArgumentException: Invalid number of points in LinearRing found 3 - must be 0 or >= 4\n",
      "Shell is not a LinearRing\n",
      "IllegalArgumentException: Invalid number of points in LinearRing found 3 - must be 0 or >= 4\n",
      "Shell is not a LinearRing\n",
      "IllegalArgumentException: Invalid number of points in LinearRing found 3 - must be 0 or >= 4\n",
      "Shell is not a LinearRing\n"
     ]
    },
    {
     "name": "stdout",
     "output_type": "stream",
     "text": [
      "Something went wrong: 430645\n",
      "Something went wrong: 430647\n",
      "Something went wrong: 430648\n",
      "Something went wrong: 430663\n",
      "Something went wrong: 430668\n",
      "Something went wrong: 430680\n",
      "Something went wrong: 430712\n",
      "Something went wrong: 430713\n",
      "Something went wrong: 430717\n",
      "Something went wrong: 430760\n",
      "Something went wrong: 430859\n",
      "Something went wrong: 431078\n"
     ]
    },
    {
     "name": "stderr",
     "output_type": "stream",
     "text": [
      "[██████████████████████████    ] | ETA: 00:01:03 | Item ID: 431304"
     ]
    },
    {
     "name": "stdout",
     "output_type": "stream",
     "text": [
      "Something went wrong: 431556\n"
     ]
    },
    {
     "name": "stderr",
     "output_type": "stream",
     "text": [
      "[██████████████████████████    ] | ETA: 00:01:01 | Item ID: 432899"
     ]
    },
    {
     "name": "stdout",
     "output_type": "stream",
     "text": [
      "Something went wrong: 433421\n"
     ]
    },
    {
     "name": "stderr",
     "output_type": "stream",
     "text": [
      "[███████████████████████████   ] | ETA: 00:00:55 | Item ID: 437383"
     ]
    },
    {
     "name": "stdout",
     "output_type": "stream",
     "text": [
      "Something went wrong: 437609\n",
      "Something went wrong: 437613\n"
     ]
    },
    {
     "name": "stderr",
     "output_type": "stream",
     "text": [
      "IllegalArgumentException: Invalid number of points in LinearRing found 3 - must be 0 or >= 4\n",
      "Shell is not a LinearRing\n"
     ]
    },
    {
     "name": "stdout",
     "output_type": "stream",
     "text": [
      "Something went wrong: 437811\n"
     ]
    },
    {
     "name": "stderr",
     "output_type": "stream",
     "text": [
      "[███████████████████████████   ] | ETA: 00:00:54 | Item ID: 438160"
     ]
    },
    {
     "name": "stdout",
     "output_type": "stream",
     "text": [
      "Something went wrong: 438259\n",
      "Something went wrong: 438638\n"
     ]
    },
    {
     "name": "stderr",
     "output_type": "stream",
     "text": [
      "[███████████████████████████   ] | ETA: 00:00:53 | Item ID: 438880"
     ]
    },
    {
     "name": "stdout",
     "output_type": "stream",
     "text": [
      "Something went wrong: 438939\n"
     ]
    },
    {
     "name": "stderr",
     "output_type": "stream",
     "text": [
      "IllegalArgumentException: Invalid number of points in LinearRing found 3 - must be 0 or >= 4\n",
      "Shell is not a LinearRing\n"
     ]
    },
    {
     "name": "stdout",
     "output_type": "stream",
     "text": [
      "Something went wrong: 439287\n"
     ]
    },
    {
     "name": "stderr",
     "output_type": "stream",
     "text": [
      "[███████████████████████████   ] | ETA: 00:00:52 | Item ID: 439680IllegalArgumentException: Invalid number of points in LinearRing found 3 - must be 0 or >= 4\n",
      "Shell is not a LinearRing\n"
     ]
    },
    {
     "name": "stdout",
     "output_type": "stream",
     "text": [
      "Something went wrong: 439734\n"
     ]
    },
    {
     "name": "stderr",
     "output_type": "stream",
     "text": [
      "IllegalArgumentException: Invalid number of points in LinearRing found 3 - must be 0 or >= 4\n",
      "Shell is not a LinearRing\n"
     ]
    },
    {
     "name": "stdout",
     "output_type": "stream",
     "text": [
      "Something went wrong: 439956\n"
     ]
    },
    {
     "name": "stderr",
     "output_type": "stream",
     "text": [
      "IllegalArgumentException: Invalid number of points in LinearRing found 3 - must be 0 or >= 4\n",
      "Shell is not a LinearRing\n"
     ]
    },
    {
     "name": "stdout",
     "output_type": "stream",
     "text": [
      "Something went wrong: 440189\n"
     ]
    },
    {
     "name": "stderr",
     "output_type": "stream",
     "text": [
      "[███████████████████████████   ] | ETA: 00:00:50 | Item ID: 441167IllegalArgumentException: Invalid number of points in LinearRing found 3 - must be 0 or >= 4\n",
      "Shell is not a LinearRing\n",
      "IllegalArgumentException: Invalid number of points in LinearRing found 3 - must be 0 or >= 4\n",
      "Shell is not a LinearRing\n"
     ]
    },
    {
     "name": "stdout",
     "output_type": "stream",
     "text": [
      "Something went wrong: 441543\n",
      "Something went wrong: 441551\n",
      "Something went wrong: 441554\n"
     ]
    },
    {
     "name": "stderr",
     "output_type": "stream",
     "text": [
      "[███████████████████████████   ] | ETA: 00:00:47 | Item ID: 443514"
     ]
    },
    {
     "name": "stdout",
     "output_type": "stream",
     "text": [
      "Something went wrong: 444089\n"
     ]
    },
    {
     "name": "stderr",
     "output_type": "stream",
     "text": [
      "[███████████████████████████   ] | ETA: 00:00:46 | Item ID: 444278"
     ]
    },
    {
     "name": "stdout",
     "output_type": "stream",
     "text": [
      "Something went wrong: 444481\n"
     ]
    },
    {
     "name": "stderr",
     "output_type": "stream",
     "text": [
      "[███████████████████████████   ] | ETA: 00:00:44 | Item ID: 446454"
     ]
    },
    {
     "name": "stdout",
     "output_type": "stream",
     "text": [
      "Something went wrong: 446554\n"
     ]
    },
    {
     "name": "stderr",
     "output_type": "stream",
     "text": [
      "[███████████████████████████   ] | ETA: 00:00:42 | Item ID: 447940"
     ]
    },
    {
     "name": "stdout",
     "output_type": "stream",
     "text": [
      "Something went wrong: 448384\n"
     ]
    },
    {
     "name": "stderr",
     "output_type": "stream",
     "text": [
      "[████████████████████████████  ] | ETA: 00:00:39 | Item ID: 450077IllegalArgumentException: Invalid number of points in LinearRing found 3 - must be 0 or >= 4\n",
      "Shell is not a LinearRing\n"
     ]
    },
    {
     "name": "stdout",
     "output_type": "stream",
     "text": [
      "Something went wrong: 450281\n"
     ]
    },
    {
     "name": "stderr",
     "output_type": "stream",
     "text": [
      "[████████████████████████████  ] | ETA: 00:00:28 | Item ID: 459141IllegalArgumentException: Invalid number of points in LinearRing found 3 - must be 0 or >= 4\n",
      "Shell is not a LinearRing\n"
     ]
    },
    {
     "name": "stdout",
     "output_type": "stream",
     "text": [
      "Something went wrong: 459346\n",
      "Something went wrong: 459356\n",
      "Something went wrong: 459381\n"
     ]
    },
    {
     "name": "stderr",
     "output_type": "stream",
     "text": [
      "[████████████████████████████  ] | ETA: 00:00:21 | Item ID: 464778IllegalArgumentException: Invalid number of points in LinearRing found 3 - must be 0 or >= 4\n",
      "Shell is not a LinearRing\n"
     ]
    },
    {
     "name": "stdout",
     "output_type": "stream",
     "text": [
      "Something went wrong: 464909\n"
     ]
    },
    {
     "name": "stderr",
     "output_type": "stream",
     "text": [
      "[█████████████████████████████ ] | ETA: 00:00:18 | Item ID: 467140IllegalArgumentException: Invalid number of points in LinearRing found 3 - must be 0 or >= 4\n",
      "Shell is not a LinearRing\n",
      "[█████████████████████████████ ] | ETA: 00:00:17 | Item ID: 467903IllegalArgumentException: Invalid number of points in LinearRing found 3 - must be 0 or >= 4\n",
      "Shell is not a LinearRing\n"
     ]
    },
    {
     "name": "stdout",
     "output_type": "stream",
     "text": [
      "Something went wrong: 467821\n",
      "Something went wrong: 467831\n",
      "Something went wrong: 467847\n",
      "Something went wrong: 467848\n",
      "Something went wrong: 467861\n",
      "Something went wrong: 467871\n",
      "Something went wrong: 467885\n",
      "Something went wrong: 467919\n"
     ]
    },
    {
     "name": "stderr",
     "output_type": "stream",
     "text": [
      "IllegalArgumentException: Invalid number of points in LinearRing found 3 - must be 0 or >= 4\n",
      "Shell is not a LinearRing\n",
      "IllegalArgumentException: Invalid number of points in LinearRing found 3 - must be 0 or >= 4\n",
      "Shell is not a LinearRing\n",
      "IllegalArgumentException: Invalid number of points in LinearRing found 3 - must be 0 or >= 4\n",
      "Shell is not a LinearRing\n"
     ]
    },
    {
     "name": "stdout",
     "output_type": "stream",
     "text": [
      "Something went wrong: 468017\n",
      "Something went wrong: 468062\n",
      "Something went wrong: 468085\n",
      "Something went wrong: 468090\n",
      "Something went wrong: 468091\n",
      "Something went wrong: 468118\n",
      "Something went wrong: 468125\n"
     ]
    },
    {
     "name": "stderr",
     "output_type": "stream",
     "text": [
      "IllegalArgumentException: Invalid number of points in LinearRing found 3 - must be 0 or >= 4\n",
      "Shell is not a LinearRing\n",
      "IllegalArgumentException: Invalid number of points in LinearRing found 3 - must be 0 or >= 4\n",
      "Shell is not a LinearRing\n",
      "IllegalArgumentException: Invalid number of points in LinearRing found 3 - must be 0 or >= 4\n",
      "Shell is not a LinearRing\n"
     ]
    },
    {
     "name": "stdout",
     "output_type": "stream",
     "text": [
      "Something went wrong: 468175\n",
      "Something went wrong: 468192\n",
      "Something went wrong: 468195\n",
      "Something went wrong: 468199\n",
      "Something went wrong: 468231\n",
      "Something went wrong: 468249\n",
      "Something went wrong: 468253\n"
     ]
    },
    {
     "name": "stderr",
     "output_type": "stream",
     "text": [
      "[█████████████████████████████ ] | ETA: 00:00:16 | Item ID: 468692IllegalArgumentException: Invalid number of points in LinearRing found 3 - must be 0 or >= 4\n",
      "Shell is not a LinearRing\n",
      "IllegalArgumentException: Invalid number of points in LinearRing found 3 - must be 0 or >= 4\n",
      "Shell is not a LinearRing\n"
     ]
    },
    {
     "name": "stdout",
     "output_type": "stream",
     "text": [
      "Something went wrong: 468810\n",
      "Something went wrong: 468830\n",
      "Something went wrong: 468856\n",
      "Something went wrong: 468859\n"
     ]
    },
    {
     "name": "stderr",
     "output_type": "stream",
     "text": [
      "[█████████████████████████████ ] | ETA: 00:00:13 | Item ID: 471061IllegalArgumentException: Invalid number of points in LinearRing found 3 - must be 0 or >= 4\n",
      "Shell is not a LinearRing\n"
     ]
    },
    {
     "name": "stdout",
     "output_type": "stream",
     "text": [
      "Something went wrong: 471074\n"
     ]
    },
    {
     "name": "stderr",
     "output_type": "stream",
     "text": [
      "[█████████████████████████████ ] | ETA: 00:00:04 | Item ID: 477776"
     ]
    },
    {
     "name": "stdout",
     "output_type": "stream",
     "text": [
      "Something went wrong: 477802\n"
     ]
    },
    {
     "name": "stderr",
     "output_type": "stream",
     "text": [
      "[█████████████████████████████ ] | ETA: 00:00:03 | Item ID: 478495IllegalArgumentException: Invalid number of points in LinearRing found 3 - must be 0 or >= 4\n",
      "Shell is not a LinearRing\n"
     ]
    },
    {
     "name": "stdout",
     "output_type": "stream",
     "text": [
      "Something went wrong: 478675\n"
     ]
    },
    {
     "name": "stderr",
     "output_type": "stream",
     "text": [
      "[█████████████████████████████ ] | ETA: 00:00:02 | Item ID: 479280IllegalArgumentException: Invalid number of points in LinearRing found 3 - must be 0 or >= 4\n",
      "Shell is not a LinearRing\n"
     ]
    },
    {
     "name": "stdout",
     "output_type": "stream",
     "text": [
      "Something went wrong: 479508\n",
      "Something went wrong: 479509\n",
      "Something went wrong: 479570\n"
     ]
    },
    {
     "name": "stderr",
     "output_type": "stream",
     "text": [
      "[█████████████████████████████ ] | ETA: 00:00:01 | Item ID: 480080IllegalArgumentException: Invalid number of points in LinearRing found 3 - must be 0 or >= 4\n",
      "Shell is not a LinearRing\n"
     ]
    },
    {
     "name": "stdout",
     "output_type": "stream",
     "text": [
      "Something went wrong: 480211\n"
     ]
    },
    {
     "name": "stderr",
     "output_type": "stream",
     "text": [
      "[█████████████████████████████ ] | ETA: 00:00:00 | Item ID: 480867\n",
      "Total time elapsed: 00:10:09\n"
     ]
    }
   ],
   "source": [
    "cursor = ways_derived.find({\"geometry.type\": \"LineString\"})\n",
    "numLineStrings = cursor.count()\n",
    "bar = pyprind.ProgBar(numLineStrings, bar_char='█', update_interval=1)\n",
    "for i,way in enumerate(ways_derived.find({\"geometry.type\": \"LineString\"})):\n",
    "    bar.update(item_id = i)\n",
    "    npway = np.asarray(way[\"geometry\"][\"coordinates\"])\n",
    "    distances = [1000*haversine(npway[i][::-1], npway[i+1][::-1]) for i in range(npway.shape[0]-1)]\n",
    "    ways_derived.update_one({'_id': way[\"_id\"]}, {\"$set\": {\"properties_derived.length\": sum(distances)}}, upsert=False)\n",
    "\n",
    "cursor = ways_derived.find({\"geometry.type\": \"Polygon\"})\n",
    "numPolygons = cursor.count()\n",
    "bar = pyprind.ProgBar(numPolygons, bar_char='█', update_interval=1)\n",
    "for i,way in enumerate(ways_derived.find({\"geometry.type\": \"Polygon\"})):\n",
    "    bar.update(item_id = i)\n",
    "    npway = np.asarray(way[\"geometry\"][\"coordinates\"])\n",
    "    distances = [1000*haversine(npway[i][::-1], npway[i+1][::-1]) for i in range(npway.shape[0]-1)]\n",
    "    ways_derived.update_one({'_id': way[\"_id\"]}, {\"$set\": {\"properties_derived.length\": sum(distances)}}, upsert=False)\n",
    "    # Following area calculating code from: http://gis.stackexchange.com/questions/127607/area-in-km-from-polygon-of-coordinates\n",
    "    try: # IllegalArgumentException: Invalid number of points in LinearRing found 3 - must be 0 or >= 4\n",
    "        geom = Polygon(npway)\n",
    "        geom_area = ops.transform(\n",
    "            partial(\n",
    "                pyproj.transform,\n",
    "                pyproj.Proj(init='EPSG:4326'),\n",
    "                pyproj.Proj(\n",
    "                    proj='aea',\n",
    "                    lat1=geom.bounds[1],\n",
    "                    lat2=geom.bounds[3])),\n",
    "            geom)\n",
    "        # Export the area in m^2\n",
    "        ways_derived.update_one({'_id': way[\"_id\"]}, {\"$set\": {\"properties_derived.area\": geom_area.area}}, upsert=False)\n",
    "    except:\n",
    "        print(\"Something went wrong: \" + str(i))\n",
    "        pass"
   ]
  }
 ],
 "metadata": {
  "anaconda-cloud": {},
  "kernelspec": {
   "display_name": "Python [Root]",
   "language": "python",
   "name": "Python [Root]"
  },
  "language_info": {
   "codemirror_mode": {
    "name": "ipython",
    "version": 3
   },
   "file_extension": ".py",
   "mimetype": "text/x-python",
   "name": "python",
   "nbconvert_exporter": "python",
   "pygments_lexer": "ipython3",
   "version": "3.5.2"
  }
 },
 "nbformat": 4,
 "nbformat_minor": 0
}
