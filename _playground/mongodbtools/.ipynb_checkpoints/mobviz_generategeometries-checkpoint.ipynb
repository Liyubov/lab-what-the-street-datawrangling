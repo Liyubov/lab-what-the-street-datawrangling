{
 "cells": [
  {
   "cell_type": "code",
   "execution_count": null,
   "metadata": {
    "collapsed": true
   },
   "outputs": [],
   "source": [
    "%matplotlib inline"
   ]
  },
  {
   "cell_type": "markdown",
   "metadata": {},
   "source": [
    "# Extract data from mongoDB and generate geometries, write back\n",
    "\n",
    "Created on:  2016-10-27  \n",
    "Last update: 2016-12-07  \n",
    "Contact: michael.szell@moovel.com, michael.szell@gmail.com (Michael Szell)"
   ]
  },
  {
   "cell_type": "code",
   "execution_count": 24,
   "metadata": {
    "collapsed": true
   },
   "outputs": [],
   "source": [
    "cityname = \"berlin\"\n",
    "\n",
    "pathdatain = '/Users/szellmi/Google Drive/MOOVELLAB/00_Projects/mobviz/data/geo/'\n",
    "pathdataout = '/Users/szellmi/Google Drive/MOOVELLAB/00_Projects/mobviz/data/geo/derived/'"
   ]
  },
  {
   "cell_type": "code",
   "execution_count": 25,
   "metadata": {
    "collapsed": true
   },
   "outputs": [],
   "source": [
    "# preliminaries\n",
    "from __future__ import unicode_literals\n",
    "import sys\n",
    "import csv\n",
    "import os\n",
    "import math\n",
    "import pprint\n",
    "pp = pprint.PrettyPrinter(indent=4)\n",
    "import requests\n",
    "import gzip\n",
    "from collections import defaultdict\n",
    "import time\n",
    "import datetime\n",
    "import numpy as np\n",
    "from scipy import stats\n",
    "import pyprind\n",
    "import itertools\n",
    "import logging\n",
    "from ast import literal_eval as make_tuple\n",
    "from collections import OrderedDict\n",
    "from retrying import retry\n",
    "\n",
    "import json\n",
    "from shapely.geometry import mapping, shape, LineString, LinearRing, Polygon, MultiPolygon\n",
    "import shapely\n",
    "import shapely.ops as ops\n",
    "from functools import partial\n",
    "import pyproj\n",
    "from scipy import spatial\n",
    "from haversine import haversine\n",
    "\n",
    "import pymongo\n",
    "from pymongo import MongoClient\n",
    "\n",
    "# plotting stuff\n",
    "import matplotlib.pyplot as plt"
   ]
  },
  {
   "cell_type": "markdown",
   "metadata": {},
   "source": [
    "#### Next cell: mind the dbout.drop_collection('ways')!"
   ]
  },
  {
   "cell_type": "code",
   "execution_count": 26,
   "metadata": {
    "collapsed": false
   },
   "outputs": [],
   "source": [
    "# mongo connection\n",
    "client = MongoClient()\n",
    "db_raw = client[cityname+'_raw']\n",
    "nodes_raw = db_raw['nodes']\n",
    "cursor = nodes_raw.find({})\n",
    "numnodes = cursor.count()\n",
    "ways_raw = db_raw['ways']\n",
    "cursor = ways_raw.find({})\n",
    "numways = cursor.count()\n",
    "\n",
    "db_derived = client[cityname+'_derived']\n",
    "db_derived.drop_collection('ways')\n",
    "db_derived = client[cityname+'_derived']\n",
    "ways_derived = dbout['ways']"
   ]
  },
  {
   "cell_type": "code",
   "execution_count": 27,
   "metadata": {
    "collapsed": false
   },
   "outputs": [
    {
     "name": "stderr",
     "output_type": "stream",
     "text": [
      "0%                          100%\n",
      "[█████████████████████████████ ] | ETA: 00:00:01 | Item ID: 640273"
     ]
    },
    {
     "name": "stdout",
     "output_type": "stream",
     "text": [
      "Done. Nodes missing: 33738, out of 5193011\n"
     ]
    },
    {
     "name": "stderr",
     "output_type": "stream",
     "text": [
      "\n",
      "Total time elapsed: 00:24:27\n"
     ]
    }
   ],
   "source": [
    "bar = pyprind.ProgBar(numways, bar_char='█', update_interval=1)\n",
    "nodesinserted = 0\n",
    "nodestotal = 0\n",
    "for i,way in enumerate(ways_raw.find()):\n",
    "    bar.update(item_id = i)\n",
    "#     pp.pprint(way)\n",
    "    tempgeojson = {}\n",
    "    tempgeojson[\"_id\"] = way[\"_id\"]\n",
    "    try:\n",
    "        tempgeojson[\"properties\"] = way['tags']\n",
    "    except:\n",
    "        tempgeojson[\"properties\"] = {}\n",
    "    tempgeojson[\"type\"] = \"Feature\"\n",
    "    tempgeojson[\"geometry\"] = {\"type\":\"\", \"coordinates\":[]} \n",
    "    coords = []\n",
    "    for nodeid in way[\"nodes\"]:\n",
    "        nodestotal += 1\n",
    "        for n in nodes_raw.find({\"_id\": nodeid}):\n",
    "            nodesinserted += 1\n",
    "            coords.append([n[\"loc\"][\"coordinates\"][0], n[\"loc\"][\"coordinates\"][1]])\n",
    "    tempgeojson[\"geometry\"][\"coordinates\"] = coords\n",
    "    if way[\"nodes\"][0] == way[\"nodes\"][-1]:\n",
    "        tempgeojson[\"geometry\"][\"type\"] = \"Polygon\"\n",
    "    else:\n",
    "        tempgeojson[\"geometry\"][\"type\"] = \"LineString\"\n",
    "#     pp.pprint(tempgeojson)\n",
    "#     waysout.update_one({'_id':way[\"_id\"]}, tempgeojson, upsert=True)\n",
    "    ways_derived.insert_one(tempgeojson)\n",
    "    \n",
    "nodesmissing = nodestotal - nodesinserted\n",
    "print(\"Done. Nodes missing: \"+ str(nodesmissing) + \", out of \" + str(nodestotal))"
   ]
  },
  {
   "cell_type": "markdown",
   "metadata": {},
   "source": [
    "## Calculate lengths and areas of ways and save back to mongoDB"
   ]
  },
  {
   "cell_type": "code",
   "execution_count": 28,
   "metadata": {
    "collapsed": true
   },
   "outputs": [],
   "source": [
    "client = MongoClient()\n",
    "db_derived = client[cityname+'_derived']\n",
    "ways_derived = db_derived['ways']"
   ]
  },
  {
   "cell_type": "code",
   "execution_count": null,
   "metadata": {
    "collapsed": false
   },
   "outputs": [
    {
     "name": "stderr",
     "output_type": "stream",
     "text": [
      "0%                          100%\n",
      "[█████████████████████████████ ] | ETA: 00:00:00 | Item ID: 156623\n",
      "Total time elapsed: 00:00:57\n",
      "0%                          100%\n",
      "[                              ]IllegalArgumentException: Invalid number of points in LinearRing found 3 - must be 0 or >= 4\n",
      "Shell is not a LinearRing\n"
     ]
    },
    {
     "name": "stdout",
     "output_type": "stream",
     "text": [
      "Something went wrong: 360\n",
      "Something went wrong: 430\n"
     ]
    },
    {
     "name": "stderr",
     "output_type": "stream",
     "text": [
      "[                              ] | ETA: 00:11:17 | Item ID: 2123IllegalArgumentException: Invalid number of points in LinearRing found 3 - must be 0 or >= 4\n",
      "Shell is not a LinearRing\n"
     ]
    },
    {
     "name": "stdout",
     "output_type": "stream",
     "text": [
      "Something went wrong: 2412\n",
      "Something went wrong: 2413\n",
      "Something went wrong: 2414\n"
     ]
    },
    {
     "name": "stderr",
     "output_type": "stream",
     "text": [
      "IllegalArgumentException: Invalid number of points in LinearRing found 3 - must be 0 or >= 4\n",
      "Shell is not a LinearRing\n"
     ]
    },
    {
     "name": "stdout",
     "output_type": "stream",
     "text": [
      "Something went wrong: 2672\n"
     ]
    },
    {
     "name": "stderr",
     "output_type": "stream",
     "text": [
      "[                              ] | ETA: 00:11:01 | Item ID: 5755IllegalArgumentException: Invalid number of points in LinearRing found 3 - must be 0 or >= 4\n",
      "Shell is not a LinearRing\n"
     ]
    },
    {
     "name": "stdout",
     "output_type": "stream",
     "text": [
      "Something went wrong: 6048\n",
      "Something went wrong: 6050\n"
     ]
    },
    {
     "name": "stderr",
     "output_type": "stream",
     "text": [
      "[                              ] | ETA: 00:11:08 | Item ID: 6403"
     ]
    },
    {
     "name": "stdout",
     "output_type": "stream",
     "text": [
      "Something went wrong: 6865\n"
     ]
    },
    {
     "name": "stderr",
     "output_type": "stream",
     "text": [
      "[                              ] | ETA: 00:10:54 | Item ID: 8679"
     ]
    },
    {
     "name": "stdout",
     "output_type": "stream",
     "text": [
      "Something went wrong: 9142\n"
     ]
    },
    {
     "name": "stderr",
     "output_type": "stream",
     "text": [
      "[                              ] | ETA: 00:10:47 | Item ID: 10200"
     ]
    },
    {
     "name": "stdout",
     "output_type": "stream",
     "text": [
      "Something went wrong: 10144\n"
     ]
    },
    {
     "name": "stderr",
     "output_type": "stream",
     "text": [
      "[                              ] | ETA: 00:10:40 | Item ID: 13233"
     ]
    },
    {
     "name": "stdout",
     "output_type": "stream",
     "text": [
      "Something went wrong: 13556\n",
      "Something went wrong: 13669\n"
     ]
    },
    {
     "name": "stderr",
     "output_type": "stream",
     "text": [
      "IllegalArgumentException: Invalid number of points in LinearRing found 3 - must be 0 or >= 4\n",
      "Shell is not a LinearRing\n",
      "[                              ] | ETA: 00:10:38 | Item ID: 13979"
     ]
    },
    {
     "name": "stdout",
     "output_type": "stream",
     "text": [
      "Something went wrong: 13852\n",
      "Something went wrong: 13853\n"
     ]
    },
    {
     "name": "stderr",
     "output_type": "stream",
     "text": [
      "IllegalArgumentException: Invalid number of points in LinearRing found 3 - must be 0 or >= 4\n",
      "Shell is not a LinearRing\n"
     ]
    },
    {
     "name": "stdout",
     "output_type": "stream",
     "text": [
      "Something went wrong: 14546\n"
     ]
    },
    {
     "name": "stderr",
     "output_type": "stream",
     "text": [
      "[                              ] | ETA: 00:10:35 | Item ID: 14747"
     ]
    },
    {
     "name": "stdout",
     "output_type": "stream",
     "text": [
      "Something went wrong: 15050\n"
     ]
    },
    {
     "name": "stderr",
     "output_type": "stream",
     "text": [
      "[█                             ] | ETA: 00:10:32 | Item ID: 16239"
     ]
    },
    {
     "name": "stdout",
     "output_type": "stream",
     "text": [
      "Something went wrong: 16170\n",
      "Something went wrong: 16660\n"
     ]
    },
    {
     "name": "stderr",
     "output_type": "stream",
     "text": [
      "[█                             ] | ETA: 00:10:11 | Item ID: 24727"
     ]
    },
    {
     "name": "stdout",
     "output_type": "stream",
     "text": [
      "Something went wrong: 24575\n",
      "Something went wrong: 25019\n"
     ]
    },
    {
     "name": "stderr",
     "output_type": "stream",
     "text": [
      "IllegalArgumentException: Invalid number of points in LinearRing found 3 - must be 0 or >= 4\n",
      "Shell is not a LinearRing\n",
      "IllegalArgumentException: Invalid number of points in LinearRing found 3 - must be 0 or >= 4\n",
      "Shell is not a LinearRing\n"
     ]
    },
    {
     "name": "stdout",
     "output_type": "stream",
     "text": [
      "Something went wrong: 25199\n",
      "Something went wrong: 25200\n",
      "Something went wrong: 25201\n"
     ]
    },
    {
     "name": "stderr",
     "output_type": "stream",
     "text": [
      "[█                             ] | ETA: 00:10:00 | Item ID: 30872"
     ]
    },
    {
     "name": "stdout",
     "output_type": "stream",
     "text": [
      "Something went wrong: 30889\n"
     ]
    },
    {
     "name": "stderr",
     "output_type": "stream",
     "text": [
      "[██                            ] | ETA: 00:09:43 | Item ID: 40156IllegalArgumentException: Invalid number of points in LinearRing found 3 - must be 0 or >= 4\n",
      "Shell is not a LinearRing\n"
     ]
    },
    {
     "name": "stdout",
     "output_type": "stream",
     "text": [
      "Something went wrong: 40492\n",
      "Something went wrong: 40570\n",
      "Something went wrong: 40578\n",
      "Something went wrong: 40579\n"
     ]
    },
    {
     "name": "stderr",
     "output_type": "stream",
     "text": [
      "[██                            ] | ETA: 00:09:42 | Item ID: 40959"
     ]
    },
    {
     "name": "stdout",
     "output_type": "stream",
     "text": [
      "Something went wrong: 41049\n"
     ]
    },
    {
     "name": "stderr",
     "output_type": "stream",
     "text": [
      "[██                            ] | ETA: 00:09:34 | Item ID: 44213"
     ]
    },
    {
     "name": "stdout",
     "output_type": "stream",
     "text": [
      "Something went wrong: 44493\n",
      "Something went wrong: 44512\n",
      "Something went wrong: 44517\n",
      "Something went wrong: 44526\n",
      "Something went wrong: 44540\n",
      "Something went wrong: 44546\n",
      "Something went wrong: 44554\n",
      "Something went wrong: 44564\n",
      "Something went wrong: 44569\n"
     ]
    },
    {
     "name": "stderr",
     "output_type": "stream",
     "text": [
      "[██                            ] | ETA: 00:09:33 | Item ID: 44993"
     ]
    },
    {
     "name": "stdout",
     "output_type": "stream",
     "text": [
      "Something went wrong: 45466\n",
      "Something went wrong: 45588\n"
     ]
    },
    {
     "name": "stderr",
     "output_type": "stream",
     "text": [
      "[██                            ] | ETA: 00:09:30 | Item ID: 46614"
     ]
    },
    {
     "name": "stdout",
     "output_type": "stream",
     "text": [
      "Something went wrong: 47019\n",
      "Something went wrong: 47024\n"
     ]
    },
    {
     "name": "stderr",
     "output_type": "stream",
     "text": [
      "[███                           ] | ETA: 00:09:27 | Item ID: 48204IllegalArgumentException: Invalid number of points in LinearRing found 3 - must be 0 or >= 4\n",
      "Shell is not a LinearRing\n",
      "IllegalArgumentException: Invalid number of points in LinearRing found 3 - must be 0 or >= 4\n",
      "Shell is not a LinearRing\n",
      "IllegalArgumentException: Invalid number of points in LinearRing found 3 - must be 0 or >= 4\n",
      "Shell is not a LinearRing\n",
      "IllegalArgumentException: Invalid number of points in LinearRing found 3 - must be 0 or >= 4\n",
      "Shell is not a LinearRing\n",
      "IllegalArgumentException: Invalid number of points in LinearRing found 3 - must be 0 or >= 4\n",
      "Shell is not a LinearRing\n"
     ]
    },
    {
     "name": "stdout",
     "output_type": "stream",
     "text": [
      "Something went wrong: 48263\n",
      "Something went wrong: 48264\n",
      "Something went wrong: 48283\n",
      "Something went wrong: 48284\n",
      "Something went wrong: 48319\n",
      "Something went wrong: 48320\n"
     ]
    },
    {
     "name": "stderr",
     "output_type": "stream",
     "text": [
      "[███                           ] | ETA: 00:09:26 | Item ID: 49656"
     ]
    },
    {
     "name": "stdout",
     "output_type": "stream",
     "text": [
      "Something went wrong: 49608\n",
      "Something went wrong: 49609\n",
      "Something went wrong: 49643\n"
     ]
    },
    {
     "name": "stderr",
     "output_type": "stream",
     "text": [
      "[███                           ] | ETA: 00:09:25 | Item ID: 50453"
     ]
    },
    {
     "name": "stdout",
     "output_type": "stream",
     "text": [
      "Something went wrong: 50649\n"
     ]
    },
    {
     "name": "stderr",
     "output_type": "stream",
     "text": [
      "[███                           ] | ETA: 00:09:23 | Item ID: 51981"
     ]
    },
    {
     "name": "stdout",
     "output_type": "stream",
     "text": [
      "Something went wrong: 52384\n"
     ]
    },
    {
     "name": "stderr",
     "output_type": "stream",
     "text": [
      "[███                           ] | ETA: 00:09:21 | Item ID: 53509"
     ]
    },
    {
     "name": "stdout",
     "output_type": "stream",
     "text": [
      "Something went wrong: 54033\n"
     ]
    },
    {
     "name": "stderr",
     "output_type": "stream",
     "text": [
      "[███                           ] | ETA: 00:09:17 | Item ID: 56538"
     ]
    },
    {
     "name": "stdout",
     "output_type": "stream",
     "text": [
      "Something went wrong: 56567\n"
     ]
    },
    {
     "name": "stderr",
     "output_type": "stream",
     "text": [
      "[███                           ] | ETA: 00:09:16 | Item ID: 58001IllegalArgumentException: Invalid number of points in LinearRing found 3 - must be 0 or >= 4\n",
      "Shell is not a LinearRing\n",
      "[███                           ] | ETA: 00:09:15 | Item ID: 58718"
     ]
    },
    {
     "name": "stdout",
     "output_type": "stream",
     "text": [
      "Something went wrong: 58626\n",
      "Something went wrong: 58629\n"
     ]
    },
    {
     "name": "stderr",
     "output_type": "stream",
     "text": [
      "[███                           ] | ETA: 00:09:14 | Item ID: 59476"
     ]
    },
    {
     "name": "stdout",
     "output_type": "stream",
     "text": [
      "Something went wrong: 59903\n"
     ]
    },
    {
     "name": "stderr",
     "output_type": "stream",
     "text": [
      "[███                           ] | ETA: 00:09:13 | Item ID: 60294IllegalArgumentException: Invalid number of points in LinearRing found 3 - must be 0 or >= 4\n",
      "Shell is not a LinearRing\n"
     ]
    },
    {
     "name": "stdout",
     "output_type": "stream",
     "text": [
      "Something went wrong: 60457\n",
      "Something went wrong: 60480\n",
      "Something went wrong: 60495\n",
      "Something went wrong: 60519\n",
      "Something went wrong: 60523\n",
      "Something went wrong: 60545\n"
     ]
    },
    {
     "name": "stderr",
     "output_type": "stream",
     "text": [
      "[███                           ] | ETA: 00:09:11 | Item ID: 61071"
     ]
    },
    {
     "name": "stdout",
     "output_type": "stream",
     "text": [
      "Something went wrong: 61293\n"
     ]
    },
    {
     "name": "stderr",
     "output_type": "stream",
     "text": [
      "[████                          ] | ETA: 00:09:05 | Item ID: 65652"
     ]
    },
    {
     "name": "stdout",
     "output_type": "stream",
     "text": [
      "Something went wrong: 66184\n"
     ]
    },
    {
     "name": "stderr",
     "output_type": "stream",
     "text": [
      "[████                          ] | ETA: 00:09:04 | Item ID: 66443"
     ]
    },
    {
     "name": "stdout",
     "output_type": "stream",
     "text": [
      "Something went wrong: 66498\n",
      "Something went wrong: 66743\n"
     ]
    },
    {
     "name": "stderr",
     "output_type": "stream",
     "text": [
      "[████                          ] | ETA: 00:08:57 | Item ID: 70479"
     ]
    },
    {
     "name": "stdout",
     "output_type": "stream",
     "text": [
      "Something went wrong: 70456\n",
      "Something went wrong: 70464\n"
     ]
    },
    {
     "name": "stderr",
     "output_type": "stream",
     "text": [
      "[████                          ] | ETA: 00:08:56 | Item ID: 71278"
     ]
    },
    {
     "name": "stdout",
     "output_type": "stream",
     "text": [
      "Something went wrong: 71481\n"
     ]
    },
    {
     "name": "stderr",
     "output_type": "stream",
     "text": [
      "[████                          ] | ETA: 00:08:52 | Item ID: 74359"
     ]
    }
   ],
   "source": [
    "cursor = ways_derived.find({\"geometry.type\": \"LineString\"})\n",
    "numLineStrings = cursor.count()\n",
    "bar = pyprind.ProgBar(numLineStrings, bar_char='█', update_interval=1)\n",
    "for i,way in enumerate(ways_derived.find({\"geometry.type\": \"LineString\"})):\n",
    "    bar.update(item_id = i)\n",
    "    npway = np.asarray(way[\"geometry\"][\"coordinates\"])\n",
    "    distances = [1000*haversine(npway[i][::-1], npway[i+1][::-1]) for i in range(npway.shape[0]-1)]\n",
    "    ways_derived.update_one({'_id': way[\"_id\"]}, {\"$set\": {\"properties_derived.length\": sum(distances)}}, upsert=False)\n",
    "\n",
    "cursor = ways_derived.find({\"geometry.type\": \"Polygon\"})\n",
    "numPolygons = cursor.count()\n",
    "bar = pyprind.ProgBar(numPolygons, bar_char='█', update_interval=1)\n",
    "for i,way in enumerate(ways_derived.find({\"geometry.type\": \"Polygon\"})):\n",
    "    bar.update(item_id = i)\n",
    "    npway = np.asarray(way[\"geometry\"][\"coordinates\"])\n",
    "    distances = [1000*haversine(npway[i][::-1], npway[i+1][::-1]) for i in range(npway.shape[0]-1)]\n",
    "    ways_derived.update_one({'_id': way[\"_id\"]}, {\"$set\": {\"properties_derived.length\": sum(distances)}}, upsert=False)\n",
    "    # Following area calculating code from: http://gis.stackexchange.com/questions/127607/area-in-km-from-polygon-of-coordinates\n",
    "    try: # IllegalArgumentException: Invalid number of points in LinearRing found 3 - must be 0 or >= 4\n",
    "        geom = Polygon(npway)\n",
    "        geom_area = ops.transform(\n",
    "            partial(\n",
    "                pyproj.transform,\n",
    "                pyproj.Proj(init='EPSG:4326'),\n",
    "                pyproj.Proj(\n",
    "                    proj='aea',\n",
    "                    lat1=geom.bounds[1],\n",
    "                    lat2=geom.bounds[3])),\n",
    "            geom)\n",
    "        # Export the area in m^2\n",
    "        ways_derived.update_one({'_id': way[\"_id\"]}, {\"$set\": {\"properties_derived.area\": geom_area.area}}, upsert=False)\n",
    "    except:\n",
    "        print(\"Something went wrong: \" + str(i))\n",
    "        pass"
   ]
  }
 ],
 "metadata": {
  "anaconda-cloud": {},
  "kernelspec": {
   "display_name": "Python [Root]",
   "language": "python",
   "name": "Python [Root]"
  },
  "language_info": {
   "codemirror_mode": {
    "name": "ipython",
    "version": 3
   },
   "file_extension": ".py",
   "mimetype": "text/x-python",
   "name": "python",
   "nbconvert_exporter": "python",
   "pygments_lexer": "ipython3",
   "version": "3.5.2"
  }
 },
 "nbformat": 4,
 "nbformat_minor": 0
}
