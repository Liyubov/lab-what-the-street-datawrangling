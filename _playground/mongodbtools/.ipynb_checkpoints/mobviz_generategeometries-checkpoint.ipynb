{
 "cells": [
  {
   "cell_type": "code",
   "execution_count": null,
   "metadata": {
    "collapsed": true
   },
   "outputs": [],
   "source": [
    "%matplotlib inline"
   ]
  },
  {
   "cell_type": "markdown",
   "metadata": {},
   "source": [
    "# Extract data from mongoDB and generate geometries, write back\n",
    "\n",
    "Created on:  2016-10-27  \n",
    "Last update: 2016-11-11  \n",
    "Contact: michael.szell@moovel.com, michael.szell@gmail.com (Michael Szell)"
   ]
  },
  {
   "cell_type": "code",
   "execution_count": null,
   "metadata": {
    "collapsed": true
   },
   "outputs": [],
   "source": [
    "# preliminaries\n",
    "from __future__ import unicode_literals\n",
    "import sys\n",
    "import csv\n",
    "import os\n",
    "import math\n",
    "import pprint\n",
    "import requests\n",
    "import gzip\n",
    "from collections import defaultdict\n",
    "import time\n",
    "import datetime\n",
    "import numpy as np\n",
    "from scipy import stats\n",
    "import pyprind\n",
    "import itertools\n",
    "import logging\n",
    "from ast import literal_eval as make_tuple\n",
    "from collections import OrderedDict\n",
    "from retrying import retry\n",
    "\n",
    "import json\n",
    "from shapely.geometry import mapping, shape, LineString, LinearRing, Polygon, MultiPolygon\n",
    "import shapely\n",
    "import shapely.ops as ops\n",
    "from functools import partial\n",
    "import pyproj\n",
    "from scipy import spatial\n",
    "from haversine import haversine\n",
    "import overpass\n",
    "apiop = overpass.API(timeout=600)\n",
    "\n",
    "import pymongo\n",
    "from pymongo import MongoClient\n",
    "\n",
    "# plotting stuff\n",
    "import matplotlib.pyplot as plt\n",
    "# import mpld3\n",
    "# mpld3.enable_notebook() # unfortunately, this is too buggy: https://github.com/mpld3/mpld3/issues/193\n",
    "# mpld3.disable_notebook()\n",
    "\n",
    "pathdatain = '/Users/szellmi/Google Drive/MOOVELLAB/00_Projects/mobviz/data/geo/'\n",
    "pathdataout = '/Users/szellmi/Google Drive/MOOVELLAB/00_Projects/mobviz/data/geo/derived/'\n",
    "pathdataoutfinal = '/Users/szellmi/Google Drive/MOOVELLAB/00_Projects/mobviz/scripts/mobviz/d3unroll/'\n",
    "curtime = time.strftime(\"%Y%m%d_%H%M%S\")\n",
    "logging.basicConfig(filename=pathdataout+'mobviz_streetalgorithm'+curtime+'.log',level=logging.DEBUG)\n",
    "pp = pprint.PrettyPrinter(indent=4)\n",
    "\n",
    "# City parameters (generalize later)\n",
    "cityname = \"vienna\"\n",
    "bbox = \"52.33812, 13.0884, 52.675499, 13.76134\" \n",
    "# berlin: 52.33812, 13.0884, 52.675499, 13.76134\n",
    "# newyork: 40.496044, -74.255735, 40.915256, -73.700272\n",
    "# stuttgart: 48.46, 8.79, 48.93, 9.50\n",
    "# amsterdam: 52.3216, 4.7685, 52.4251, 5.0173"
   ]
  },
  {
   "cell_type": "code",
   "execution_count": null,
   "metadata": {
    "collapsed": false
   },
   "outputs": [],
   "source": [
    "# mongo connection\n",
    "client = MongoClient()\n",
    "dbin = client[cityname+'_raw']\n",
    "nodesin = dbin['nodes']\n",
    "cursor = nodesin.find({})\n",
    "numnodes = cursor.count()\n",
    "waysin = dbin['ways']\n",
    "cursor = waysin.find({})\n",
    "numways = cursor.count()\n",
    "\n",
    "dbout = client[cityname+'_derived']\n",
    "dbout.drop_collection('ways')\n",
    "dbout = client[cityname+'_derived']\n",
    "waysout = dbout['ways']"
   ]
  },
  {
   "cell_type": "code",
   "execution_count": null,
   "metadata": {
    "collapsed": false
   },
   "outputs": [],
   "source": [
    "bar = pyprind.ProgBar(numways, bar_char='█', update_interval=1)\n",
    "for i,way in enumerate(waysin.find({})):\n",
    "    bar.update(item_id = i)\n",
    "#     pp.pprint(way)\n",
    "    tempgeojson = {}\n",
    "    tempgeojson[\"_id\"] = way[\"_id\"]\n",
    "    try:\n",
    "        tempgeojson[\"properties\"] = way['tags']\n",
    "    except:\n",
    "        tempgeojson[\"properties\"] = {}\n",
    "    tempgeojson[\"type\"] = \"Feature\"\n",
    "    tempgeojson[\"geometry\"] = {\"type\":\"\", \"coordinates\":[]} \n",
    "    coords = []\n",
    "    for nodeid in way[\"loc\"][\"nodes\"]:\n",
    "        for n in nodesin.find({\"_id\": nodeid}):\n",
    "            coords.append([n[\"loc\"][\"coordinates\"][0], n[\"loc\"][\"coordinates\"][1]])\n",
    "    tempgeojson[\"geometry\"][\"coordinates\"] = coords\n",
    "    if way[\"loc\"][\"nodes\"][0] == way[\"loc\"][\"nodes\"][-1]:\n",
    "        tempgeojson[\"geometry\"][\"type\"] = \"Polygon\"\n",
    "    else:\n",
    "        tempgeojson[\"geometry\"][\"type\"] = \"LineString\"\n",
    "#     pp.pprint(tempgeojson)\n",
    "#     waysout.update_one({'_id':way[\"_id\"]}, tempgeojson, upsert=True)\n",
    "    waysout.insert_one(tempgeojson)"
   ]
  },
  {
   "cell_type": "markdown",
   "metadata": {},
   "source": [
    "## Calculate lengths and areas of ways and save back to mongoDB"
   ]
  },
  {
   "cell_type": "code",
   "execution_count": null,
   "metadata": {
    "collapsed": true
   },
   "outputs": [],
   "source": [
    "client = MongoClient()\n",
    "db = client[cityname+'_derived']\n",
    "ways = db['ways']"
   ]
  },
  {
   "cell_type": "code",
   "execution_count": null,
   "metadata": {
    "collapsed": false
   },
   "outputs": [],
   "source": [
    "cursor = ways.find({\"geometry.type\": \"LineString\"})\n",
    "numLineStrings = cursor.count()\n",
    "bar = pyprind.ProgBar(numLineStrings, bar_char='█', update_interval=1)\n",
    "for i,way in enumerate(ways.find({\"geometry.type\": \"LineString\"})):\n",
    "    bar.update(item_id = i)\n",
    "    npway = np.asarray(way[\"geometry\"][\"coordinates\"])\n",
    "    distances = [1000*haversine(npway[i][::-1], npway[i+1][::-1]) for i in range(npway.shape[0]-1)]\n",
    "    ways.update_one({'_id': way[\"_id\"]}, {\"$set\": {\"properties_derived.length\": sum(distances)}}, upsert=False)\n",
    "\n",
    "cursor = ways.find({\"geometry.type\": \"Polygon\"})\n",
    "numPolygons = cursor.count()\n",
    "bar = pyprind.ProgBar(numPolygons, bar_char='█', update_interval=1)\n",
    "for i,way in enumerate(ways.find({\"geometry.type\": \"Polygon\"})):\n",
    "    bar.update(item_id = i)\n",
    "    npway = np.asarray(way[\"geometry\"][\"coordinates\"])\n",
    "    distances = [1000*haversine(npway[i][::-1], npway[i+1][::-1]) for i in range(npway.shape[0]-1)]\n",
    "    ways.update_one({'_id': way[\"_id\"]}, {\"$set\": {\"properties_derived.length\": sum(distances)}}, upsert=False)\n",
    "    # Following area calculating code from: http://gis.stackexchange.com/questions/127607/area-in-km-from-polygon-of-coordinates\n",
    "    try: # IllegalArgumentException: Invalid number of points in LinearRing found 3 - must be 0 or >= 4\n",
    "        geom = Polygon(npway)\n",
    "        geom_area = ops.transform(\n",
    "            partial(\n",
    "                pyproj.transform,\n",
    "                pyproj.Proj(init='EPSG:4326'),\n",
    "                pyproj.Proj(\n",
    "                    proj='aea',\n",
    "                    lat1=geom.bounds[1],\n",
    "                    lat2=geom.bounds[3])),\n",
    "            geom)\n",
    "        # Export the area in m^2\n",
    "        ways.update_one({'_id': way[\"_id\"]}, {\"$set\": {\"properties_derived.area\": geom_area.area}}, upsert=False)\n",
    "    except:\n",
    "        print(\"Something went wrong: \" + str(i))\n",
    "        pass"
   ]
  }
 ],
 "metadata": {
  "anaconda-cloud": {},
  "kernelspec": {
   "display_name": "Python [Root]",
   "language": "python",
   "name": "Python [Root]"
  },
  "language_info": {
   "codemirror_mode": {
    "name": "ipython",
    "version": 3
   },
   "file_extension": ".py",
   "mimetype": "text/x-python",
   "name": "python",
   "nbconvert_exporter": "python",
   "pygments_lexer": "ipython3",
   "version": "3.5.2"
  }
 },
 "nbformat": 4,
 "nbformat_minor": 0
}
