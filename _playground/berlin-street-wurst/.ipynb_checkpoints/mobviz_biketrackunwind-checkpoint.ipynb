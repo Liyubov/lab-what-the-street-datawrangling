{
 "cells": [
  {
   "cell_type": "code",
   "execution_count": null,
   "metadata": {
    "collapsed": true
   },
   "outputs": [],
   "source": [
    "%matplotlib inline"
   ]
  },
  {
   "cell_type": "markdown",
   "metadata": {},
   "source": [
    "# Create bike track table from ways, with unwind order and lengths 🚲 🚲 🚲\n",
    "\n",
    "This notebook assembles a table of bike tracks from already derived ways, determining track components and paths (unwind order) and track lengths.  \n",
    "\n",
    "Created on:  2016-12-07  \n",
    "Last update: 2016-12-07  \n",
    "Contact: michael.szell@moovel.com, michael.szell@gmail.com (Michael Szell)"
   ]
  },
  {
   "cell_type": "code",
   "execution_count": null,
   "metadata": {
    "collapsed": true
   },
   "outputs": [],
   "source": [
    "cityname = \"berlin\"\n",
    "\n",
    "pathdatain = '/Users/szellmi/Documents/lab-mobviz/_playground/berlin-street-wurst/'\n",
    "pathdataout = '/Users/szellmi/Documents/lab-mobviz/_playground/berlin-street-wurst/'"
   ]
  },
  {
   "cell_type": "code",
   "execution_count": null,
   "metadata": {
    "collapsed": false
   },
   "outputs": [],
   "source": [
    "# preliminaries\n",
    "from __future__ import unicode_literals\n",
    "import sys\n",
    "import csv\n",
    "import os\n",
    "import math\n",
    "import pprint\n",
    "pp = pprint.PrettyPrinter(indent=4)\n",
    "import requests\n",
    "import gzip\n",
    "from collections import defaultdict\n",
    "import time\n",
    "import datetime\n",
    "import numpy as np\n",
    "from scipy import stats\n",
    "import pyprind\n",
    "import itertools\n",
    "import logging\n",
    "from ast import literal_eval as make_tuple\n",
    "from collections import OrderedDict\n",
    "from retrying import retry\n",
    "\n",
    "import osmnx as ox\n",
    "import networkx as nx\n",
    "import json\n",
    "from shapely.geometry import mapping, shape, LineString, LinearRing, Polygon, MultiPolygon\n",
    "import shapely\n",
    "import shapely.ops as ops\n",
    "from functools import partial\n",
    "import pyproj\n",
    "from scipy import spatial\n",
    "from haversine import haversine\n",
    "\n",
    "import pymongo\n",
    "from pymongo import MongoClient\n",
    "\n",
    "# plotting stuff\n",
    "import matplotlib.pyplot as plt"
   ]
  },
  {
   "cell_type": "code",
   "execution_count": null,
   "metadata": {
    "collapsed": true
   },
   "outputs": [],
   "source": [
    "client = MongoClient()\n",
    "db_raw = client[cityname+'_raw']\n",
    "ways_raw = db_raw['ways']\n",
    "nodes_raw = db_raw['nodes']\n",
    "db_derived = client[cityname+'_derived']\n",
    "biketracks = db_derived['biketracks']\n",
    "ways_derived = db_derived['ways']"
   ]
  },
  {
   "cell_type": "code",
   "execution_count": 15,
   "metadata": {
    "collapsed": false
   },
   "outputs": [],
   "source": [
    "def file_len(fname): # http://stackoverflow.com/questions/845058/how-to-get-line-count-cheaply-in-python\n",
    "    with open(fname) as f:\n",
    "        for i, l in enumerate(f):\n",
    "            pass\n",
    "    return i + 1\n",
    "\n",
    "def assembleBikeTrack(ways_raw, ways_derived, nodes_raw, wayid, drawit = False, debug = False):\n",
    "    oxelements = []\n",
    "    elemnodesint = set()\n",
    "    elemnodesint_real = set()\n",
    "    elemways = []\n",
    "    elemnodes = []\n",
    "    nodesdict = {}\n",
    "    \n",
    "    for i,way in enumerate(ways_raw.find({\"_id\": wayid})):\n",
    "        for n in way[\"nodes\"]:\n",
    "            elemnodesint.add(int(n))\n",
    "\n",
    "    for n in elemnodesint:\n",
    "        for nd in nodes_raw.find({\"_id\": n}):\n",
    "            elemnodesint_real.add(int(nd[\"_id\"]))\n",
    "            elemnodes.append({\"id\": int(nd[\"_id\"]), \"lat\": nd[\"loc\"][\"coordinates\"][1], \"lon\": nd[\"loc\"][\"coordinates\"][0], \"type\": \"node\"})\n",
    "            nodesdict[str(int(nd[\"_id\"]))] = {\"lat\": nd[\"loc\"][\"coordinates\"][1], \"lon\": nd[\"loc\"][\"coordinates\"][0]}\n",
    "\n",
    "    biketracklength = 0\n",
    "    for i,way in enumerate(ways_raw.find({\"_id\": wayid})):\n",
    "        wayinfo = ways_derived.find_one({\"_id\":int(way[\"_id\"])})\n",
    "        waylength = wayinfo[\"properties_derived\"][\"length\"]\n",
    "        biketracklength += waylength\n",
    "        elemways.append({\"id\": int(way[\"_id\"]), \"nodes\":[int(way[\"nodes\"][k]) for k in range(len(way[\"nodes\"])) if int(way[\"nodes\"][k]) in elemnodesint_real], \"tags\": way[\"tags\"], \"type\": \"way\"})\n",
    "\n",
    "    oxelements = [{\"elements\": elemnodes + elemways}]\n",
    "    if debug:\n",
    "        # Check if nodes are missing\n",
    "        if len(elemnodesint_real) < len(elemnodesint):\n",
    "            print(str(len(elemnodesint)-len(elemnodesint_real)) + \" nodes are missing.\")\n",
    "        print(\"oxelements:\")\n",
    "        pp.pprint(oxelements)\n",
    "        \n",
    "    G = ox.create_graph(oxelements, retain_all=True)\n",
    "    if drawit:\n",
    "        fig, ax = ox.plot_graph(G)\n",
    "    G = nx.Graph(G)\n",
    "    G = G.to_undirected()\n",
    "    ccs = list(nx.connected_component_subgraphs(G))\n",
    "\n",
    "    components = []\n",
    "    for c in range(len(ccs)):\n",
    "        deglist = np.array(list((ccs[c].degree_iter())))\n",
    "        endptindices = np.where(deglist[:, 1] == 1)\n",
    "        # Look which of the endpoints lies most western, take that as the source for DFS traversal\n",
    "        west = float('inf')\n",
    "        source = deglist[0, 0]\n",
    "        for i in list(endptindices[0]):\n",
    "            westthis = nodesdict[str(deglist[i, 0])][\"lon\"]\n",
    "            if westthis < west:\n",
    "                source = deglist[i, 0]\n",
    "                west = westthis\n",
    "\n",
    "        component = []\n",
    "        dfsedges = list(nx.dfs_edges(ccs[c], source))\n",
    "        nend = dfsedges[0][0]\n",
    "        path = [str(nend)]\n",
    "        for e in dfsedges:\n",
    "            if e[0] == nend: # path grows\n",
    "                path.append(str(e[1]))\n",
    "            else: # new path\n",
    "                component.append(path)\n",
    "                path = [str(e[0]), str(e[1])]\n",
    "            nend = e[1]    \n",
    "        component.append(path) # last path\n",
    "        components.append(component)\n",
    "    \n",
    "    if \"name\" in way[\"tags\"]:\n",
    "        biketrackname = way[\"tags\"][\"name\"][\"name\"]\n",
    "    else:\n",
    "        biketrackname = \"\"\n",
    "    \n",
    "    if \"width\" in way[\"tags\"]:\n",
    "        biketrackwidth = int(way[\"tags\"][\"width\"][\"width\"])\n",
    "    else:\n",
    "        biketrackwidth = 0\n",
    "    \n",
    "    output = {\"tags\":{\"name\":biketrackname, \"length\": biketracklength, \"width\": biketrackwidth}, \"components\":components, \"nodes\":nodesdict}\n",
    "    return output"
   ]
  },
  {
   "cell_type": "markdown",
   "metadata": {},
   "source": [
    "#### Next cell: mind the biketracks.drop()!"
   ]
  },
  {
   "cell_type": "code",
   "execution_count": null,
   "metadata": {
    "collapsed": false
   },
   "outputs": [],
   "source": [
    "biketracks.drop()  \n",
    "biketracks_error = []\n",
    "for i,way in enumerate(ways_raw.find({\"$or\": [{\"tags.highway.highway\":\"cycleway\"},{\"tags.bicycle.bicycle\":\"designated\"}, {\"tags.cycleway.cycleway\":\"track\"}]})):\n",
    "    try:\n",
    "        res = assembleBikeTrack(ways_raw, ways_derived, nodes_raw, way[\"_id\"])\n",
    "        res[\"_id\"] = i+1\n",
    "        biketracks.update_one({\"_id\":res[\"_id\"]}, {\"$set\":res}, upsert=True)\n",
    "    except:\n",
    "        #print(biketrackname + \" could not be inserted.\")\n",
    "        biketracks_error.append(way[\"_id\"])\n",
    "        #sys.exit()\n",
    "    \n",
    "with open(pathdatain + cityname +\"_biketrackserror.txt\", \"w\") as f: \n",
    "    for s in biketracks_error:\n",
    "        f.write(\"%s\\n\" % s)"
   ]
  },
  {
   "cell_type": "code",
   "execution_count": 16,
   "metadata": {
    "collapsed": false
   },
   "outputs": [
    {
     "data": {
      "image/png": "[encoded data removed]",
      "text/plain": [
       "<matplotlib.figure.Figure at 0x1235ec470>"
      ]
     },
     "metadata": {},
     "output_type": "display_data"
    },
    {
     "name": "stdout",
     "output_type": "stream",
     "text": [
      "{   'components': [   [   [   '663346369',\n",
      "                              '268449878',\n",
      "                              '268449879',\n",
      "                              '268618338',\n",
      "                              '442678086',\n",
      "                              '268449881',\n",
      "                              '442678088',\n",
      "                              '268449882',\n",
      "                              '268821492',\n",
      "                              '268618339',\n",
      "                              '268449884',\n",
      "                              '442678091',\n",
      "                              '268449885',\n",
      "                              '268449886',\n",
      "                              '268449887',\n",
      "                              '442678094',\n",
      "                              '691537727',\n",
      "                              '268449888',\n",
      "                              '4182739785',\n",
      "                              '442678096',\n",
      "                              '268449889',\n",
      "                              '268449890',\n",
      "                              '268449891',\n",
      "                              '442678099',\n",
      "                              '268449872',\n",
      "                              '531265628',\n",
      "                              '268449874',\n",
      "                              '442678074',\n",
      "                              '539477764',\n",
      "                              '268449875',\n",
      "                              '442678081',\n",
      "                              '268449876',\n",
      "                              '268449877',\n",
      "                              '277811783']]],\n",
      "    'nodes': {   '268449872': {'lat': 52.4698148, 'lon': 13.5250817},\n",
      "                 '268449874': {'lat': 52.469029, 'lon': 13.5260363},\n",
      "                 '268449875': {'lat': 52.4687944, 'lon': 13.5261247},\n",
      "                 '268449876': {'lat': 52.4685434, 'lon': 13.5260132},\n",
      "                 '268449877': {'lat': 52.4684315, 'lon': 13.5258951},\n",
      "                 '268449878': {'lat': 52.4682074, 'lon': 13.5255077},\n",
      "                 '268449879': {'lat': 52.4681617, 'lon': 13.5253093},\n",
      "                 '268449881': {'lat': 52.468116, 'lon': 13.5245912},\n",
      "                 '268449882': {'lat': 52.468295, 'lon': 13.5242232},\n",
      "                 '268449884': {'lat': 52.4698715, 'lon': 13.5223653},\n",
      "                 '268449885': {'lat': 52.4701409, 'lon': 13.5222788},\n",
      "                 '268449886': {'lat': 52.470295, 'lon': 13.5223224},\n",
      "                 '268449887': {'lat': 52.4704309, 'lon': 13.5224426},\n",
      "                 '268449888': {'lat': 52.4706715, 'lon': 13.5229147},\n",
      "                 '268449889': {'lat': 52.4707656, 'lon': 13.5234125},\n",
      "                 '268449890': {'lat': 52.470753, 'lon': 13.5237236},\n",
      "                 '268449891': {'lat': 52.4706662, 'lon': 13.5239704},\n",
      "                 '268618338': {'lat': 52.4681094, 'lon': 13.5250948},\n",
      "                 '268618339': {'lat': 52.4697217, 'lon': 13.5225205},\n",
      "                 '268821492': {'lat': 52.4690135, 'lon': 13.523357},\n",
      "                 '277811783': {'lat': 52.4683035, 'lon': 13.5257141},\n",
      "                 '4182739785': {'lat': 52.4707015, 'lon': 13.5230168},\n",
      "                 '442678074': {'lat': 52.4689199, 'lon': 13.526099},\n",
      "                 '442678081': {'lat': 52.4686637, 'lon': 13.526099},\n",
      "                 '442678086': {'lat': 52.4680989, 'lon': 13.5248459},\n",
      "                 '442678088': {'lat': 52.4681722, 'lon': 13.5244339},\n",
      "                 '442678091': {'lat': 52.4700022, 'lon': 13.5222967},\n",
      "                 '442678094': {'lat': 52.470546, 'lon': 13.5226228},\n",
      "                 '442678096': {'lat': 52.4707364, 'lon': 13.5231355},\n",
      "                 '442678099': {'lat': 52.4705514, 'lon': 13.5241596},\n",
      "                 '531265628': {'lat': 52.4691281, 'lon': 13.5259206},\n",
      "                 '539477764': {'lat': 52.4688861, 'lon': 13.5261059},\n",
      "                 '663346369': {'lat': 52.4682503, 'lon': 13.5256007},\n",
      "                 '691537727': {'lat': 52.4706138, 'lon': 13.5227806}},\n",
      "    'tags': {'length': 832.5719267538229, 'name': '', 'width': '3'}}\n"
     ]
    }
   ],
   "source": [
    "bla = assembleBikeTrack(ways_raw, ways_derived, nodes_raw, 152046379, True, False)\n",
    "pp.pprint(bla)"
   ]
  }
 ],
 "metadata": {
  "anaconda-cloud": {},
  "kernelspec": {
   "display_name": "Python [Root]",
   "language": "python",
   "name": "Python [Root]"
  },
  "language_info": {
   "codemirror_mode": {
    "name": "ipython",
    "version": 3
   },
   "file_extension": ".py",
   "mimetype": "text/x-python",
   "name": "python",
   "nbconvert_exporter": "python",
   "pygments_lexer": "ipython3",
   "version": "3.5.2"
  }
 },
 "nbformat": 4,
 "nbformat_minor": 0
}
