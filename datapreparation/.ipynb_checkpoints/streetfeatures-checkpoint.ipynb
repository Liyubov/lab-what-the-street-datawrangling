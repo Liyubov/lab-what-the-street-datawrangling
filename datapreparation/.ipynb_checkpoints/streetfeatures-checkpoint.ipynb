{
 "cells": [
  {
   "cell_type": "code",
   "execution_count": 23,
   "metadata": {
    "collapsed": true
   },
   "outputs": [],
   "source": [
    "%matplotlib inline"
   ]
  },
  {
   "cell_type": "markdown",
   "metadata": {},
   "source": [
    "# Calculate street features, save them to MongoDB 🚗 🚗 🚗\n",
    "\n",
    "This notebook calculates street features (sinuosity), and saves them to MongoDB.  \n",
    "\n",
    "Created on:  2016-12-14  \n",
    "Last update: 2016-12-14  \n",
    "Contact: michael.szell@moovel.com, michael.szell@gmail.com (Michael Szell)"
   ]
  },
  {
   "cell_type": "markdown",
   "metadata": {},
   "source": [
    "## Preliminaries"
   ]
  },
  {
   "cell_type": "markdown",
   "metadata": {},
   "source": [
    "### Parameters"
   ]
  },
  {
   "cell_type": "code",
   "execution_count": 24,
   "metadata": {
    "collapsed": true
   },
   "outputs": [],
   "source": [
    "cityname = \"berlin\""
   ]
  },
  {
   "cell_type": "markdown",
   "metadata": {},
   "source": [
    "### Imports"
   ]
  },
  {
   "cell_type": "code",
   "execution_count": 25,
   "metadata": {
    "collapsed": false
   },
   "outputs": [],
   "source": [
    "from __future__ import unicode_literals\n",
    "import sys\n",
    "import csv\n",
    "import os\n",
    "import math\n",
    "import pprint\n",
    "pp = pprint.PrettyPrinter(indent=4)\n",
    "import requests\n",
    "import gzip\n",
    "from collections import defaultdict\n",
    "import time\n",
    "import datetime\n",
    "import numpy as np\n",
    "from scipy import stats\n",
    "import pyprind\n",
    "import itertools\n",
    "import logging\n",
    "from ast import literal_eval as make_tuple\n",
    "from collections import OrderedDict\n",
    "from retrying import retry\n",
    "\n",
    "import osmnx as ox\n",
    "import networkx as nx\n",
    "import json\n",
    "from shapely.geometry import mapping, shape, LineString, LinearRing, Polygon, MultiPolygon\n",
    "import shapely\n",
    "import shapely.ops as ops\n",
    "from functools import partial\n",
    "import pyproj\n",
    "from scipy import spatial\n",
    "from haversine import haversine\n",
    "\n",
    "import pymongo\n",
    "from pymongo import MongoClient\n",
    "\n",
    "# plotting stuff\n",
    "import matplotlib.pyplot as plt\n",
    "\n",
    "with open(\"citydata/\" + cityname +\"_streetnames.txt\", \"r\") as ins:\n",
    "    streetnames = []\n",
    "    for line in ins:\n",
    "        streetnames.append(line.rstrip('\\n'))"
   ]
  },
  {
   "cell_type": "markdown",
   "metadata": {},
   "source": [
    "### DB Connection"
   ]
  },
  {
   "cell_type": "code",
   "execution_count": 26,
   "metadata": {
    "collapsed": true
   },
   "outputs": [],
   "source": [
    "client = MongoClient()\n",
    "db_raw = client[cityname+'_raw']\n",
    "ways_raw = db_raw['ways']\n",
    "nodes_raw = db_raw['nodes']\n",
    "db_derived = client[cityname+'_derived']\n",
    "streets = db_derived['streets']\n",
    "ways_derived = db_derived['ways']"
   ]
  },
  {
   "cell_type": "markdown",
   "metadata": {},
   "source": [
    "### Functions"
   ]
  },
  {
   "cell_type": "code",
   "execution_count": 27,
   "metadata": {
    "collapsed": false
   },
   "outputs": [],
   "source": [
    "def file_len(fname): # http://stackoverflow.com/questions/845058/how-to-get-line-count-cheaply-in-python\n",
    "    with open(fname) as f:\n",
    "        for i, l in enumerate(f):\n",
    "            pass\n",
    "    return i + 1\n",
    "\n",
    "def get_sinuosity(street):\n",
    "    endpointslength = 0\n",
    "    for component in street[\"components\"]:\n",
    "        for path in component:\n",
    "            pt1 = street[\"nodes\"][path[0]]\n",
    "            pt2 = street[\"nodes\"][path[-1]]\n",
    "            endpointslength += 1000*haversine((pt1[\"lat\"],pt1[\"lon\"]), (pt2[\"lat\"],pt2[\"lon\"]))\n",
    "    sinuosity = street[\"tags\"][\"length\"] / endpointslength\n",
    "    return sinuosity"
   ]
  },
  {
   "cell_type": "code",
   "execution_count": 41,
   "metadata": {
    "collapsed": false
   },
   "outputs": [
    {
     "data": {
      "image/png": "[encoded data removed]",
      "text/plain": [
       "<matplotlib.figure.Figure at 0x128353400>"
      ]
     },
     "metadata": {},
     "output_type": "display_data"
    }
   ],
   "source": [
    "cursor = streets.find()\n",
    "sinuosities = []\n",
    "for s in cursor:\n",
    "    sinuosities.append(get_sinuosity(s))\n",
    "#     print(s[\"tags\"][\"name\"] + \" has sinuosity \" + str(get_sinuosity(s)))\n",
    "\n",
    "plt.hist(sinuosities,  bins=np.logspace(0, 0.5, 200))\n",
    "plt.gca().set_xscale(\"log\")\n",
    "plt.axis([1,3,0,200])\n",
    "plt.show()"
   ]
  },
  {
   "cell_type": "markdown",
   "metadata": {},
   "source": [
    "## Assemble streets and unwind orders"
   ]
  },
  {
   "cell_type": "code",
   "execution_count": null,
   "metadata": {
    "collapsed": false
   },
   "outputs": [],
   "source": [
    "\n",
    "bar = pyprind.ProgBar(len(streetnames), bar_char='█', update_interval=1)\n",
    "streetnames_error = []\n",
    "for i,streetname in enumerate(streetnames):\n",
    "    try:\n",
    "        res = assembleStreet(ways_raw, ways_derived, nodes_raw, streetname)\n",
    "        res[\"_id\"] = i+1\n",
    "        streets.update_one({\"_id\":res[\"_id\"]}, {\"$set\":res}, upsert=True)\n",
    "    except:\n",
    "        #print(streetname + \" could not be inserted.\")\n",
    "        streetnames_error.append(streetname)\n",
    "        #sys.exit()\n",
    "    bar.update(item_id = streetname)\n",
    "    \n",
    "with open(\"logs/\" + cityname +\"_streetnameserror.txt\", \"w\") as f: \n",
    "    for s in streetnames_error:\n",
    "        f.write(\"%s\\n\" % s)"
   ]
  }
 ],
 "metadata": {
  "anaconda-cloud": {},
  "kernelspec": {
   "display_name": "Python [Root]",
   "language": "python",
   "name": "Python [Root]"
  },
  "language_info": {
   "codemirror_mode": {
    "name": "ipython",
    "version": 3
   },
   "file_extension": ".py",
   "mimetype": "text/x-python",
   "name": "python",
   "nbconvert_exporter": "python",
   "pygments_lexer": "ipython3",
   "version": "3.5.2"
  }
 },
 "nbformat": 4,
 "nbformat_minor": 0
}
